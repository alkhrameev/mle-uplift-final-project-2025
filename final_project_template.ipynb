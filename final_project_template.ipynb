{
 "cells": [
  {
   "cell_type": "code",
   "execution_count": 1,
   "metadata": {},
   "outputs": [
    {
     "name": "stderr",
     "output_type": "stream",
     "text": [
      "/Users/a.hrameev/miniconda3/envs/ya/lib/python3.11/site-packages/requests/__init__.py:86: RequestsDependencyWarning: Unable to find acceptable character detection dependency (chardet or charset_normalizer).\n",
      "  warnings.warn(\n"
     ]
    }
   ],
   "source": [
    "import os\n",
    "import matplotlib.pyplot as plt\n",
    "import seaborn as sns\n",
    "import numpy as np\n",
    "import pandas as pd\n",
    "from dotenv import load_dotenv, find_dotenv\n",
    "import mlflow"
   ]
  },
  {
   "cell_type": "code",
   "execution_count": 2,
   "metadata": {},
   "outputs": [],
   "source": [
    "load_dotenv(find_dotenv())\n",
    "\n",
    "os.environ[\"AWS_ACCESS_KEY_ID\"] = os.environ.get(\"AWS_ACCESS_KEY_ID\")\n",
    "os.environ[\"AWS_SECRET_ACCESS_KEY\"] = os.environ.get(\"AWS_SECRET_ACCESS_KEY\")\n",
    "os.environ[\"S3_BUCKET_NAME\"] = os.environ.get(\"S3_BUCKET_NAME\")\n",
    "os.environ[\"S3_ENDPOINT_URL\"] = \"https://storage.yandexcloud.net\"\n",
    "\n",
    "RANDOM_STATE = 42"
   ]
  },
  {
   "cell_type": "code",
   "execution_count": 3,
   "metadata": {},
   "outputs": [],
   "source": [
    "TRACKING_SERVER_HOST = \"127.0.0.1\"\n",
    "TRACKING_SERVER_PORT = 5000\n",
    "EXPERIMENT_NAME = \"sprint5\"\n",
    "\n",
    "mlflow.set_tracking_uri(f\"http://{TRACKING_SERVER_HOST}:{TRACKING_SERVER_PORT}\")\n",
    "mlflow.set_registry_uri(f\"http://{TRACKING_SERVER_HOST}:{TRACKING_SERVER_PORT}\")\n",
    "\n",
    "os.environ[\"MLFLOW_HTTP_REQUEST_TIMEOUT\"] = \"10\""
   ]
  },
  {
   "cell_type": "markdown",
   "metadata": {},
   "source": [
    "# Часть 1"
   ]
  },
  {
   "cell_type": "markdown",
   "metadata": {},
   "source": [
    "## Этап 1"
   ]
  },
  {
   "cell_type": "code",
   "execution_count": 4,
   "metadata": {},
   "outputs": [
    {
     "data": {
      "text/html": [
       "<div>\n",
       "<style scoped>\n",
       "    .dataframe tbody tr th:only-of-type {\n",
       "        vertical-align: middle;\n",
       "    }\n",
       "\n",
       "    .dataframe tbody tr th {\n",
       "        vertical-align: top;\n",
       "    }\n",
       "\n",
       "    .dataframe thead th {\n",
       "        text-align: right;\n",
       "    }\n",
       "</style>\n",
       "<table border=\"1\" class=\"dataframe\">\n",
       "  <thead>\n",
       "    <tr style=\"text-align: right;\">\n",
       "      <th></th>\n",
       "      <th>recency</th>\n",
       "      <th>history_segment</th>\n",
       "      <th>history</th>\n",
       "      <th>mens</th>\n",
       "      <th>womens</th>\n",
       "      <th>zip_code</th>\n",
       "      <th>newbie</th>\n",
       "      <th>channel</th>\n",
       "      <th>treatment</th>\n",
       "      <th>target</th>\n",
       "    </tr>\n",
       "  </thead>\n",
       "  <tbody>\n",
       "    <tr>\n",
       "      <th>0</th>\n",
       "      <td>10</td>\n",
       "      <td>1</td>\n",
       "      <td>142.44</td>\n",
       "      <td>1</td>\n",
       "      <td>0</td>\n",
       "      <td>1</td>\n",
       "      <td>0</td>\n",
       "      <td>1</td>\n",
       "      <td>1</td>\n",
       "      <td>0</td>\n",
       "    </tr>\n",
       "    <tr>\n",
       "      <th>1</th>\n",
       "      <td>6</td>\n",
       "      <td>2</td>\n",
       "      <td>329.08</td>\n",
       "      <td>1</td>\n",
       "      <td>1</td>\n",
       "      <td>2</td>\n",
       "      <td>1</td>\n",
       "      <td>2</td>\n",
       "      <td>0</td>\n",
       "      <td>0</td>\n",
       "    </tr>\n",
       "    <tr>\n",
       "      <th>2</th>\n",
       "      <td>7</td>\n",
       "      <td>1</td>\n",
       "      <td>180.65</td>\n",
       "      <td>0</td>\n",
       "      <td>1</td>\n",
       "      <td>1</td>\n",
       "      <td>1</td>\n",
       "      <td>2</td>\n",
       "      <td>1</td>\n",
       "      <td>0</td>\n",
       "    </tr>\n",
       "    <tr>\n",
       "      <th>3</th>\n",
       "      <td>9</td>\n",
       "      <td>4</td>\n",
       "      <td>675.83</td>\n",
       "      <td>1</td>\n",
       "      <td>0</td>\n",
       "      <td>2</td>\n",
       "      <td>1</td>\n",
       "      <td>2</td>\n",
       "      <td>0</td>\n",
       "      <td>0</td>\n",
       "    </tr>\n",
       "    <tr>\n",
       "      <th>4</th>\n",
       "      <td>2</td>\n",
       "      <td>0</td>\n",
       "      <td>45.34</td>\n",
       "      <td>1</td>\n",
       "      <td>0</td>\n",
       "      <td>0</td>\n",
       "      <td>0</td>\n",
       "      <td>2</td>\n",
       "      <td>1</td>\n",
       "      <td>0</td>\n",
       "    </tr>\n",
       "  </tbody>\n",
       "</table>\n",
       "</div>"
      ],
      "text/plain": [
       "   recency  history_segment  history  mens  womens  zip_code  newbie  channel  \\\n",
       "0       10                1   142.44     1       0         1       0        1   \n",
       "1        6                2   329.08     1       1         2       1        2   \n",
       "2        7                1   180.65     0       1         1       1        2   \n",
       "3        9                4   675.83     1       0         2       1        2   \n",
       "4        2                0    45.34     1       0         0       0        2   \n",
       "\n",
       "   treatment  target  \n",
       "0          1       0  \n",
       "1          0       0  \n",
       "2          1       0  \n",
       "3          0       0  \n",
       "4          1       0  "
      ]
     },
     "execution_count": 4,
     "metadata": {},
     "output_type": "execute_result"
    }
   ],
   "source": [
    "uplift_fp_data = pd.read_csv('uplift_fp_data.csv') \n",
    "uplift_fp_data.head()"
   ]
  },
  {
   "cell_type": "markdown",
   "metadata": {},
   "source": [
    "Категоиральных колонок нет, а значит перекодирвать не нужно"
   ]
  },
  {
   "cell_type": "code",
   "execution_count": 6,
   "metadata": {},
   "outputs": [
    {
     "data": {
      "text/plain": [
       "recency            0\n",
       "history_segment    0\n",
       "history            0\n",
       "mens               0\n",
       "womens             0\n",
       "zip_code           0\n",
       "newbie             0\n",
       "channel            0\n",
       "treatment          0\n",
       "target             0\n",
       "dtype: int64"
      ]
     },
     "execution_count": 6,
     "metadata": {},
     "output_type": "execute_result"
    }
   ],
   "source": [
    "uplift_fp_data.isnull().sum()\n"
   ]
  },
  {
   "cell_type": "markdown",
   "metadata": {},
   "source": [
    "Пропусков нет и это великлепно"
   ]
  },
  {
   "cell_type": "markdown",
   "metadata": {},
   "source": [
    "## Этап 2"
   ]
  },
  {
   "cell_type": "markdown",
   "metadata": {},
   "source": [
    "### EDA\n"
   ]
  },
  {
   "cell_type": "code",
   "execution_count": 7,
   "metadata": {},
   "outputs": [
    {
     "data": {
      "image/png": "[encoded data removed]",
      "text/plain": [
       "<Figure size 800x500 with 1 Axes>"
      ]
     },
     "metadata": {},
     "output_type": "display_data"
    },
    {
     "name": "stdout",
     "output_type": "stream",
     "text": [
      "Распределение по treatment и target:\n"
     ]
    },
    {
     "data": {
      "text/html": [
       "<div>\n",
       "<style scoped>\n",
       "    .dataframe tbody tr th:only-of-type {\n",
       "        vertical-align: middle;\n",
       "    }\n",
       "\n",
       "    .dataframe tbody tr th {\n",
       "        vertical-align: top;\n",
       "    }\n",
       "\n",
       "    .dataframe thead th {\n",
       "        text-align: right;\n",
       "    }\n",
       "</style>\n",
       "<table border=\"1\" class=\"dataframe\">\n",
       "  <thead>\n",
       "    <tr style=\"text-align: right;\">\n",
       "      <th>target</th>\n",
       "      <th>0</th>\n",
       "      <th>1</th>\n",
       "    </tr>\n",
       "    <tr>\n",
       "      <th>treatment</th>\n",
       "      <th></th>\n",
       "      <th></th>\n",
       "    </tr>\n",
       "  </thead>\n",
       "  <tbody>\n",
       "    <tr>\n",
       "      <th>0</th>\n",
       "      <td>36457</td>\n",
       "      <td>6156</td>\n",
       "    </tr>\n",
       "    <tr>\n",
       "      <th>1</th>\n",
       "      <td>18149</td>\n",
       "      <td>3238</td>\n",
       "    </tr>\n",
       "  </tbody>\n",
       "</table>\n",
       "</div>"
      ],
      "text/plain": [
       "target         0     1\n",
       "treatment             \n",
       "0          36457  6156\n",
       "1          18149  3238"
      ]
     },
     "metadata": {},
     "output_type": "display_data"
    },
    {
     "name": "stdout",
     "output_type": "stream",
     "text": [
      "\n",
      "Доли целевого события в каждой группе:\n"
     ]
    },
    {
     "data": {
      "text/html": [
       "<div>\n",
       "<style scoped>\n",
       "    .dataframe tbody tr th:only-of-type {\n",
       "        vertical-align: middle;\n",
       "    }\n",
       "\n",
       "    .dataframe tbody tr th {\n",
       "        vertical-align: top;\n",
       "    }\n",
       "\n",
       "    .dataframe thead th {\n",
       "        text-align: right;\n",
       "    }\n",
       "</style>\n",
       "<table border=\"1\" class=\"dataframe\">\n",
       "  <thead>\n",
       "    <tr style=\"text-align: right;\">\n",
       "      <th>target</th>\n",
       "      <th>0</th>\n",
       "      <th>1</th>\n",
       "    </tr>\n",
       "    <tr>\n",
       "      <th>treatment</th>\n",
       "      <th></th>\n",
       "      <th></th>\n",
       "    </tr>\n",
       "  </thead>\n",
       "  <tbody>\n",
       "    <tr>\n",
       "      <th>0</th>\n",
       "      <td>0.856</td>\n",
       "      <td>0.144</td>\n",
       "    </tr>\n",
       "    <tr>\n",
       "      <th>1</th>\n",
       "      <td>0.849</td>\n",
       "      <td>0.151</td>\n",
       "    </tr>\n",
       "  </tbody>\n",
       "</table>\n",
       "</div>"
      ],
      "text/plain": [
       "target         0      1\n",
       "treatment              \n",
       "0          0.856  0.144\n",
       "1          0.849  0.151"
      ]
     },
     "metadata": {},
     "output_type": "display_data"
    }
   ],
   "source": [
    "# Проверим распределение целевой переменной между контрольной и тестовой группами\n",
    "grouped = uplift_fp_data.groupby(['treatment', 'target']).size().reset_index(name='count')\n",
    "\n",
    "# Построим barplot\n",
    "plt.figure(figsize=(8, 5))\n",
    "sns.barplot(\n",
    "    data=grouped,\n",
    "    x='treatment',\n",
    "    y='count',\n",
    "    hue='target',\n",
    "    palette='Set2'\n",
    ")\n",
    "plt.title('Распределение целевой переменной по группам (контроль/тест)')\n",
    "plt.xlabel('Группа (0 - контроль, 1 - тест)')\n",
    "plt.ylabel('Количество наблюдений')\n",
    "plt.legend(title='Target')\n",
    "plt.show()\n",
    "\n",
    "# Также выведем абсолютные и относительные значения для контроля\n",
    "print(\"Распределение по treatment и target:\")\n",
    "display(\n",
    "    uplift_fp_data.groupby(['treatment', 'target']).size().unstack(fill_value=0)\n",
    ")\n",
    "print(\"\\nДоли целевого события в каждой группе:\")\n",
    "display(\n",
    "    uplift_fp_data.groupby('treatment')['target'].value_counts(normalize=True).unstack().round(3)\n",
    ")\n"
   ]
  },
  {
   "cell_type": "markdown",
   "metadata": {},
   "source": [
    "Проверим баланс классов"
   ]
  },
  {
   "cell_type": "code",
   "execution_count": 16,
   "metadata": {},
   "outputs": [
    {
     "data": {
      "text/plain": [
       "target\n",
       "0    0.853219\n",
       "1    0.146781\n",
       "Name: proportion, dtype: float64"
      ]
     },
     "execution_count": 16,
     "metadata": {},
     "output_type": "execute_result"
    }
   ],
   "source": [
    "uplift_fp_data['target'].value_counts(normalize=True)"
   ]
  },
  {
   "cell_type": "code",
   "execution_count": 15,
   "metadata": {},
   "outputs": [
    {
     "data": {
      "text/plain": [
       "treatment\n",
       "0    0.665828\n",
       "1    0.334172\n",
       "Name: proportion, dtype: float64"
      ]
     },
     "execution_count": 15,
     "metadata": {},
     "output_type": "execute_result"
    }
   ],
   "source": [
    "uplift_fp_data['treatment'].value_counts(normalize=True)"
   ]
  },
  {
   "cell_type": "markdown",
   "metadata": {},
   "source": [
    "### **Вывод по EDA:**\n",
    "\n",
    "- **Распределение целевой переменной (`target`) между контрольной (`treatment=0`) и тестовой (`treatment=1`) группами очень схожи.**\n",
    "- **Доля целевого события составляет примерно 14–15% в обеих группах.**\n",
    "- Это говорит о корректной рандомизации и отсутствии явных перекосов между группами.\n",
    "- Абсолютное количество наблюдений в контрольной группе примерно в два раза больше, чем в тестовой. Это важно учитывать при дальнейшем анализе.\n"
   ]
  },
  {
   "cell_type": "markdown",
   "metadata": {},
   "source": [
    "# Этап 2"
   ]
  },
  {
   "cell_type": "markdown",
   "metadata": {},
   "source": [
    "### Проверка на статистическую значимость"
   ]
  },
  {
   "cell_type": "markdown",
   "metadata": {},
   "source": [
    "Шаг 1: Разделите данные на контрольную и тестовую группы"
   ]
  },
  {
   "cell_type": "code",
   "execution_count": 7,
   "metadata": {},
   "outputs": [],
   "source": [
    "control = uplift_fp_data[uplift_fp_data['treatment'] == 0]['target']\n",
    "treatment = uplift_fp_data[uplift_fp_data['treatment'] == 1]['target']"
   ]
  },
  {
   "cell_type": "markdown",
   "metadata": {},
   "source": [
    "Шаг 2: Анализ средних значений и стандартных отклонений"
   ]
  },
  {
   "cell_type": "code",
   "execution_count": 8,
   "metadata": {},
   "outputs": [
    {
     "name": "stdout",
     "output_type": "stream",
     "text": [
      "📊 Статистики по группам:\n",
      "\n",
      "Контрольная группа:\n",
      "  Среднее значение:           0.1445\n",
      "  Стандартное отклонение:     0.3516\n",
      "\n",
      "Тестовая группа:\n",
      "  Среднее значение:           0.1514\n",
      "  Стандартное отклонение:     0.3584\n"
     ]
    }
   ],
   "source": [
    "mean_control = np.mean(control)\n",
    "std_control = np.std(control, ddof=1)\n",
    "\n",
    "mean_treatment = np.mean(treatment)\n",
    "std_treatment = np.std(treatment, ddof=1)\n",
    "\n",
    "# Вывод\n",
    "print(\"📊 Статистики по группам:\\n\")\n",
    "print(f\"Контрольная группа:\")\n",
    "print(f\"  Среднее значение:           {mean_control:.4f}\")\n",
    "print(f\"  Стандартное отклонение:     {std_control:.4f}\\n\")\n",
    "\n",
    "print(f\"Тестовая группа:\")\n",
    "print(f\"  Среднее значение:           {mean_treatment:.4f}\")\n",
    "print(f\"  Стандартное отклонение:     {std_treatment:.4f}\")"
   ]
  },
  {
   "cell_type": "markdown",
   "metadata": {},
   "source": [
    "#### Вывод по результатам сравнения групп\n",
    "\n",
    "- **Среднее значение** в тестовой группе (0.1514) чуть выше, чем в контрольной (0.1445).  \n",
    "- **Стандартное отклонение** также немного выше в тестовой группе (0.3584 против 0.3516), что говорит о немного большей разбросанности данных.  \n",
    "- Разница в средних значениях **незначительная** — предварительно можно предположить, что эффекта почти нет, однако для окончательного вывода стоит провести статистический тест (например, t-тест для независимых выборок), чтобы проверить, является ли эта разница статистически значимой.\n",
    "\n",
    "**Предварительный вывод:** изменений между контрольной и тестовой группой практически не наблюдается."
   ]
  },
  {
   "cell_type": "markdown",
   "metadata": {},
   "source": [
    "##### 📄 Шаг 3: Обоснование выбора статистического теста\n",
    "\n",
    "Целевая переменная `target` является бинарной (0 или 1), поэтому сравнение между контрольной и тестовой группами фактически означает сравнение **долей откликнувшихся пользователей**.\n",
    "\n",
    "##### Возможные тесты:\n",
    "- **t-тест для независимых выборок (Welch’s t-test)** — сравнивает средние (в нашем случае — доли), допускает разные дисперсии.\n",
    "- **Манна–Уитни (непараметрический тест)** — сравнивает распределения, используется если данные не нормальны.\n",
    "- **Z-тест для пропорций** — также подходит, но t-тест используется чаще, так как он встроен в большинство библиотек и адаптирован под реальную дисперсию.\n",
    "\n",
    "##### Наш подход:\n",
    "1. Проверяем нормальность распределений в каждой группе с помощью **теста Шапиро–Уилка**.\n",
    "2. Если обе группы нормальны (p > 0.05), используем **t-тест с поправкой на неравные дисперсии (Welch’s)**.\n",
    "3. Если хотя бы одно распределение не нормальное — используем **тест Манна–Уитни**.\n",
    "\n",
    "Таким образом, тест выбирается адаптивно и надёжно."
   ]
  },
  {
   "cell_type": "markdown",
   "metadata": {},
   "source": [
    "Шаг 4: Применяем выбранный статистический тест"
   ]
  },
  {
   "cell_type": "code",
   "execution_count": 9,
   "metadata": {},
   "outputs": [
    {
     "name": "stdout",
     "output_type": "stream",
     "text": [
      "\n",
      "📈 Проверка нормальности (тест Шапиро–Уилка):\n",
      "  Контрольная группа: p = 0.0000\n",
      "  Тестовая группа:    p = 0.0000\n",
      "\n",
      "🧪 Применённый тест: тест Манна–Уитни\n",
      "  Статистика: 458843376.5000\n",
      "  p-value:    0.0193\n"
     ]
    },
    {
     "name": "stderr",
     "output_type": "stream",
     "text": [
      "/Users/a.hrameev/miniconda3/envs/ya/lib/python3.11/site-packages/scipy/stats/_axis_nan_policy.py:586: UserWarning: scipy.stats.shapiro: For N > 5000, computed p-value may not be accurate. Current N is 42613.\n",
      "  res = hypotest_fun_out(*samples, **kwds)\n",
      "/Users/a.hrameev/miniconda3/envs/ya/lib/python3.11/site-packages/scipy/stats/_axis_nan_policy.py:586: UserWarning: scipy.stats.shapiro: For N > 5000, computed p-value may not be accurate. Current N is 21387.\n",
      "  res = hypotest_fun_out(*samples, **kwds)\n"
     ]
    }
   ],
   "source": [
    "from scipy.stats import shapiro, ttest_ind, mannwhitneyu\n",
    "\n",
    "# Проверка нормальности\n",
    "p_shapiro_control = shapiro(control).pvalue\n",
    "p_shapiro_treatment = shapiro(treatment).pvalue\n",
    "\n",
    "print(\"\\n📈 Проверка нормальности (тест Шапиро–Уилка):\")\n",
    "print(f\"  Контрольная группа: p = {p_shapiro_control:.4f}\")\n",
    "print(f\"  Тестовая группа:    p = {p_shapiro_treatment:.4f}\")\n",
    "\n",
    "# Выбор и применение теста\n",
    "if p_shapiro_control > 0.05 and p_shapiro_treatment > 0.05:\n",
    "    test_name = \"t-тест (Welch’s)\"\n",
    "    stat, p_value = ttest_ind(treatment, control, equal_var=False)\n",
    "else:\n",
    "    test_name = \"тест Манна–Уитни\"\n",
    "    stat, p_value = mannwhitneyu(treatment, control, alternative='two-sided')\n",
    "\n",
    "# Вывод результата\n",
    "print(f\"\\n🧪 Применённый тест: {test_name}\")\n",
    "print(f\"  Статистика: {stat:.4f}\")\n",
    "print(f\"  p-value:    {p_value:.4f}\")"
   ]
  },
  {
   "cell_type": "markdown",
   "metadata": {},
   "source": [
    "Шаг 5: Интерпретация результата"
   ]
  },
  {
   "cell_type": "code",
   "execution_count": 10,
   "metadata": {},
   "outputs": [
    {
     "name": "stdout",
     "output_type": "stream",
     "text": [
      "\n",
      "✅ Различия между группами статистически значимы (p < 0.05).\n"
     ]
    }
   ],
   "source": [
    "if p_value < 0.05:\n",
    "    print(\"\\n✅ Различия между группами статистически значимы (p < 0.05).\")\n",
    "else:\n",
    "    print(\"\\n❌ Различия между группами не являются статистически значимыми (p ≥ 0.05).\")"
   ]
  },
  {
   "cell_type": "markdown",
   "metadata": {},
   "source": [
    "#### **Вывод:**  \n",
    "Хотя среднее значение в тестовой группе лишь немного выше, чем в контрольной, а разброс данных схож, статистический анализ показал, что эта разница является статистически значимой (p < 0.05), что указывает на наличие реального эффекта, а не случайного колебания.\n"
   ]
  },
  {
   "cell_type": "markdown",
   "metadata": {},
   "source": [
    "## Построение корреляций"
   ]
  },
  {
   "cell_type": "code",
   "execution_count": 12,
   "metadata": {},
   "outputs": [
    {
     "data": {
      "image/png": "[encoded data removed]",
      "text/plain": [
       "<Figure size 1000x800 with 2 Axes>"
      ]
     },
     "metadata": {},
     "output_type": "display_data"
    },
    {
     "name": "stdout",
     "output_type": "stream",
     "text": [
      "Корреляция признаков с целевой переменной (target):\n",
      "history_segment    0.069734\n",
      "history            0.065153\n",
      "womens             0.051999\n",
      "zip_code           0.037570\n",
      "channel            0.010584\n",
      "treatment          0.009247\n",
      "mens               0.006712\n",
      "newbie            -0.073924\n",
      "recency           -0.074765\n",
      "Name: target, dtype: float64\n",
      "\n",
      "Корреляция признаков с переменной treatment:\n",
      "target             0.009247\n",
      "history_segment    0.001869\n",
      "newbie             0.001416\n",
      "history            0.001247\n",
      "recency            0.000831\n",
      "womens             0.000544\n",
      "zip_code           0.000214\n",
      "channel           -0.002954\n",
      "mens              -0.002991\n",
      "Name: treatment, dtype: float64\n"
     ]
    }
   ],
   "source": [
    "# Рассчитаем корреляционную матрицу по всем числовым признакам, включая target и treatment\n",
    "corr_matrix = uplift_fp_data.corr(numeric_only=True)\n",
    "\n",
    "# Визуализируем корреляционную матрицу с помощью тепловой карты\n",
    "plt.figure(figsize=(10, 8))\n",
    "sns.heatmap(corr_matrix, annot=True, fmt=\".2f\", cmap=\"coolwarm\", vmin=-1, vmax=1)\n",
    "plt.title(\"Корреляционная матрица признаков\")\n",
    "plt.show()\n",
    "\n",
    "# Посмотрим на корреляцию признаков с целевой переменной, исключая саму переменную\n",
    "corr_with_target = corr_matrix['target'].drop('target').sort_values(ascending=False)\n",
    "print(\"Корреляция признаков с целевой переменной (target):\")\n",
    "print(corr_with_target)\n",
    "\n",
    "# Посмотрим на корреляцию признаков с treatment, исключая саму переменную\n",
    "corr_with_treatment = corr_matrix['treatment'].drop('treatment').sort_values(ascending=False)\n",
    "print(\"\\nКорреляция признаков с переменной treatment:\")\n",
    "print(corr_with_treatment)\n"
   ]
  },
  {
   "cell_type": "markdown",
   "metadata": {},
   "source": [
    "#### **Вывод по корреляционному анализу:**\n",
    "\n",
    "- Анализ корреляции показал, что связь признаков с целевой переменной **слабая** (коэффициенты не превышают ±0.08), что указывает на отсутствие выраженной линейной зависимости. Наибольшую положительную корреляцию с целевой переменной имеют `history_segment` (0.0697) и `history` (0.0652), а наибольшую отрицательную — `recency` (-0.0748) и `newbie` (-0.0739).  \n",
    "\n",
    "- Связь признаков с переменной `treatment` практически отсутствует (значения коэффициентов близки к нулю), что говорит об отсутствии мультиколлинеарности между фактором назначения в тест и другими признаками.  \n",
    "\n",
    "- **Для стратификации** при формировании тестовой и контрольной групп можно использовать признаки, наиболее связанные с целевой переменной: `history_segment`, `history`, `recency`, `newbie`. Это позволит сбалансировать группы по значимым характеристикам.  \n",
    "\n",
    "- **Признаки с минимальной информативностью** по отношению к целевой переменной и `treatment` (`channel`, `mens`, `zip_code`) можно рассматривать как кандидатов для исключения из модели или анализа, так как их вклад в прогноз и сегментацию минимален."
   ]
  },
  {
   "cell_type": "markdown",
   "metadata": {},
   "source": [
    "## Этап 3"
   ]
  },
  {
   "cell_type": "markdown",
   "metadata": {},
   "source": [
    "#### **Обоснование выбора uplift-модели**\n",
    "В качестве бейзлайна для uplift-моделирования используется просто CatBoostClassifier.\n",
    " \n",
    "CatBoost хорошо работает с категориальными и числовыми признаками, устойчив к мультиколлинеарности и не требует сложной предобработки данных. \n",
    "Для задачи с бинарным treatment и целевой переменной CatBoostClassifier позволяет быстро получить сильную базовую модель для оценки uplift-эффекта."
   ]
  },
  {
   "cell_type": "markdown",
   "metadata": {},
   "source": [
    "### Разбиение выборки на тренировочную и тестовую"
   ]
  },
  {
   "cell_type": "code",
   "execution_count": 309,
   "metadata": {},
   "outputs": [],
   "source": [
    "from sklearn.model_selection import train_test_split\n",
    "\n",
    "# Разделим данные на признаки и целевую переменную\n",
    "X = uplift_fp_data.drop('target', axis=1)\n",
    "y = uplift_fp_data['target']\n",
    "\n",
    "X_train, X_test, y_train, y_test = train_test_split(\n",
    "    X, y, test_size=0.3, random_state=RANDOM_STATE, stratify=uplift_fp_data[['target', 'treatment']]\n",
    ")\n",
    "\n"
   ]
  },
  {
   "cell_type": "markdown",
   "metadata": {},
   "source": [
    "### Обучение выбранного бейзлайна"
   ]
  },
  {
   "cell_type": "code",
   "execution_count": 310,
   "metadata": {},
   "outputs": [
    {
     "name": "stdout",
     "output_type": "stream",
     "text": [
      "0:\tlearn: 0.6451566\ttotal: 9.4ms\tremaining: 930ms\n",
      "99:\tlearn: 0.3975504\ttotal: 212ms\tremaining: 0us\n"
     ]
    },
    {
     "data": {
      "text/plain": [
       "<catboost.core.CatBoostClassifier at 0x351f3dc10>"
      ]
     },
     "execution_count": 310,
     "metadata": {},
     "output_type": "execute_result"
    }
   ],
   "source": [
    "from catboost import CatBoostClassifier\n",
    "\n",
    "# CatBoostClassifier для бейзлайна\n",
    "catboost_model = CatBoostClassifier(\n",
    "    iterations=100,\n",
    "    depth=6,\n",
    "    learning_rate=0.1,\n",
    "    random_seed=RANDOM_STATE,\n",
    "    verbose=100,\n",
    "    allow_writing_files=False\n",
    ")\n",
    "\n",
    "# Обучаем CatBoost на тренировочных данных\n",
    "catboost_model.fit(X_train, y_train)\n"
   ]
  },
  {
   "cell_type": "markdown",
   "metadata": {},
   "source": [
    "### Важность признаков представить в виде графика"
   ]
  },
  {
   "cell_type": "code",
   "execution_count": 35,
   "metadata": {},
   "outputs": [
    {
     "data": {
      "image/png": "[encoded data removed]",
      "text/plain": [
       "<Figure size 1000x600 with 1 Axes>"
      ]
     },
     "metadata": {},
     "output_type": "display_data"
    },
    {
     "name": "stdout",
     "output_type": "stream",
     "text": [
      "Важности признаков:\n",
      "newbie: 18.6697\n",
      "recency: 15.9126\n",
      "womens: 12.8539\n",
      "channel: 10.4479\n",
      "zip_code: 10.2540\n",
      "mens: 9.5058\n",
      "history: 9.2048\n",
      "treatment: 7.1851\n",
      "history_segment: 5.9661\n"
     ]
    }
   ],
   "source": [
    "import matplotlib.pyplot as plt\n",
    "import numpy as np\n",
    "\n",
    "# Получим важности признаков из модели CatBoost\n",
    "feature_importances = catboost_model.get_feature_importance()\n",
    "feature_names = X_train.columns\n",
    "\n",
    "# Отсортируем признаки по важности\n",
    "indices = np.argsort(feature_importances)[::-1]\n",
    "sorted_features = feature_names[indices]\n",
    "sorted_importances = feature_importances[indices]\n",
    "\n",
    "plt.figure(figsize=(10, 6))\n",
    "plt.title(\"Важность признаков\")\n",
    "plt.barh(range(len(sorted_features)), sorted_importances[::-1], align='center')\n",
    "plt.yticks(range(len(sorted_features)), sorted_features[::-1])\n",
    "plt.xlabel(\"Важность\")\n",
    "plt.tight_layout()\n",
    "plt.savefig(\"feature_importance.png\", format=\"png\")  # Сохраняем как PNG\n",
    "plt.show()\n",
    "\n",
    "# Выведем важности признаков списком\n",
    "print(\"Важности признаков:\")\n",
    "for name, importance in zip(sorted_features, sorted_importances):\n",
    "    print(f\"{name}: {importance:.4f}\")\n"
   ]
  },
  {
   "cell_type": "markdown",
   "metadata": {},
   "source": [
    "На графике выше видно, что наибольшую важность для модели имеют следующие признаки (значения важности указаны в скобках):\n",
    " - newbie (новый клиент): 18.67\n",
    " - recency (давность последней покупки): 15.91\n",
    " - womens (пол — женский): 12.85\n",
    " - channel (канал коммуникации): 10.45\n",
    " - zip_code (почтовый индекс): 10.25\n",
    " - mens (пол — мужской): 9.51\n",
    " - history (история покупок): 9.20\n",
    " - treatment (факт воздействия): 7.19\n",
    " - history_segment (сегмент по истории): 5.97\n",
    "\n",
    " Наибольший вклад в предсказания модели вносит признак \"newbie\" (новый клиент), а также признаки, связанные с давностью последней покупки (recency) и полом клиента (womens, mens).\n",
    " Признаки \"channel\", \"zip_code\", \"history\" и \"treatment\" также оказывают заметное влияние на предсказания модели.\n",
    " Сегмент по истории (\"history_segment\") имеет наименьшую, но не нулевую важность.\n",
    "\n",
    " Это говорит о том, что статус клиента (новый или нет), его недавняя активность, а также пол и канал коммуникации — ключевые факторы для uplift-моделирования в данной задаче.\n",
    "Для дальнейшего улучшения модели стоит сфокусироваться на анализе поведения новых клиентов, а также на генерации новых признаков, связанных с каналом коммуникации и историей покупок.\n"
   ]
  },
  {
   "cell_type": "markdown",
   "metadata": {},
   "source": [
    "### Расчет метрик для выбранного бейзлайна на тестовой выборке"
   ]
  },
  {
   "cell_type": "code",
   "execution_count": 5,
   "metadata": {},
   "outputs": [],
   "source": [
    "from sklift.metrics import uplift_at_k, qini_auc_score, uplift_auc_score\n",
    "\n",
    "def calculate_uplift(model, X_test, treatment_col='treatment'):\n",
    "    \n",
    "    # Копии тестовых данных\n",
    "    X_treated = X_test.copy()\n",
    "    X_control = X_test.copy()\n",
    "    \n",
    "    # Устанавливаем значения treatment\n",
    "    X_treated[treatment_col] = 1\n",
    "    X_control[treatment_col] = 0\n",
    "    \n",
    "    # Предсказания\n",
    "    y_pred_treated = model.predict_proba(X_treated)[:, 1]\n",
    "    y_pred_control = model.predict_proba(X_control)[:, 1]\n",
    "    \n",
    "    # Uplift\n",
    "    uplift_vals = y_pred_treated - y_pred_control\n",
    "    \n",
    "    # Добавляем в копию тестовых данных\n",
    "    result_df = X_test.copy()\n",
    "    result_df['predicted_uplift'] = uplift_vals\n",
    "    \n",
    "    return result_df\n",
    "\n",
    "def evaluate_uplift_metrics(y_true, uplift_vals, treatment, k=0.3):\n",
    "    metrics = {\n",
    "        \"qini_auc\": qini_auc_score(y_true=y_true, uplift=uplift_vals, treatment=treatment),\n",
    "        \"uplift_auc\": uplift_auc_score(y_true=y_true, uplift=uplift_vals, treatment=treatment),\n",
    "        f\"uplift_at_{int(k*100)}\": uplift_at_k(\n",
    "            y_true=y_true, uplift=uplift_vals, treatment=treatment,\n",
    "            strategy='overall', k=k\n",
    "        )\n",
    "    }\n",
    "\n",
    "    return metrics"
   ]
  },
  {
   "cell_type": "code",
   "execution_count": null,
   "metadata": {},
   "outputs": [
    {
     "name": "stdout",
     "output_type": "stream",
     "text": [
      "qini_auc: 0.0574\n",
      "uplift_auc: 0.0256\n",
      "uplift_at_30%: 0.0387\n"
     ]
    }
   ],
   "source": [
    "X_test_uplift = calculate_uplift(catboost_model, X_test, treatment_col='treatment')\n",
    "\n",
    "metrics = evaluate_uplift_metrics(\n",
    "    y_true=y_test.values,\n",
    "    uplift_vals=X_test_uplift['predicted_uplift'].values,\n",
    "    treatment=X_test_uplift['treatment'].values,\n",
    "    k=0.3\n",
    ")\n",
    "\n",
    "for name, value in metrics.items():\n",
    "    print(f\"{name}: {value:.4f}\")"
   ]
  },
  {
   "cell_type": "markdown",
   "metadata": {},
   "source": [
    "#### 📊 Выводы по метрикам Catboost\n",
    "\n",
    "| Метрика        | Значение  |\n",
    "|:--------------:|:---------:|\n",
    "| **Qini AUC**   | 0.0574    |\n",
    "| **Uplift AUC** | 0.0256    |\n",
    "| **Uplift@30%** | 0.03687   |\n",
    "\n",
    "Значения метрик невысокие.\n",
    "\n",
    "Модель неплохо различает пользователей, на которых воздействие `treatment` оказывает положительный эффект, однако потенциал для улучшения остается значительным.\n",
    "\n",
    "**Рекомендации:**\n",
    "- Продолжить работу над feature engineering\n",
    "- Рассмотреть альтернативные модели (`Т-Learner`, `X-Learner` и др.)"
   ]
  },
  {
   "cell_type": "markdown",
   "metadata": {},
   "source": [
    "#### Логируем в mlflow"
   ]
  },
  {
   "cell_type": "code",
   "execution_count": null,
   "metadata": {},
   "outputs": [
    {
     "name": "stderr",
     "output_type": "stream",
     "text": [
      "2025/08/07 15:53:53 WARNING mlflow.utils.environment: Encountered an unexpected error while inferring pip requirements (model URI: /var/folders/md/wzk6m8kj39v1mnc59nyt9z5m0000gn/T/tmp4yxr5uwu/model, flavor: catboost). Fall back to return ['catboost==1.2.8']. Set logging level to DEBUG to see the full traceback. \n",
      "Successfully registered model 'uplift_baseline_catboost'.\n",
      "2025/08/07 15:53:54 INFO mlflow.store.model_registry.abstract_store: Waiting up to 300 seconds for model version to finish creation. Model name: uplift_baseline_catboost, version 1\n",
      "Created version '1' of model 'uplift_baseline_catboost'.\n"
     ]
    },
    {
     "name": "stdout",
     "output_type": "stream",
     "text": [
      "🏃 View run uplift_baseline_catboost at: http://127.0.0.1:5000/#/experiments/34/runs/13460957fab343d4bccf9431bb64f7a6\n",
      "🧪 View experiment at: http://127.0.0.1:5000/#/experiments/34\n"
     ]
    }
   ],
   "source": [
    "import mlflow.catboost\n",
    "from mlflow.models.signature import infer_signature\n",
    "\n",
    "RUN_NAME_CATBOOST = \"uplift_baseline_catboost\"\n",
    "REGISTRY_MODEL_NAME = \"uplift_baseline_catboost\"\n",
    "\n",
    "mlflow.set_experiment(EXPERIMENT_NAME)\n",
    "\n",
    "\n",
    "with mlflow.start_run(run_name=RUN_NAME_CATBOOST):\n",
    "    # Логируем параметры модели\n",
    "    mlflow.log_params(catboost_model.get_params())\n",
    "\n",
    "    # Логируем uplift-метрики\n",
    "    mlflow.log_metric(\"qini_auc\", metrics[\"qini_auc\"])\n",
    "    mlflow.log_metric(\"uplift_auc\", metrics[\"uplift_auc\"])\n",
    "    mlflow.log_metric(\"uplift_at_30\", metrics[\"uplift_at_30\"])\n",
    "\n",
    "    mlflow.log_artifact(\"feature_importance.png\")\n",
    "\n",
    "    # сигнатура для модели\n",
    "    signature = infer_signature(X_test, catboost_model.predict(X_test))\n",
    "\n",
    "    # Логируем модель в MLflow\n",
    "    mlflow.catboost.log_model(\n",
    "        cb_model=catboost_model,\n",
    "        name=\"uplift_model\",\n",
    "        registered_model_name=REGISTRY_MODEL_NAME, \n",
    "        pip_requirements=\"./requirements.txt\",\n",
    "        signature=signature\n",
    "    )"
   ]
  },
  {
   "cell_type": "markdown",
   "metadata": {},
   "source": [
    "# Обучение 2 моделей "
   ]
  },
  {
   "cell_type": "markdown",
   "metadata": {},
   "source": [
    "Некоторые uplift модели из библиотеки `causalml` будут требовать категориальные значения воздействия. Для этого используйте маппинг"
   ]
  },
  {
   "cell_type": "code",
   "execution_count": 325,
   "metadata": {},
   "outputs": [],
   "source": [
    "from sklearn.model_selection import train_test_split\n",
    "\n",
    "# Разделим данные на признаки и целевую переменную\n",
    "X = uplift_fp_data.drop('target', axis=1)\n",
    "y = uplift_fp_data['target']\n",
    "\n",
    "\n",
    "X_train, X_test, y_train, y_test = train_test_split(\n",
    "    X, y, test_size=0.3, random_state=RANDOM_STATE, stratify=uplift_fp_data[['target', 'treatment']] \n",
    ")"
   ]
  },
  {
   "cell_type": "markdown",
   "metadata": {},
   "source": [
    "### Обучение модели 1"
   ]
  },
  {
   "cell_type": "code",
   "execution_count": 326,
   "metadata": {},
   "outputs": [],
   "source": [
    "from causalml.inference.meta import BaseTClassifier\n",
    "from sklearn.ensemble import RandomForestClassifier\n",
    "\n",
    "# создаём базовые модели для тестовой и контрольной групп \n",
    "treatment_model = RandomForestClassifier(\n",
    "    n_estimators=100,\n",
    "    max_depth=6,\n",
    "    random_state=RANDOM_STATE,\n",
    "    class_weight='balanced',\n",
    ")\n",
    "\n",
    "control_model = RandomForestClassifier(\n",
    "    n_estimators=100,\n",
    "    max_depth=6,\n",
    "    random_state=RANDOM_STATE,\n",
    "    class_weight='balanced',\n",
    ")\n",
    "\n",
    "# инициализируем T-learner\n",
    "t_learner = BaseTClassifier(\n",
    "    treatment_learner=treatment_model,\n",
    "    control_learner=control_model,\n",
    "    control_name=0,  # название контрольной группы в столбце treatment\n",
    ")\n",
    "\n",
    "# обучаем T-learner\n",
    "t_learner.fit(\n",
    "    X=X_train.values,  # Признаки без столбца treatment\n",
    "    treatment=X_train['treatment'].values,       # Столбец с признаком воздействия\n",
    "    y=y_train.values                            # Целевая переменная\n",
    ")"
   ]
  },
  {
   "cell_type": "markdown",
   "metadata": {},
   "source": [
    "### Получение метрик по модели 1"
   ]
  },
  {
   "cell_type": "code",
   "execution_count": 334,
   "metadata": {},
   "outputs": [
    {
     "name": "stdout",
     "output_type": "stream",
     "text": [
      "qini_auc: 0.0607\n",
      "uplift_auc: 0.0269\n",
      "uplift_at_30%: 0.0344\n"
     ]
    }
   ],
   "source": [
    "uplift_pred = t_learner.predict(X_test.values)\n",
    "\n",
    "metrics = evaluate_uplift_metrics(\n",
    "    y_true=y_test.values,\n",
    "    uplift_vals=uplift_pred.squeeze(),\n",
    "    treatment=X_test['treatment'].values,\n",
    "    k=0.3\n",
    ")\n",
    "\n",
    "for name, value in metrics.items():\n",
    "    print(f\"{name}: {value:.4f}\")"
   ]
  },
  {
   "cell_type": "markdown",
   "metadata": {},
   "source": [
    "#### 📊 Сравнение с CatBoost\n",
    "\n",
    "| Метрика        | T-Learner | CatBoost | Δ (T − Cat) |\n",
    "|:--------------:|:---------:|:--------:|:-----------:|\n",
    "| **Qini AUC**   | 0.0607    | 0.0574   | +0.0033     |\n",
    "| **Uplift AUC** | 0.0269    | 0.0256   | +0.0013     |\n",
    "| **Uplift@30%** | 0.0344    | 0.0369   | -0.0025     |\n",
    "\n",
    "📌 **Вывод:** T-Learner показал чуть лучше результаты по Qini AUC и Uplift AUC, но проиграл CatBoost по Uplift@30%."
   ]
  },
  {
   "cell_type": "markdown",
   "metadata": {},
   "source": [
    "#### Логируем в mlflow"
   ]
  },
  {
   "cell_type": "code",
   "execution_count": null,
   "metadata": {},
   "outputs": [
    {
     "name": "stderr",
     "output_type": "stream",
     "text": [
      "2025/08/08 11:08:20 WARNING mlflow.models.model: `artifact_path` is deprecated. Please use `name` instead.\n",
      "\u001b[31m2025/08/08 11:08:23 WARNING mlflow.models.model: Model logged without a signature and input example. Please set `input_example` parameter when logging the model to auto infer the model signature.\u001b[0m\n",
      "2025/08/08 11:08:23 WARNING mlflow.models.model: `artifact_path` is deprecated. Please use `name` instead.\n",
      "\u001b[31m2025/08/08 11:08:26 WARNING mlflow.models.model: Model logged without a signature and input example. Please set `input_example` parameter when logging the model to auto infer the model signature.\u001b[0m\n",
      "/Users/a.hrameev/miniconda3/envs/ya/lib/python3.11/site-packages/mlflow/types/utils.py:452: UserWarning: Hint: Inferred schema contains integer column(s). Integer columns in Python cannot represent missing values. If your input data contains missing values at inference time, it will be encoded as floats and will cause a schema enforcement error. The best way to avoid this problem is to infer the model schema based on a realistic data sample (training dataset) that includes missing values. Alternatively, you can declare integer columns as doubles (float64) whenever these columns may have missing values. See `Handling Integers With Missing Values <https://www.mlflow.org/docs/latest/models.html#handling-integers-with-missing-values>`_ for more details.\n",
      "  warnings.warn(\n",
      "/Users/a.hrameev/miniconda3/envs/ya/lib/python3.11/site-packages/mlflow/pyfunc/utils/data_validation.py:186: UserWarning: \u001b[33mAdd type hints to the `predict` method to enable data validation and automatic signature inference during model logging. Check https://mlflow.org/docs/latest/model/python_model.html#type-hint-usage-in-pythonmodel for more details.\u001b[0m\n",
      "  color_warning(\n",
      "2025/08/08 11:08:27 WARNING mlflow.models.model: `artifact_path` is deprecated. Please use `name` instead.\n",
      "/Users/a.hrameev/miniconda3/envs/ya/lib/python3.11/site-packages/mlflow/pyfunc/__init__.py:3286: UserWarning: \u001b[1;33mAn input example was not provided when logging the model. To ensure the model signature functions correctly, specify the `input_example` parameter. See https://mlflow.org/docs/latest/model/signatures.html#model-input-example for more details about the benefits of using input_example.\u001b[0m\n",
      "  color_warning(\n",
      "Downloading artifacts: 100%|██████████| 1/1 [00:00<00:00, 1093.98it/s]\n",
      "Successfully registered model 'uplift_t_learner'.\n",
      "2025/08/08 11:08:32 INFO mlflow.store.model_registry.abstract_store: Waiting up to 300 seconds for model version to finish creation. Model name: uplift_t_learner, version 1\n",
      "Created version '1' of model 'uplift_t_learner'.\n"
     ]
    },
    {
     "name": "stdout",
     "output_type": "stream",
     "text": [
      "🏃 View run uplift_t_learner at: http://127.0.0.1:5000/#/experiments/34/runs/f4b628679d0949aaa177f12e2a8a086f\n",
      "🧪 View experiment at: http://127.0.0.1:5000/#/experiments/34\n"
     ]
    }
   ],
   "source": [
    "import joblib\n",
    "import mlflow\n",
    "import mlflow.sklearn\n",
    "from mlflow.models.signature import infer_signature\n",
    "from mlflow import pyfunc\n",
    "\n",
    "RUN_NAME = \"uplift_t_learner\"\n",
    "REGISTRY_MODEL_NAME = \"uplift_t_learner\"\n",
    "\n",
    "mlflow.set_experiment(EXPERIMENT_NAME)\n",
    "\n",
    "with mlflow.start_run(run_name=RUN_NAME):\n",
    "    # Логируем параметры моделей\n",
    "    mlflow.log_params({f\"treatment__{k}\": v for k, v in treatment_model.get_params().items()})\n",
    "    mlflow.log_params({f\"control__{k}\": v for k, v in control_model.get_params().items()})\n",
    "\n",
    "    # Логируем uplift-метрики\n",
    "    mlflow.log_metric(\"qini_auc\", metrics[\"qini_auc\"])\n",
    "    mlflow.log_metric(\"uplift_auc\", metrics[\"uplift_auc\"])\n",
    "    mlflow.log_metric(\"uplift_at_30\", metrics[\"uplift_at_30\"])\n",
    "\n",
    "    # Логируем базовые модели отдельно\n",
    "    mlflow.sklearn.log_model(treatment_model, artifact_path=\"treatment_model\")\n",
    "    mlflow.sklearn.log_model(control_model, artifact_path=\"control_model\")\n",
    "\n",
    "    # Сохраняем T-learner как артефакт\n",
    "    joblib.dump(t_learner, \"t_learner.pkl\")\n",
    "    mlflow.log_artifact(\"t_learner.pkl\")\n",
    "\n",
    "    # Сигнатура — вход как при обучении (с treatment)\n",
    "    signature = infer_signature(\n",
    "        X_test.head(5),  \n",
    "        t_learner.predict(X_test.head(5).values)\n",
    "    )\n",
    "\n",
    "    # PyFunc-обёртка для загрузки и предсказаний\n",
    "    class UpliftPyFunc(pyfunc.PythonModel):\n",
    "        def load_context(self, context):\n",
    "            import joblib\n",
    "            self.model = joblib.load(context.artifacts[\"t_learner\"])\n",
    "        def predict(self, context, model_input):\n",
    "            import numpy as np\n",
    "            X = model_input.values if hasattr(model_input, \"values\") else np.asarray(model_input)\n",
    "            return self.model.predict(X)\n",
    "\n",
    "    # Логируем единую модель в реестр\n",
    "    pyfunc.log_model(\n",
    "        artifact_path=\"uplift_model\",\n",
    "        python_model=UpliftPyFunc(),\n",
    "        artifacts={\"t_learner\": \"t_learner.pkl\"},\n",
    "        signature=signature,\n",
    "        registered_model_name=REGISTRY_MODEL_NAME,\n",
    "        pip_requirements=\"./requirements.txt\",\n",
    "    )"
   ]
  },
  {
   "cell_type": "markdown",
   "metadata": {},
   "source": [
    "### Обучение модели 2"
   ]
  },
  {
   "cell_type": "code",
   "execution_count": 335,
   "metadata": {},
   "outputs": [],
   "source": [
    "from sklearn.model_selection import train_test_split\n",
    "\n",
    "# Разделим данные на признаки и целевую переменную\n",
    "X = uplift_fp_data.drop('target', axis=1)\n",
    "y = uplift_fp_data['target']\n",
    "\n",
    "\n",
    "X_train, X_test, y_train, y_test = train_test_split(\n",
    "    X, y, test_size=0.3, random_state=RANDOM_STATE, stratify=uplift_fp_data[['target', 'treatment']] \n",
    ")"
   ]
  },
  {
   "cell_type": "code",
   "execution_count": 336,
   "metadata": {},
   "outputs": [
    {
     "name": "stderr",
     "output_type": "stream",
     "text": [
      "2025-08-08 13:52:20,093 INFO: generating out-of-fold CV outcome estimates\n",
      "2025-08-08 13:52:22,002 INFO: training the treatment effect model for 1 with R-loss\n"
     ]
    }
   ],
   "source": [
    "import numpy as np\n",
    "import pandas as pd\n",
    "from causalml.inference.meta import BaseRClassifier\n",
    "from xgboost import XGBClassifier, XGBRegressor\n",
    "\n",
    "features = uplift_fp_data.drop(columns=['target','treatment']).columns\n",
    "T = X_train.treatment.values  # 1 - treatment, 0 - control\n",
    "X_train = X_train[features]\n",
    "y_train = y_train.values  # целевая переменная\n",
    "T_test = X_test.treatment.values\n",
    "\n",
    "outcome_learner=XGBClassifier(\n",
    "    n_estimators=200,\n",
    "    learning_rate=0.02,\n",
    "    max_depth=6,\n",
    "    random_state=RANDOM_STATE,\n",
    "    verbosity=0\n",
    ")\n",
    "\n",
    "effect_learner=XGBRegressor(\n",
    "    n_estimators=200,\n",
    "    learning_rate=0.01,\n",
    "    max_depth=6,\n",
    "    random_state=RANDOM_STATE,\n",
    "    verbosity=0\n",
    ")\n",
    "\n",
    "propensity_learner=XGBClassifier(\n",
    "    n_estimators=200,\n",
    "    learning_rate=0.02,\n",
    "    max_depth=6,\n",
    "    random_state=RANDOM_STATE,\n",
    "    verbosity=0\n",
    ")\n",
    "\n",
    "\n",
    "# инициализируем R-learner с моделями XGBoost\n",
    "# outcome_learner — модель для предсказания исхода без учёта воздействия\n",
    "# effect_learner — модель для оценки эффекта воздействия\n",
    "# propensity_learner — модель для оценки вероятности получения воздействия\n",
    "r_learner = BaseRClassifier(\n",
    "    outcome_learner=outcome_learner,\n",
    "    effect_learner=effect_learner,\n",
    "    propensity_learner=propensity_learner\n",
    ")\n",
    "\n",
    "# инициализируем массив для propensity score\n",
    "e_x = np.zeros(len(X_train))\n",
    "T_test = X_test.treatment.values\n",
    "\n",
    "# обучаем модель для оценки propensity score\n",
    "model_e = XGBClassifier(n_estimators=200, \n",
    "                        learning_rate=0.02, \n",
    "                        max_depth=6, \n",
    "                        random_state=42, \n",
    "                        verbosity=0)\n",
    "model_e.fit(X_train, T)\n",
    "e_x = model_e.predict_proba(X_train)[:, 1]\n",
    "\n",
    "# обучаем модель R-learner\n",
    "r_learner.fit(\n",
    "    X=X_train,\n",
    "    treatment=T,\n",
    "    y=y_train,\n",
    "    p=e_x,\n",
    "    verbose=True\n",
    ")\n"
   ]
  },
  {
   "cell_type": "markdown",
   "metadata": {},
   "source": [
    "### Получение метрик по модели 2"
   ]
  },
  {
   "cell_type": "code",
   "execution_count": 338,
   "metadata": {},
   "outputs": [
    {
     "name": "stdout",
     "output_type": "stream",
     "text": [
      "qini_auc: 0.0520\n",
      "uplift_auc: 0.0233\n",
      "uplift_at_30%: 0.0229\n"
     ]
    }
   ],
   "source": [
    "uplift_pred = r_learner.predict(X_test.drop(columns=['treatment']).values)\n",
    "\n",
    "metrics = evaluate_uplift_metrics(\n",
    "    y_true=y_test.values,\n",
    "    uplift_vals=uplift_pred.squeeze(),\n",
    "    treatment=X_test['treatment'].values,\n",
    "    k=0.3\n",
    ")\n",
    "\n",
    "for name, value in metrics.items():\n",
    "    print(f\"{name}: {value:.4f}\")"
   ]
  },
  {
   "cell_type": "markdown",
   "metadata": {},
   "source": [
    "#### 📊 Сравнение метрик\n",
    "\n",
    "| Метрика        | T-Learner | R-Learner | CatBoost | Лидер |\n",
    "|:--------------:|:---------:|:---------:|:--------:|:-----:|\n",
    "| **Qini AUC**   | 0.0607    | 0.0520    | 0.0574   | T     |\n",
    "| **Uplift AUC** | 0.0269    | 0.0233    | 0.0256   | T     |\n",
    "| **Uplift@30%** | 0.0344    | 0.0229    | 0.0369   | Cat   |\n",
    "\n",
    "📌 **Вывод:**  \n",
    "- По **Qini AUC** и **Uplift AUC** лучше всего показал себя **T-Learner**.  \n",
    "- По **Uplift@30%** лидер — **CatBoost**.  \n",
    "- **R-Learner** на этих данных оказался слабее обоих.\n"
   ]
  },
  {
   "cell_type": "markdown",
   "metadata": {},
   "source": [
    "#### Логируем в mlflow"
   ]
  },
  {
   "cell_type": "code",
   "execution_count": null,
   "metadata": {},
   "outputs": [
    {
     "name": "stderr",
     "output_type": "stream",
     "text": [
      "2025/08/08 11:35:06 WARNING mlflow.models.model: `artifact_path` is deprecated. Please use `name` instead.\n",
      "/Users/a.hrameev/miniconda3/envs/ya/lib/python3.11/site-packages/xgboost/sklearn.py:1028: UserWarning: [11:35:07] WARNING: /Users/runner/work/xgboost/xgboost/src/c_api/c_api.cc:1427: Saving model in the UBJSON format as default.  You can use file extension: `json`, `ubj` or `deprecated` to choose between formats.\n",
      "  self.get_booster().save_model(fname)\n",
      "\u001b[31m2025/08/08 11:35:09 WARNING mlflow.models.model: Model logged without a signature and input example. Please set `input_example` parameter when logging the model to auto infer the model signature.\u001b[0m\n",
      "/Users/a.hrameev/miniconda3/envs/ya/lib/python3.11/site-packages/mlflow/types/utils.py:452: UserWarning: Hint: Inferred schema contains integer column(s). Integer columns in Python cannot represent missing values. If your input data contains missing values at inference time, it will be encoded as floats and will cause a schema enforcement error. The best way to avoid this problem is to infer the model schema based on a realistic data sample (training dataset) that includes missing values. Alternatively, you can declare integer columns as doubles (float64) whenever these columns may have missing values. See `Handling Integers With Missing Values <https://www.mlflow.org/docs/latest/models.html#handling-integers-with-missing-values>`_ for more details.\n",
      "  warnings.warn(\n",
      "/Users/a.hrameev/miniconda3/envs/ya/lib/python3.11/site-packages/mlflow/pyfunc/utils/data_validation.py:186: UserWarning: \u001b[33mAdd type hints to the `predict` method to enable data validation and automatic signature inference during model logging. Check https://mlflow.org/docs/latest/model/python_model.html#type-hint-usage-in-pythonmodel for more details.\u001b[0m\n",
      "  color_warning(\n",
      "2025/08/08 11:35:10 WARNING mlflow.models.model: `artifact_path` is deprecated. Please use `name` instead.\n",
      "2025/08/08 11:35:11 INFO mlflow.pyfunc: Validating input example against model signature\n",
      "Downloading artifacts: 100%|██████████| 1/1 [00:00<00:00, 708.26it/s]\n",
      "Downloading artifacts: 100%|██████████| 1/1 [00:00<00:00, 1264.11it/s]\n",
      "Registered model 'uplift_r_learner' already exists. Creating a new version of this model...\n",
      "2025/08/08 11:35:15 INFO mlflow.store.model_registry.abstract_store: Waiting up to 300 seconds for model version to finish creation. Model name: uplift_r_learner, version 3\n",
      "Created version '3' of model 'uplift_r_learner'.\n"
     ]
    },
    {
     "name": "stdout",
     "output_type": "stream",
     "text": [
      "🏃 View run uplift_r_learner at: http://127.0.0.1:5000/#/experiments/35/runs/42f473d147804ea9a954260259a2cef9\n",
      "🧪 View experiment at: http://127.0.0.1:5000/#/experiments/35\n"
     ]
    }
   ],
   "source": [
    "from pathlib import Path\n",
    "\n",
    "import joblib\n",
    "import mlflow\n",
    "from mlflow import pyfunc\n",
    "from mlflow.models.signature import infer_signature\n",
    "\n",
    "RUN_NAME = \"uplift_r_learner\"\n",
    "REGISTRY_MODEL_NAME = \"uplift_r_learner\"\n",
    "\n",
    "ART_R_LEARNER = \"r_learner.pkl\"\n",
    "ART_FEATURES = \"feature_names.json\"\n",
    "ART_XGB_E = \"model_e\"\n",
    "\n",
    "# feature_names может быть pd.Index / np.ndarray / list -> приводим к list и убираем 'treatment'\n",
    "feature_names_list = [c for c in list(feature_names) if c != \"treatment\"]\n",
    "\n",
    "\n",
    "mlflow.set_experiment(EXPERIMENT_NAME)\n",
    "\n",
    "with mlflow.start_run(run_name=RUN_NAME):\n",
    "    # логируем параметры бейзлайн-моделей\n",
    "    mlflow.log_params({f\"outcome__{k}\": v for k, v in outcome_learner.get_params().items()})\n",
    "    mlflow.log_params({f\"effect__{k}\": v for k, v in effect_learner.get_params().items()})\n",
    "    mlflow.log_params({f\"propensity__{k}\": v for k, v in propensity_learner.get_params().items()})\n",
    "\n",
    "    # логируем метрики uplift\n",
    "    mlflow.log_metrics({\n",
    "        \"qini_auc\": float(metrics[\"qini_auc\"]),\n",
    "        \"uplift_auc\": float(metrics[\"uplift_auc\"]),\n",
    "        \"uplift_at_30\": float(metrics[\"uplift_at_30\"]),\n",
    "    })\n",
    "\n",
    "    # логируем отдельную модель (например, XGBoost эффекта)\n",
    "    mlflow.xgboost.log_model(model_e, artifact_path=ART_XGB_E)\n",
    "\n",
    "    # сохраняем R-learner и артефакты локально и логируем их\n",
    "    joblib.dump(r_learner, ART_R_LEARNER)\n",
    "    mlflow.log_artifact(ART_R_LEARNER)\n",
    "    mlflow.log_artifact(ART_FEATURES)\n",
    "\n",
    "    sig_input = X_test[feature_names_list].head(5)\n",
    "    sig_output = r_learner.predict(sig_input.values)\n",
    "    signature = infer_signature(sig_input, sig_output)\n",
    "\n",
    "    # --- PyFunc-обёртка ---\n",
    "    class UpliftRPyFunc(pyfunc.PythonModel):\n",
    "        def load_context(self, context):\n",
    "            import json, joblib\n",
    "            self.model = joblib.load(context.artifacts[\"r_learner\"])\n",
    "            self.feature_names = json.loads(Path(context.artifacts[\"feature_names\"]).read_text(encoding=\"utf-8\"))\n",
    "\n",
    "        def _extract_X(self, model_input):\n",
    "            import numpy as np\n",
    "            import pandas as pd\n",
    "\n",
    "            # если DataFrame: проверяем наличие всех колонок и упорядочиваем\n",
    "            if isinstance(model_input, pd.DataFrame):\n",
    "                missing = [c for c in self.feature_names if c not in model_input.columns]\n",
    "                if missing:\n",
    "                    raise ValueError(f\"Отсутствуют признаки: {missing}\")\n",
    "                return model_input[self.feature_names].to_numpy()\n",
    "\n",
    "            # если Series: единичный объект\n",
    "            if isinstance(model_input, pd.Series):\n",
    "                missing = [c for c in self.feature_names if c not in model_input.index]\n",
    "                if missing:\n",
    "                    raise ValueError(f\"Отсутствуют признаки: {missing}\")\n",
    "                return model_input[self.feature_names].to_numpy().reshape(1, -1)\n",
    "\n",
    "            # иначе считаем, что это уже numpy-матрица корректной формы\n",
    "            X = np.asarray(model_input)\n",
    "            return X\n",
    "\n",
    "        def predict(self, context, model_input):\n",
    "            X = self._extract_X(model_input)\n",
    "            return self.model.predict(X)\n",
    "\n",
    "    # --- Логируем единую модель в реестр ---\n",
    "    pyfunc.log_model(\n",
    "        artifact_path=\"uplift_model\",\n",
    "        python_model=UpliftRPyFunc(),\n",
    "        artifacts={\n",
    "            \"r_learner\": ART_R_LEARNER,\n",
    "            \"feature_names\": ART_FEATURES,\n",
    "        },\n",
    "        signature=signature,\n",
    "        input_example=sig_input,  \n",
    "        registered_model_name=REGISTRY_MODEL_NAME,\n",
    "        pip_requirements=\"./requirements.txt\",\n",
    "    )"
   ]
  },
  {
   "cell_type": "markdown",
   "metadata": {},
   "source": [
    "#### 📊 Метрики T-Learner\n",
    "\n",
    "| Метрика        | Значение |\n",
    "|:--------------:|:--------:|\n",
    "| **Qini AUC**   | 0.0607   |\n",
    "| **Uplift AUC** | 0.0269   |\n",
    "| **Uplift@30%** | 0.0328   |\n",
    "\n",
    "Качество модели низкое — способность выявлять пользователей с положительным эффектом воздействия близка к случайной.\n",
    "\n",
    "#### 📌 Рекомендации\n",
    "- Улучшить признаки (**feature engineering**).\n",
    "- Проверить фичи отдельно в treatment и control.\n",
    "- Протестировать другие методы: X-Learner, R-Learner."
   ]
  },
  {
   "cell_type": "markdown",
   "metadata": {},
   "source": [
    "Проинтерпретируйте полученные результаты и обоснуйте выбор 1 модели в этой ячейке"
   ]
  },
  {
   "cell_type": "markdown",
   "metadata": {},
   "source": [
    "# Часть 2"
   ]
  },
  {
   "cell_type": "markdown",
   "metadata": {},
   "source": [
    "## Этап 1"
   ]
  },
  {
   "cell_type": "markdown",
   "metadata": {},
   "source": [
    "Возьмем базовый Catboost и погираемся со стртификацией"
   ]
  },
  {
   "cell_type": "code",
   "execution_count": 6,
   "metadata": {},
   "outputs": [],
   "source": [
    "from sklearn.model_selection import train_test_split\n",
    "import pandas as pd\n",
    "import numpy as np\n",
    "\n",
    "\n",
    "# Комбинируем значимые признаки в одну страту\n",
    "strata = (\n",
    "    uplift_fp_data['target'].astype(int).astype(str) + '_' +\n",
    "    uplift_fp_data['treatment'].astype(int).astype(str) + '_' +\n",
    "    uplift_fp_data['newbie'].astype(int).astype(str) + '_' +\n",
    "    uplift_fp_data['womens'].astype(int).astype(str)\n",
    ")"
   ]
  },
  {
   "cell_type": "code",
   "execution_count": 7,
   "metadata": {},
   "outputs": [],
   "source": [
    "X = uplift_fp_data.drop(columns=['target'])\n",
    "y = uplift_fp_data['target']\n",
    "\n",
    "X_train, X_test, y_train, y_test = train_test_split(\n",
    "    X, y,\n",
    "    test_size=0.3,\n",
    "    random_state=RANDOM_STATE,\n",
    "    stratify=strata\n",
    ")"
   ]
  },
  {
   "cell_type": "code",
   "execution_count": 350,
   "metadata": {},
   "outputs": [
    {
     "name": "stdout",
     "output_type": "stream",
     "text": [
      "0:\tlearn: 0.6451715\ttotal: 2.36ms\tremaining: 233ms\n",
      "99:\tlearn: 0.3978923\ttotal: 181ms\tremaining: 0us\n",
      "qini_auc: 0.0591\n",
      "uplift_auc: 0.0269\n",
      "uplift_at_30%: 0.0405\n"
     ]
    }
   ],
   "source": [
    "catboost_model = CatBoostClassifier(\n",
    "    iterations=100,\n",
    "    depth=6,\n",
    "    learning_rate=0.1,\n",
    "    random_seed=RANDOM_STATE,\n",
    "    verbose=100,\n",
    "    allow_writing_files=False\n",
    ")\n",
    "\n",
    "# Обучаем CatBoost на тренировочных данных\n",
    "catboost_model.fit(X_train, y_train)\n",
    "\n",
    "X_test_uplift = calculate_uplift(catboost_model, X_test, treatment_col='treatment')\n",
    "\n",
    "metrics = evaluate_uplift_metrics(\n",
    "    y_true=y_test.values,\n",
    "    uplift_vals=X_test_uplift['predicted_uplift'].values,\n",
    "    treatment=X_test_uplift['treatment'].values,\n",
    "    k=0.3\n",
    ")\n",
    "\n",
    "for name, value in metrics.items():\n",
    "    print(f\"{name}: {value:.4f}\")"
   ]
  },
  {
   "cell_type": "markdown",
   "metadata": {},
   "source": [
    "#### 📊 CatBoost: базовый vs после стратификации\n",
    "\n",
    "| Метрика        | Базовый  | После стратификации | Δ (Страт − Баз) |\n",
    "|:--------------:|:--------:|:-------------------:|:---------------:|\n",
    "| **Qini AUC**   | 0.0574   | 0.0591              | +0.0017         |\n",
    "| **Uplift AUC** | 0.0256   | 0.0269              | +0.0013         |\n",
    "| **Uplift@30%** | 0.0369   | 0.0405              | +0.0036         |\n",
    "\n",
    "📌 **Вывод:** стратификация дала небольшой, но стабильный прирост по всем метрикам."
   ]
  },
  {
   "cell_type": "markdown",
   "metadata": {},
   "source": [
    "### Подбор гиперпараметров"
   ]
  },
  {
   "cell_type": "code",
   "execution_count": 356,
   "metadata": {},
   "outputs": [
    {
     "name": "stderr",
     "output_type": "stream",
     "text": [
      "[I 2025-08-08 14:13:27,074] A new study created in memory with name: no-name-83b1d76b-6c86-4ae8-a4c5-92b039121227\n",
      "[I 2025-08-08 14:13:27,452] Trial 0 finished with value: 0.04157740752062347 and parameters: {'iterations': 141, 'depth': 8}. Best is trial 0 with value: 0.04157740752062347.\n",
      "[I 2025-08-08 14:13:27,852] Trial 1 finished with value: 0.041681330080540785 and parameters: {'iterations': 120, 'depth': 8}. Best is trial 1 with value: 0.041681330080540785.\n",
      "[I 2025-08-08 14:13:28,149] Trial 2 finished with value: 0.04226429842945806 and parameters: {'iterations': 131, 'depth': 7}. Best is trial 2 with value: 0.04226429842945806.\n",
      "[I 2025-08-08 14:13:28,475] Trial 3 finished with value: 0.04342829944924187 and parameters: {'iterations': 124, 'depth': 8}. Best is trial 3 with value: 0.04342829944924187.\n",
      "[I 2025-08-08 14:13:28,723] Trial 4 finished with value: 0.04089759923141284 and parameters: {'iterations': 107, 'depth': 7}. Best is trial 3 with value: 0.04342829944924187.\n",
      "[I 2025-08-08 14:13:29,152] Trial 5 finished with value: 0.04225290782063437 and parameters: {'iterations': 123, 'depth': 9}. Best is trial 3 with value: 0.04342829944924187.\n",
      "[I 2025-08-08 14:13:29,485] Trial 6 finished with value: 0.04807614207659547 and parameters: {'iterations': 103, 'depth': 9}. Best is trial 6 with value: 0.04807614207659547.\n",
      "[I 2025-08-08 14:13:29,749] Trial 7 finished with value: 0.04985229826485474 and parameters: {'iterations': 80, 'depth': 9}. Best is trial 7 with value: 0.04985229826485474.\n",
      "[I 2025-08-08 14:13:30,011] Trial 8 finished with value: 0.042495387174178556 and parameters: {'iterations': 95, 'depth': 8}. Best is trial 7 with value: 0.04985229826485474.\n",
      "[I 2025-08-08 14:13:30,573] Trial 9 finished with value: 0.03884467256029894 and parameters: {'iterations': 138, 'depth': 10}. Best is trial 7 with value: 0.04985229826485474.\n",
      "[I 2025-08-08 14:13:30,745] Trial 10 finished with value: 0.03462010086639136 and parameters: {'iterations': 80, 'depth': 6}. Best is trial 7 with value: 0.04985229826485474.\n",
      "[I 2025-08-08 14:13:31,089] Trial 11 finished with value: 0.04106056767113722 and parameters: {'iterations': 87, 'depth': 10}. Best is trial 7 with value: 0.04985229826485474.\n",
      "[I 2025-08-08 14:13:31,438] Trial 12 finished with value: 0.04626568218557492 and parameters: {'iterations': 104, 'depth': 9}. Best is trial 7 with value: 0.04985229826485474.\n",
      "[I 2025-08-08 14:13:31,762] Trial 13 finished with value: 0.04395699225139424 and parameters: {'iterations': 96, 'depth': 9}. Best is trial 7 with value: 0.04985229826485474.\n",
      "[I 2025-08-08 14:13:32,123] Trial 14 finished with value: 0.04332943416158047 and parameters: {'iterations': 109, 'depth': 9}. Best is trial 7 with value: 0.04985229826485474.\n",
      "[I 2025-08-08 14:13:32,487] Trial 15 finished with value: 0.04237577346839738 and parameters: {'iterations': 92, 'depth': 10}. Best is trial 7 with value: 0.04985229826485474.\n",
      "[I 2025-08-08 14:13:33,054] Trial 16 finished with value: 0.04402261263792115 and parameters: {'iterations': 150, 'depth': 9}. Best is trial 7 with value: 0.04985229826485474.\n",
      "[I 2025-08-08 14:13:33,249] Trial 17 finished with value: 0.037774737802097585 and parameters: {'iterations': 83, 'depth': 7}. Best is trial 7 with value: 0.04985229826485474.\n",
      "[I 2025-08-08 14:13:33,645] Trial 18 finished with value: 0.043010201327791875 and parameters: {'iterations': 101, 'depth': 10}. Best is trial 7 with value: 0.04985229826485474.\n",
      "[I 2025-08-08 14:13:34,026] Trial 19 finished with value: 0.04368871575045438 and parameters: {'iterations': 113, 'depth': 9}. Best is trial 7 with value: 0.04985229826485474.\n",
      "[I 2025-08-08 14:13:34,270] Trial 20 finished with value: 0.03910615130068695 and parameters: {'iterations': 88, 'depth': 8}. Best is trial 7 with value: 0.04985229826485474.\n",
      "[I 2025-08-08 14:13:34,613] Trial 21 finished with value: 0.04807614207659547 and parameters: {'iterations': 103, 'depth': 9}. Best is trial 7 with value: 0.04985229826485474.\n",
      "[I 2025-08-08 14:13:34,998] Trial 22 finished with value: 0.045152432868968306 and parameters: {'iterations': 99, 'depth': 9}. Best is trial 7 with value: 0.04985229826485474.\n",
      "[I 2025-08-08 14:13:35,487] Trial 23 finished with value: 0.04612772438428012 and parameters: {'iterations': 116, 'depth': 10}. Best is trial 7 with value: 0.04985229826485474.\n",
      "[I 2025-08-08 14:13:35,785] Trial 24 finished with value: 0.04838204552829364 and parameters: {'iterations': 90, 'depth': 9}. Best is trial 7 with value: 0.04985229826485474.\n",
      "[I 2025-08-08 14:13:36,029] Trial 25 finished with value: 0.04051120606200323 and parameters: {'iterations': 89, 'depth': 8}. Best is trial 7 with value: 0.04985229826485474.\n",
      "[I 2025-08-08 14:13:36,312] Trial 26 finished with value: 0.04852948864221229 and parameters: {'iterations': 85, 'depth': 9}. Best is trial 7 with value: 0.04985229826485474.\n",
      "[I 2025-08-08 14:13:36,653] Trial 27 finished with value: 0.04298193984912921 and parameters: {'iterations': 82, 'depth': 10}. Best is trial 7 with value: 0.04985229826485474.\n",
      "[I 2025-08-08 14:13:36,957] Trial 28 finished with value: 0.04852948864221229 and parameters: {'iterations': 85, 'depth': 9}. Best is trial 7 with value: 0.04985229826485474.\n",
      "[I 2025-08-08 14:13:37,181] Trial 29 finished with value: 0.038588184363965966 and parameters: {'iterations': 80, 'depth': 8}. Best is trial 7 with value: 0.04985229826485474.\n",
      "[I 2025-08-08 14:13:37,534] Trial 30 finished with value: 0.04118811475652798 and parameters: {'iterations': 86, 'depth': 10}. Best is trial 7 with value: 0.04985229826485474.\n",
      "[I 2025-08-08 14:13:37,836] Trial 31 finished with value: 0.048895656211395855 and parameters: {'iterations': 91, 'depth': 9}. Best is trial 7 with value: 0.04985229826485474.\n",
      "[I 2025-08-08 14:13:38,146] Trial 32 finished with value: 0.044389259034928324 and parameters: {'iterations': 94, 'depth': 9}. Best is trial 7 with value: 0.04985229826485474.\n",
      "[I 2025-08-08 14:13:38,380] Trial 33 finished with value: 0.03546570049983108 and parameters: {'iterations': 85, 'depth': 8}. Best is trial 7 with value: 0.04985229826485474.\n",
      "[I 2025-08-08 14:13:38,698] Trial 34 finished with value: 0.0446068517116871 and parameters: {'iterations': 97, 'depth': 9}. Best is trial 7 with value: 0.04985229826485474.\n",
      "[I 2025-08-08 14:13:38,952] Trial 35 finished with value: 0.039897725889148944 and parameters: {'iterations': 92, 'depth': 8}. Best is trial 7 with value: 0.04985229826485474.\n",
      "[I 2025-08-08 14:13:39,181] Trial 36 finished with value: 0.03546570049983108 and parameters: {'iterations': 85, 'depth': 8}. Best is trial 7 with value: 0.04985229826485474.\n",
      "[I 2025-08-08 14:13:39,378] Trial 37 finished with value: 0.037774737802097585 and parameters: {'iterations': 83, 'depth': 7}. Best is trial 7 with value: 0.04985229826485474.\n",
      "[I 2025-08-08 14:13:39,797] Trial 38 finished with value: 0.04560472715021768 and parameters: {'iterations': 127, 'depth': 9}. Best is trial 7 with value: 0.04985229826485474.\n",
      "[I 2025-08-08 14:13:40,097] Trial 39 finished with value: 0.048895656211395855 and parameters: {'iterations': 91, 'depth': 9}. Best is trial 7 with value: 0.04985229826485474.\n",
      "[I 2025-08-08 14:13:40,533] Trial 40 finished with value: 0.04468712781120732 and parameters: {'iterations': 108, 'depth': 10}. Best is trial 7 with value: 0.04985229826485474.\n",
      "[I 2025-08-08 14:13:40,829] Trial 41 finished with value: 0.048895656211395855 and parameters: {'iterations': 91, 'depth': 9}. Best is trial 7 with value: 0.04985229826485474.\n",
      "[I 2025-08-08 14:13:41,133] Trial 42 finished with value: 0.048895656211395855 and parameters: {'iterations': 91, 'depth': 9}. Best is trial 7 with value: 0.04985229826485474.\n",
      "[I 2025-08-08 14:13:41,432] Trial 43 finished with value: 0.04427544203481079 and parameters: {'iterations': 92, 'depth': 9}. Best is trial 7 with value: 0.04985229826485474.\n",
      "[I 2025-08-08 14:13:41,754] Trial 44 finished with value: 0.04510875203153636 and parameters: {'iterations': 98, 'depth': 9}. Best is trial 7 with value: 0.04985229826485474.\n",
      "[I 2025-08-08 14:13:42,049] Trial 45 finished with value: 0.04838204552829364 and parameters: {'iterations': 90, 'depth': 9}. Best is trial 7 with value: 0.04985229826485474.\n",
      "[I 2025-08-08 14:13:42,422] Trial 46 finished with value: 0.04212309128204658 and parameters: {'iterations': 95, 'depth': 10}. Best is trial 7 with value: 0.04985229826485474.\n",
      "[I 2025-08-08 14:13:42,637] Trial 47 finished with value: 0.040768167083211876 and parameters: {'iterations': 105, 'depth': 6}. Best is trial 7 with value: 0.04985229826485474.\n",
      "[I 2025-08-08 14:13:43,080] Trial 48 finished with value: 0.0422970052485335 and parameters: {'iterations': 135, 'depth': 9}. Best is trial 7 with value: 0.04985229826485474.\n",
      "[I 2025-08-08 14:13:43,300] Trial 49 finished with value: 0.038588184363965966 and parameters: {'iterations': 80, 'depth': 8}. Best is trial 7 with value: 0.04985229826485474.\n",
      "[I 2025-08-08 14:13:43,691] Trial 50 finished with value: 0.043010201327791875 and parameters: {'iterations': 100, 'depth': 10}. Best is trial 7 with value: 0.04985229826485474.\n",
      "[I 2025-08-08 14:13:43,997] Trial 51 finished with value: 0.045050923988093655 and parameters: {'iterations': 93, 'depth': 9}. Best is trial 7 with value: 0.04985229826485474.\n",
      "[I 2025-08-08 14:13:44,295] Trial 52 finished with value: 0.0482556974516872 and parameters: {'iterations': 88, 'depth': 9}. Best is trial 7 with value: 0.04985229826485474.\n",
      "[I 2025-08-08 14:13:44,565] Trial 53 finished with value: 0.04970234919346517 and parameters: {'iterations': 82, 'depth': 9}. Best is trial 7 with value: 0.04985229826485474.\n",
      "[I 2025-08-08 14:13:44,842] Trial 54 finished with value: 0.04970234919346517 and parameters: {'iterations': 82, 'depth': 9}. Best is trial 7 with value: 0.04985229826485474.\n",
      "[I 2025-08-08 14:13:45,131] Trial 55 finished with value: 0.04970234919346517 and parameters: {'iterations': 82, 'depth': 9}. Best is trial 7 with value: 0.04985229826485474.\n",
      "[I 2025-08-08 14:13:45,402] Trial 56 finished with value: 0.04970234919346517 and parameters: {'iterations': 82, 'depth': 9}. Best is trial 7 with value: 0.04985229826485474.\n",
      "[I 2025-08-08 14:13:45,631] Trial 57 finished with value: 0.038717055306773385 and parameters: {'iterations': 82, 'depth': 8}. Best is trial 7 with value: 0.04985229826485474.\n",
      "[I 2025-08-08 14:13:45,893] Trial 58 finished with value: 0.04985229826485474 and parameters: {'iterations': 80, 'depth': 9}. Best is trial 7 with value: 0.04985229826485474.\n",
      "[I 2025-08-08 14:13:46,207] Trial 59 finished with value: 0.04454040049657257 and parameters: {'iterations': 80, 'depth': 10}. Best is trial 7 with value: 0.04985229826485474.\n",
      "[I 2025-08-08 14:13:46,489] Trial 60 finished with value: 0.049693571917104384 and parameters: {'iterations': 83, 'depth': 9}. Best is trial 7 with value: 0.04985229826485474.\n",
      "[I 2025-08-08 14:13:46,767] Trial 61 finished with value: 0.04970234919346517 and parameters: {'iterations': 82, 'depth': 9}. Best is trial 7 with value: 0.04985229826485474.\n",
      "[I 2025-08-08 14:13:47,058] Trial 62 finished with value: 0.048265697557036136 and parameters: {'iterations': 87, 'depth': 9}. Best is trial 7 with value: 0.04985229826485474.\n",
      "[I 2025-08-08 14:13:47,332] Trial 63 finished with value: 0.04970234919346517 and parameters: {'iterations': 82, 'depth': 9}. Best is trial 7 with value: 0.04985229826485474.\n",
      "[I 2025-08-08 14:13:47,613] Trial 64 finished with value: 0.049179738280806434 and parameters: {'iterations': 84, 'depth': 9}. Best is trial 7 with value: 0.04985229826485474.\n",
      "[I 2025-08-08 14:13:47,881] Trial 65 finished with value: 0.04985229826485474 and parameters: {'iterations': 80, 'depth': 9}. Best is trial 7 with value: 0.04985229826485474.\n",
      "[I 2025-08-08 14:13:48,160] Trial 66 finished with value: 0.04985229826485474 and parameters: {'iterations': 80, 'depth': 9}. Best is trial 7 with value: 0.04985229826485474.\n",
      "[I 2025-08-08 14:13:48,395] Trial 67 finished with value: 0.037830110918566695 and parameters: {'iterations': 87, 'depth': 8}. Best is trial 7 with value: 0.04985229826485474.\n",
      "[I 2025-08-08 14:13:48,764] Trial 68 finished with value: 0.04454040049657257 and parameters: {'iterations': 80, 'depth': 10}. Best is trial 7 with value: 0.04985229826485474.\n",
      "[I 2025-08-08 14:13:49,061] Trial 69 finished with value: 0.0482556974516872 and parameters: {'iterations': 88, 'depth': 9}. Best is trial 7 with value: 0.04985229826485474.\n",
      "[I 2025-08-08 14:13:49,349] Trial 70 finished with value: 0.04852948864221229 and parameters: {'iterations': 85, 'depth': 9}. Best is trial 7 with value: 0.04985229826485474.\n",
      "[I 2025-08-08 14:13:49,619] Trial 71 finished with value: 0.04985229826485474 and parameters: {'iterations': 80, 'depth': 9}. Best is trial 7 with value: 0.04985229826485474.\n",
      "[I 2025-08-08 14:13:49,884] Trial 72 finished with value: 0.04985229826485474 and parameters: {'iterations': 80, 'depth': 9}. Best is trial 7 with value: 0.04985229826485474.\n",
      "[I 2025-08-08 14:13:50,352] Trial 73 finished with value: 0.04126514604676665 and parameters: {'iterations': 144, 'depth': 9}. Best is trial 7 with value: 0.04985229826485474.\n",
      "[I 2025-08-08 14:13:50,617] Trial 74 finished with value: 0.04985229826485474 and parameters: {'iterations': 80, 'depth': 9}. Best is trial 7 with value: 0.04985229826485474.\n",
      "[I 2025-08-08 14:13:50,881] Trial 75 finished with value: 0.04985229826485474 and parameters: {'iterations': 80, 'depth': 9}. Best is trial 7 with value: 0.04985229826485474.\n",
      "[I 2025-08-08 14:13:51,101] Trial 76 finished with value: 0.038588184363965966 and parameters: {'iterations': 80, 'depth': 8}. Best is trial 7 with value: 0.04985229826485474.\n",
      "[I 2025-08-08 14:13:51,389] Trial 77 finished with value: 0.04852948864221229 and parameters: {'iterations': 85, 'depth': 9}. Best is trial 7 with value: 0.04985229826485474.\n",
      "[I 2025-08-08 14:13:51,653] Trial 78 finished with value: 0.04985229826485474 and parameters: {'iterations': 80, 'depth': 9}. Best is trial 7 with value: 0.04985229826485474.\n",
      "[I 2025-08-08 14:13:51,996] Trial 79 finished with value: 0.04118811475652798 and parameters: {'iterations': 86, 'depth': 10}. Best is trial 7 with value: 0.04985229826485474.\n",
      "[I 2025-08-08 14:13:52,268] Trial 80 finished with value: 0.03932993494088752 and parameters: {'iterations': 122, 'depth': 7}. Best is trial 7 with value: 0.04985229826485474.\n",
      "[I 2025-08-08 14:13:52,536] Trial 81 finished with value: 0.04985229826485474 and parameters: {'iterations': 80, 'depth': 9}. Best is trial 7 with value: 0.04985229826485474.\n",
      "[I 2025-08-08 14:13:52,816] Trial 82 finished with value: 0.049179738280806434 and parameters: {'iterations': 84, 'depth': 9}. Best is trial 7 with value: 0.04985229826485474.\n",
      "[I 2025-08-08 14:13:53,191] Trial 83 finished with value: 0.043281604061033846 and parameters: {'iterations': 112, 'depth': 9}. Best is trial 7 with value: 0.04985229826485474.\n",
      "[I 2025-08-08 14:13:53,466] Trial 84 finished with value: 0.049179738280806434 and parameters: {'iterations': 84, 'depth': 9}. Best is trial 7 with value: 0.04985229826485474.\n",
      "[I 2025-08-08 14:13:53,716] Trial 85 finished with value: 0.04985229826485474 and parameters: {'iterations': 80, 'depth': 9}. Best is trial 7 with value: 0.04985229826485474.\n",
      "[I 2025-08-08 14:13:54,006] Trial 86 finished with value: 0.0482556974516872 and parameters: {'iterations': 89, 'depth': 9}. Best is trial 7 with value: 0.04985229826485474.\n",
      "[I 2025-08-08 14:13:54,290] Trial 87 finished with value: 0.0477528770442156 and parameters: {'iterations': 86, 'depth': 9}. Best is trial 7 with value: 0.04985229826485474.\n",
      "[I 2025-08-08 14:13:54,568] Trial 88 finished with value: 0.049179738280806434 and parameters: {'iterations': 84, 'depth': 9}. Best is trial 7 with value: 0.04985229826485474.\n",
      "[I 2025-08-08 14:13:54,884] Trial 89 finished with value: 0.04348600524036539 and parameters: {'iterations': 81, 'depth': 10}. Best is trial 7 with value: 0.04985229826485474.\n",
      "[I 2025-08-08 14:13:55,119] Trial 90 finished with value: 0.037830110918566695 and parameters: {'iterations': 87, 'depth': 8}. Best is trial 7 with value: 0.04985229826485474.\n",
      "[I 2025-08-08 14:13:55,381] Trial 91 finished with value: 0.04985229826485474 and parameters: {'iterations': 80, 'depth': 9}. Best is trial 7 with value: 0.04985229826485474.\n",
      "[I 2025-08-08 14:13:55,654] Trial 92 finished with value: 0.049693571917104384 and parameters: {'iterations': 83, 'depth': 9}. Best is trial 7 with value: 0.04985229826485474.\n",
      "[I 2025-08-08 14:13:55,923] Trial 93 finished with value: 0.050365435089844535 and parameters: {'iterations': 81, 'depth': 9}. Best is trial 93 with value: 0.050365435089844535.\n",
      "[I 2025-08-08 14:13:56,312] Trial 94 finished with value: 0.043045112781954886 and parameters: {'iterations': 117, 'depth': 9}. Best is trial 93 with value: 0.050365435089844535.\n",
      "[I 2025-08-08 14:13:56,589] Trial 95 finished with value: 0.049179738280806434 and parameters: {'iterations': 84, 'depth': 9}. Best is trial 93 with value: 0.050365435089844535.\n",
      "[I 2025-08-08 14:13:56,856] Trial 96 finished with value: 0.050365435089844535 and parameters: {'iterations': 81, 'depth': 9}. Best is trial 93 with value: 0.050365435089844535.\n",
      "[I 2025-08-08 14:13:57,151] Trial 97 finished with value: 0.0482556974516872 and parameters: {'iterations': 89, 'depth': 9}. Best is trial 93 with value: 0.050365435089844535.\n",
      "[I 2025-08-08 14:13:57,423] Trial 98 finished with value: 0.04970234919346517 and parameters: {'iterations': 82, 'depth': 9}. Best is trial 93 with value: 0.050365435089844535.\n",
      "[I 2025-08-08 14:13:57,705] Trial 99 finished with value: 0.0477528770442156 and parameters: {'iterations': 86, 'depth': 9}. Best is trial 93 with value: 0.050365435089844535.\n"
     ]
    },
    {
     "name": "stdout",
     "output_type": "stream",
     "text": [
      "Best hyperparameters: {'iterations': 81, 'depth': 9}\n",
      "Best score: 0.050365435089844535\n",
      "qini_auc: 0.0523\n",
      "uplift_auc: 0.0236\n",
      "uplift_at_30%: 0.0504\n"
     ]
    }
   ],
   "source": [
    "import optuna\n",
    "from catboost import CatBoostClassifier\n",
    "\n",
    "def objective(trial):\n",
    "    # Гиперпараметры для подбора\n",
    "    params = {\n",
    "        \"iterations\": trial.suggest_int(\"iterations\", 80, 150),\n",
    "        \"depth\": trial.suggest_int(\"depth\", 6, 10),\n",
    "        \"learning_rate\": 0.1,\n",
    "        \"random_seed\": RANDOM_STATE,\n",
    "        \"verbose\": False,\n",
    "        \"allow_writing_files\": False\n",
    "    }\n",
    "\n",
    "    catboost_model = CatBoostClassifier(**params)\n",
    "\n",
    "    # Обучаем модель\n",
    "    catboost_model.fit(X_train, y_train)\n",
    "\n",
    "    # Предсказания uplift\n",
    "    X_test_uplift = calculate_uplift(catboost_model, X_test, treatment_col='treatment')\n",
    "\n",
    "    # Метрика\n",
    "    metrics = evaluate_uplift_metrics(\n",
    "        y_true=y_test.values,\n",
    "        uplift_vals=X_test_uplift['predicted_uplift'].values,\n",
    "        treatment=X_test_uplift['treatment'].values,\n",
    "        k=0.3\n",
    "    )\n",
    "    # Возвращаем uplift_at_30% для оптимизации\n",
    "    uplift_at_30 = metrics[\"uplift_at_30%\"]\n",
    "    # Сохраняем метрики в trial для последующего доступа\n",
    "    trial.set_user_attr(\"metrics\", metrics)\n",
    "    return uplift_at_30\n",
    "\n",
    "# Запускаем Optuna\n",
    "study = optuna.create_study(direction='maximize')\n",
    "study.optimize(objective, n_trials=100)\n",
    "\n",
    "print(\"Best hyperparameters:\", study.best_params)\n",
    "print(\"Best score:\", study.best_value)\n",
    "\n",
    "# Получаем лучшие метрики из trial с лучшим результатом\n",
    "best_trial = study.best_trial\n",
    "best_metrics = best_trial.user_attrs.get(\"metrics\", {})\n",
    "\n",
    "for name, value in best_metrics.items():\n",
    "    print(f\"{name}: {value:.4f}\")"
   ]
  },
  {
   "cell_type": "markdown",
   "metadata": {},
   "source": [
    "#### 📊 CatBoost: после стратификации vs после подбора гиперпараметров\n",
    "\n",
    "| Метрика        | После стратификации | После подбора гиперпараметров | Δ (Гипер − Страт) |\n",
    "|:--------------:|:-------------------:|:-----------------------------:|:-----------------:|\n",
    "| **Qini AUC**   | 0.0591              | 0.0523                        | -0.0068           |\n",
    "| **Uplift AUC** | 0.0269              | 0.0236                        | -0.0033           |\n",
    "| **Uplift@30%** | 0.0405              | 0.0504                        | +0.0099           |\n",
    "\n",
    "📌 **Вывод:** подбор гиперпараметров ухудшил Qini AUC и Uplift AUC, но дал заметный прирост по Uplift@30%."
   ]
  },
  {
   "cell_type": "code",
   "execution_count": 359,
   "metadata": {},
   "outputs": [],
   "source": [
    "catboost_model = CatBoostClassifier(\n",
    "    iterations=81,\n",
    "    depth=9,\n",
    "    learning_rate=0.1,\n",
    "    random_seed=RANDOM_STATE,\n",
    "    verbose=100,\n",
    "    allow_writing_files=False\n",
    ")"
   ]
  },
  {
   "cell_type": "markdown",
   "metadata": {},
   "source": [
    "#### Генерация признаков (опционально)"
   ]
  },
  {
   "cell_type": "code",
   "execution_count": 360,
   "metadata": {},
   "outputs": [
    {
     "name": "stderr",
     "output_type": "stream",
     "text": [
      "/Users/a.hrameev/miniconda3/envs/ya/lib/python3.11/site-packages/autofeat/featsel.py:270: FutureWarning: Series.ravel is deprecated. The underlying array is already 1D, so ravel is not necessary.  Use `to_numpy()` for conversion to a numpy array instead.\n",
      "  if np.max(np.abs(correlations[c].ravel()[:i])) < 0.9:\n"
     ]
    },
    {
     "name": "stdout",
     "output_type": "stream",
     "text": [
      "0:\tlearn: 0.6454907\ttotal: 5.36ms\tremaining: 429ms\n",
      "80:\tlearn: 0.3928123\ttotal: 374ms\tremaining: 0us\n",
      "qini_auc: 0.0526\n",
      "uplift_auc: 0.0237\n",
      "uplift_at_30%: 0.0374\n"
     ]
    },
    {
     "name": "stderr",
     "output_type": "stream",
     "text": [
      "/Users/a.hrameev/miniconda3/envs/ya/lib/python3.11/site-packages/sklearn/utils/deprecation.py:132: FutureWarning: 'force_all_finite' was renamed to 'ensure_all_finite' in 1.6 and will be removed in 1.8.\n",
      "  warnings.warn(\n",
      "/Users/a.hrameev/miniconda3/envs/ya/lib/python3.11/site-packages/sklearn/utils/deprecation.py:132: FutureWarning: 'force_all_finite' was renamed to 'ensure_all_finite' in 1.6 and will be removed in 1.8.\n",
      "  warnings.warn(\n"
     ]
    }
   ],
   "source": [
    "from autofeat import AutoFeatRegressor\n",
    "from sklearn.pipeline import Pipeline\n",
    "\n",
    "autofeat = AutoFeatRegressor(\n",
    "    feateng_steps=1,\n",
    "    n_jobs=-1,\n",
    "    max_gb=1\n",
    ")\n",
    "\n",
    "pipe = Pipeline([\n",
    "    (\"feat\", autofeat),\n",
    "    (\"catboost_model\", catboost_model)\n",
    "])\n",
    "\n",
    "pipe.fit(X_train, y_train)\n",
    "\n",
    "X_test_uplift = calculate_uplift(pipe, X_test, treatment_col='treatment')\n",
    "\n",
    "metrics = evaluate_uplift_metrics(\n",
    "    y_true=y_test.values,\n",
    "    uplift_vals=X_test_uplift['predicted_uplift'].values,\n",
    "    treatment=X_test_uplift['treatment'].values,\n",
    "    k=0.3\n",
    ")\n",
    "\n",
    "for name, value in metrics.items():\n",
    "    print(f\"{name}: {value:.4f}\")"
   ]
  },
  {
   "cell_type": "markdown",
   "metadata": {},
   "source": [
    "#### 📊 CatBoost: гиперпараметры vs AutoFeat\n",
    "\n",
    "| Метрика        | После гиперпараметров | AutoFeat | Δ (AutoFeat − Гипер) |\n",
    "|:--------------:|:---------------------:|:--------:|:--------------------:|\n",
    "| **Qini AUC**   | 0.0523                | 0.0526   | +0.0003              |\n",
    "| **Uplift AUC** | 0.0236                | 0.0237   | +0.0001              |\n",
    "| **Uplift@30%** | 0.0504                | 0.0374   | -0.0130              |\n",
    "\n",
    "📌 **Вывод:** AutoFeat почти не повлиял на Qini и Uplift AUC, но сильно снизил Uplift@30%."
   ]
  },
  {
   "cell_type": "markdown",
   "metadata": {},
   "source": [
    "Теперь попробуем сделать отбор фичей"
   ]
  },
  {
   "cell_type": "code",
   "execution_count": 365,
   "metadata": {},
   "outputs": [
    {
     "name": "stdout",
     "output_type": "stream",
     "text": [
      "0:\tlearn: 0.6455052\ttotal: 2.66ms\tremaining: 213ms\n",
      "0:\tlearn: 0.6454358\ttotal: 2.19ms\tremaining: 175ms\n",
      "0:\tlearn: 0.6455035\ttotal: 6.15ms\tremaining: 492ms\n",
      "0:\tlearn: 0.6456801\ttotal: 2.5ms\tremaining: 200ms\n",
      "0:\tlearn: 0.6455697\ttotal: 5.13ms\tremaining: 410ms\n",
      "0:\tlearn: 0.6455943\ttotal: 2.98ms\tremaining: 239ms\n",
      "0:\tlearn: 0.6454041\ttotal: 2.81ms\tremaining: 225ms\n",
      "0:\tlearn: 0.6455904\ttotal: 2.18ms\tremaining: 175ms\n",
      "0:\tlearn: 0.6456799\ttotal: 2.11ms\tremaining: 169ms\n",
      "80:\tlearn: 0.4169448\ttotal: 155ms\tremaining: 0us\n",
      "0:\tlearn: 0.6456812\ttotal: 1.66ms\tremaining: 133ms\n",
      "80:\tlearn: 0.4139894\ttotal: 195ms\tremaining: 0us\n",
      "80:\tlearn: 0.4140465\ttotal: 170ms\tremaining: 0us\n",
      "80:\tlearn: 0.4159847\ttotal: 175ms\tremaining: 0us\n",
      "80:\tlearn: 0.4157930\ttotal: 188ms\tremaining: 0us\n",
      "80:\tlearn: 0.4139743\ttotal: 210ms\tremaining: 0us\n",
      "0:\tlearn: 0.6454384\ttotal: 3.29ms\tremaining: 263ms\n",
      "0:\tlearn: 0.6455885\ttotal: 1.67ms\tremaining: 133ms\n",
      "0:\tlearn: 0.6454370\ttotal: 1.69ms\tremaining: 135ms\n",
      "80:\tlearn: 0.4158493\ttotal: 181ms\tremaining: 0us\n",
      "0:\tlearn: 0.6455218\ttotal: 2.42ms\tremaining: 194ms\n",
      "0:\tlearn: 0.6455045\ttotal: 2.89ms\tremaining: 231ms\n",
      "80:\tlearn: 0.4169611\ttotal: 174ms\tremaining: 0us\n",
      "0:\tlearn: 0.6455807\ttotal: 1.49ms\tremaining: 119ms\n",
      "0:\tlearn: 0.6456744\ttotal: 1.91ms\tremaining: 152ms\n",
      "80:\tlearn: 0.4144006\ttotal: 147ms\tremaining: 0us\n",
      "80:\tlearn: 0.4159165\ttotal: 153ms\tremaining: 0us\n",
      "0:\tlearn: 0.6454064\ttotal: 1.56ms\tremaining: 125ms\n",
      "80:\tlearn: 0.4131967\ttotal: 369ms\tremaining: 0us\n",
      "0:\tlearn: 0.6455654\ttotal: 1.16ms\tremaining: 92.9ms\n",
      "80:\tlearn: 0.4152886\ttotal: 159ms\tremaining: 0us\n",
      "80:\tlearn: 0.4140149\ttotal: 172ms\tremaining: 0us\n",
      "0:\tlearn: 0.6455629\ttotal: 1.51ms\tremaining: 121ms\n",
      "80:\tlearn: 0.4157610\ttotal: 156ms\tremaining: 0us\n",
      "0:\tlearn: 0.6455026\ttotal: 4.01ms\tremaining: 321ms\n",
      "0:\tlearn: 0.6454354\ttotal: 1.55ms\tremaining: 124ms\n",
      "0:\tlearn: 0.6455887\ttotal: 1.58ms\tremaining: 126ms\n",
      "80:\tlearn: 0.4139307\ttotal: 191ms\tremaining: 0us\n",
      "80:\tlearn: 0.4169711\ttotal: 249ms\tremaining: 0us\n",
      "0:\tlearn: 0.6454852\ttotal: 2.94ms\tremaining: 235ms\n",
      "0:\tlearn: 0.6456826\ttotal: 1.62ms\tremaining: 129ms\n",
      "80:\tlearn: 0.4169128\ttotal: 247ms\tremaining: 0us\n",
      "0:\tlearn: 0.6456779\ttotal: 1.67ms\tremaining: 133ms\n",
      "80:\tlearn: 0.4141019\ttotal: 149ms\tremaining: 0us\n",
      "0:\tlearn: 0.6454298\ttotal: 1.66ms\tremaining: 133ms\n",
      "80:\tlearn: 0.4157209\ttotal: 152ms\tremaining: 0us\n",
      "80:\tlearn: 0.4157210\ttotal: 166ms\tremaining: 0us\n",
      "0:\tlearn: 0.6455455\ttotal: 1.66ms\tremaining: 133ms\n",
      "0:\tlearn: 0.6456043\ttotal: 2.45ms\tremaining: 196ms\n",
      "80:\tlearn: 0.4158421\ttotal: 171ms\tremaining: 0us\n",
      "80:\tlearn: 0.4139587\ttotal: 190ms\tremaining: 0us\n",
      "0:\tlearn: 0.6455827\ttotal: 1.78ms\tremaining: 143ms\n",
      "0:\tlearn: 0.6454134\ttotal: 2.4ms\tremaining: 192ms\n",
      "80:\tlearn: 0.4137441\ttotal: 216ms\tremaining: 0us\n",
      "0:\tlearn: 0.6455177\ttotal: 4.33ms\tremaining: 347ms\n",
      "80:\tlearn: 0.4143355\ttotal: 172ms\tremaining: 0us\n",
      "80:\tlearn: 0.4155297\ttotal: 166ms\tremaining: 0us\n",
      "0:\tlearn: 0.6454262\ttotal: 3.11ms\tremaining: 249ms\n",
      "0:\tlearn: 0.6455602\ttotal: 2.48ms\tremaining: 198ms\n",
      "80:\tlearn: 0.4160693\ttotal: 179ms\tremaining: 0us\n",
      "80:\tlearn: 0.4157887\ttotal: 149ms\tremaining: 0us\n",
      "0:\tlearn: 0.6455849\ttotal: 1.96ms\tremaining: 157ms\n",
      "0:\tlearn: 0.6455763\ttotal: 3.52ms\tremaining: 281ms\n",
      "80:\tlearn: 0.4132348\ttotal: 372ms\tremaining: 0us\n",
      "80:\tlearn: 0.4169577\ttotal: 321ms\tremaining: 0us\n",
      "0:\tlearn: 0.6454954\ttotal: 3.59ms\tremaining: 287ms\n",
      "0:\tlearn: 0.6456795\ttotal: 1.68ms\tremaining: 134ms\n",
      "80:\tlearn: 0.4137565\ttotal: 186ms\tremaining: 0us\n",
      "0:\tlearn: 0.6454338\ttotal: 2.99ms\tremaining: 239ms\n",
      "80:\tlearn: 0.4140903\ttotal: 197ms\tremaining: 0us\n",
      "0:\tlearn: 0.6454919\ttotal: 2.58ms\tremaining: 206ms\n",
      "80:\tlearn: 0.4143009\ttotal: 152ms\tremaining: 0us\n",
      "80:\tlearn: 0.4157011\ttotal: 147ms\tremaining: 0us\n",
      "80:\tlearn: 0.4169436\ttotal: 394ms\tremaining: 0us\n",
      "80:\tlearn: 0.4157913\ttotal: 170ms\tremaining: 0us\n",
      "80:\tlearn: 0.4157873\ttotal: 170ms\tremaining: 0us\n",
      "0:\tlearn: 0.6456756\ttotal: 1.31ms\tremaining: 105ms\n",
      "80:\tlearn: 0.4140013\ttotal: 178ms\tremaining: 0us\n",
      "80:\tlearn: 0.4169381\ttotal: 211ms\tremaining: 0us\n",
      "0:\tlearn: 0.6456771\ttotal: 855us\tremaining: 68.4ms\n",
      "80:\tlearn: 0.4137991\ttotal: 159ms\tremaining: 0us\n",
      "80:\tlearn: 0.4168968\ttotal: 111ms\tremaining: 0us\n",
      "0:\tlearn: 0.6456768\ttotal: 1.19ms\tremaining: 95.4ms\n",
      "80:\tlearn: 0.4132614\ttotal: 308ms\tremaining: 0us\n",
      "0:\tlearn: 0.6454739\ttotal: 3.77ms\tremaining: 301ms\n",
      "80:\tlearn: 0.4169289\ttotal: 99ms\tremaining: 0us\n",
      "80:\tlearn: 0.4169189\ttotal: 96.9ms\tremaining: 0us\n",
      "80:\tlearn: 0.4130277\ttotal: 207ms\tremaining: 0us\n",
      "0:\tlearn: 0.6454908\ttotal: 2.7ms\tremaining: 216ms\n",
      "80:\tlearn: 0.4131680\ttotal: 197ms\tremaining: 0us\n",
      "0:\tlearn: 0.6454963\ttotal: 1.79ms\tremaining: 143ms\n",
      "0:\tlearn: 0.6455935\ttotal: 3.7ms\tremaining: 296ms\n",
      "0:\tlearn: 0.6456801\ttotal: 2.13ms\tremaining: 170ms\n",
      "0:\tlearn: 0.6455697\ttotal: 1.52ms\tremaining: 121ms\n",
      "0:\tlearn: 0.6455865\ttotal: 1.58ms\tremaining: 127ms\n",
      "0:\tlearn: 0.6454041\ttotal: 1.61ms\tremaining: 129ms\n",
      "0:\tlearn: 0.6456235\ttotal: 1.5ms\tremaining: 120ms\n",
      "0:\tlearn: 0.6456799\ttotal: 1.59ms\tremaining: 127ms\n",
      "80:\tlearn: 0.4127618\ttotal: 209ms\tremaining: 0us\n",
      "80:\tlearn: 0.4138271\ttotal: 226ms\tremaining: 0us\n",
      "80:\tlearn: 0.4127962\ttotal: 236ms\tremaining: 0us\n",
      "80:\tlearn: 0.4112787\ttotal: 260ms\tremaining: 0us\n",
      "80:\tlearn: 0.4127277\ttotal: 254ms\tremaining: 0us\n",
      "80:\tlearn: 0.4103582\ttotal: 250ms\tremaining: 0us\n",
      "0:\tlearn: 0.6455770\ttotal: 1.68ms\tremaining: 134ms\n",
      "0:\tlearn: 0.6456812\ttotal: 1.77ms\tremaining: 141ms\n",
      "80:\tlearn: 0.4137454\ttotal: 246ms\tremaining: 0us\n",
      "0:\tlearn: 0.6456278\ttotal: 2.17ms\tremaining: 174ms\n",
      "0:\tlearn: 0.6455218\ttotal: 3.55ms\tremaining: 284ms\n",
      "0:\tlearn: 0.6454833\ttotal: 2.75ms\tremaining: 220ms\n",
      "0:\tlearn: 0.6454370\ttotal: 1.73ms\tremaining: 138ms\n",
      "0:\tlearn: 0.6456744\ttotal: 3.42ms\tremaining: 273ms\n",
      "80:\tlearn: 0.4097581\ttotal: 383ms\tremaining: 0us\n",
      "0:\tlearn: 0.6455742\ttotal: 3.14ms\tremaining: 251ms\n",
      "80:\tlearn: 0.4126608\ttotal: 268ms\tremaining: 0us\n",
      "80:\tlearn: 0.4125723\ttotal: 250ms\tremaining: 0us\n",
      "80:\tlearn: 0.4137051\ttotal: 267ms\tremaining: 0us\n",
      "80:\tlearn: 0.4105996\ttotal: 263ms\tremaining: 0us\n",
      "80:\tlearn: 0.4137266\ttotal: 252ms\tremaining: 0us\n",
      "0:\tlearn: 0.6456826\ttotal: 3.04ms\tremaining: 243ms\n",
      "0:\tlearn: 0.6455531\ttotal: 2.1ms\tremaining: 168ms\n",
      "0:\tlearn: 0.6456268\ttotal: 2.67ms\tremaining: 214ms\n",
      "80:\tlearn: 0.4121764\ttotal: 285ms\tremaining: 0us\n",
      "0:\tlearn: 0.6454064\ttotal: 3.67ms\tremaining: 294ms\n",
      "0:\tlearn: 0.6456779\ttotal: 3.36ms\tremaining: 269ms\n",
      "0:\tlearn: 0.6455629\ttotal: 1.62ms\tremaining: 130ms\n",
      "80:\tlearn: 0.4112307\ttotal: 335ms\tremaining: 0us\n",
      "0:\tlearn: 0.6454859\ttotal: 1.52ms\tremaining: 122ms\n",
      "80:\tlearn: 0.4124688\ttotal: 232ms\tremaining: 0us\n",
      "80:\tlearn: 0.4135218\ttotal: 217ms\tremaining: 0us\n",
      "80:\tlearn: 0.4136251\ttotal: 243ms\tremaining: 0us\n",
      "80:\tlearn: 0.4123407\ttotal: 242ms\tremaining: 0us\n",
      "80:\tlearn: 0.4100935\ttotal: 237ms\tremaining: 0us\n",
      "0:\tlearn: 0.6456366\ttotal: 1.34ms\tremaining: 108ms\n",
      "0:\tlearn: 0.6455894\ttotal: 1.34ms\tremaining: 107ms\n",
      "0:\tlearn: 0.6456756\ttotal: 1.56ms\tremaining: 125ms\n",
      "80:\tlearn: 0.4124781\ttotal: 237ms\tremaining: 0us\n",
      "0:\tlearn: 0.6456795\ttotal: 1.52ms\tremaining: 121ms\n",
      "80:\tlearn: 0.4095667\ttotal: 444ms\tremaining: 0us\n",
      "0:\tlearn: 0.6454298\ttotal: 3.73ms\tremaining: 299ms\n",
      "0:\tlearn: 0.6455455\ttotal: 1.78ms\tremaining: 142ms\n",
      "0:\tlearn: 0.6455690\ttotal: 4.25ms\tremaining: 340ms\n",
      "80:\tlearn: 0.4110024\ttotal: 241ms\tremaining: 0us\n",
      "0:\tlearn: 0.6455071\ttotal: 2.04ms\tremaining: 163ms\n",
      "80:\tlearn: 0.4128955\ttotal: 205ms\tremaining: 0us\n",
      "80:\tlearn: 0.4138735\ttotal: 223ms\tremaining: 0us\n",
      "80:\tlearn: 0.4129711\ttotal: 226ms\tremaining: 0us\n",
      "80:\tlearn: 0.4139417\ttotal: 229ms\tremaining: 0us\n",
      "0:\tlearn: 0.6456227\ttotal: 1.73ms\tremaining: 138ms\n",
      "80:\tlearn: 0.4107516\ttotal: 226ms\tremaining: 0us\n",
      "0:\tlearn: 0.6456768\ttotal: 1.48ms\tremaining: 118ms\n",
      "0:\tlearn: 0.6455617\ttotal: 1.54ms\tremaining: 123ms\n",
      "0:\tlearn: 0.6456771\ttotal: 1.7ms\tremaining: 136ms\n",
      "80:\tlearn: 0.4126462\ttotal: 237ms\tremaining: 0us\n",
      "0:\tlearn: 0.6454262\ttotal: 1.5ms\tremaining: 120ms\n",
      "0:\tlearn: 0.6455602\ttotal: 1.63ms\tremaining: 131ms\n",
      "80:\tlearn: 0.4110042\ttotal: 294ms\tremaining: 0us\n",
      "0:\tlearn: 0.6454695\ttotal: 2.55ms\tremaining: 204ms\n",
      "80:\tlearn: 0.4093780\ttotal: 420ms\tremaining: 0us\n",
      "0:\tlearn: 0.6455736\ttotal: 3.27ms\tremaining: 261ms\n",
      "80:\tlearn: 0.4125508\ttotal: 282ms\tremaining: 0us\n",
      "80:\tlearn: 0.4136990\ttotal: 264ms\tremaining: 0us\n",
      "80:\tlearn: 0.4124378\ttotal: 269ms\tremaining: 0us\n",
      "80:\tlearn: 0.4137193\ttotal: 266ms\tremaining: 0us\n",
      "80:\tlearn: 0.4104171\ttotal: 264ms\tremaining: 0us\n",
      "80:\tlearn: 0.4125669\ttotal: 248ms\tremaining: 0us\n",
      "80:\tlearn: 0.4112807\ttotal: 201ms\tremaining: 0us\n",
      "80:\tlearn: 0.4093528\ttotal: 225ms\tremaining: 0us\n",
      "0:\tlearn: 0.6455529\ttotal: 2.22ms\tremaining: 178ms\n",
      "80:\tlearn: 0.4096715\ttotal: 186ms\tremaining: 0us\n",
      "0:\tlearn: 0.6456801\ttotal: 1.34ms\tremaining: 107ms\n",
      "0:\tlearn: 0.6455697\ttotal: 2.57ms\tremaining: 205ms\n",
      "0:\tlearn: 0.6455865\ttotal: 1.61ms\tremaining: 129ms\n",
      "0:\tlearn: 0.6454495\ttotal: 4.38ms\tremaining: 351ms\n",
      "0:\tlearn: 0.6451495\ttotal: 2.69ms\tremaining: 215ms\n",
      "0:\tlearn: 0.6456235\ttotal: 2.37ms\tremaining: 190ms\n",
      "0:\tlearn: 0.6456799\ttotal: 5.67ms\tremaining: 454ms\n",
      "80:\tlearn: 0.4103798\ttotal: 244ms\tremaining: 0us\n",
      "80:\tlearn: 0.4093505\ttotal: 262ms\tremaining: 0us\n",
      "80:\tlearn: 0.4069241\ttotal: 262ms\tremaining: 0us\n",
      "80:\tlearn: 0.4099317\ttotal: 272ms\tremaining: 0us\n",
      "0:\tlearn: 0.6456812\ttotal: 1.23ms\tremaining: 98.2ms\n",
      "80:\tlearn: 0.4092816\ttotal: 271ms\tremaining: 0us\n",
      "80:\tlearn: 0.4107530\ttotal: 268ms\tremaining: 0us\n",
      "0:\tlearn: 0.6455770\ttotal: 1.58ms\tremaining: 126ms\n",
      "0:\tlearn: 0.6451848\ttotal: 2.21ms\tremaining: 177ms\n",
      "0:\tlearn: 0.6455218\ttotal: 2.14ms\tremaining: 171ms\n",
      "0:\tlearn: 0.6456278\ttotal: 1.51ms\tremaining: 121ms\n",
      "0:\tlearn: 0.6456744\ttotal: 1.21ms\tremaining: 96.6ms\n",
      "80:\tlearn: 0.4098729\ttotal: 386ms\tremaining: 0us\n",
      "0:\tlearn: 0.6454611\ttotal: 3.4ms\tremaining: 272ms\n",
      "80:\tlearn: 0.4093811\ttotal: 250ms\tremaining: 0us\n",
      "80:\tlearn: 0.4101139\ttotal: 277ms\tremaining: 0us\n",
      "80:\tlearn: 0.4073966\ttotal: 260ms\tremaining: 0us\n",
      "0:\tlearn: 0.6455531\ttotal: 1.61ms\tremaining: 129ms\n",
      "80:\tlearn: 0.4096515\ttotal: 282ms\tremaining: 0us\n",
      "80:\tlearn: 0.4090596\ttotal: 275ms\tremaining: 0us\n",
      "0:\tlearn: 0.6456826\ttotal: 1.53ms\tremaining: 122ms\n",
      "0:\tlearn: 0.6451570\ttotal: 3.85ms\tremaining: 308ms\n",
      "80:\tlearn: 0.4108372\ttotal: 286ms\tremaining: 0us\n",
      "0:\tlearn: 0.6455629\ttotal: 1.74ms\tremaining: 139ms\n",
      "0:\tlearn: 0.6456268\ttotal: 1.79ms\tremaining: 143ms\n",
      "0:\tlearn: 0.6456779\ttotal: 3.56ms\tremaining: 285ms\n",
      "80:\tlearn: 0.4100515\ttotal: 353ms\tremaining: 0us\n",
      "0:\tlearn: 0.6454356\ttotal: 2.29ms\tremaining: 183ms\n",
      "80:\tlearn: 0.4090368\ttotal: 251ms\tremaining: 0us\n",
      "80:\tlearn: 0.4103258\ttotal: 244ms\tremaining: 0us\n",
      "80:\tlearn: 0.4067633\ttotal: 260ms\tremaining: 0us\n",
      "80:\tlearn: 0.4098326\ttotal: 237ms\tremaining: 0us\n",
      "0:\tlearn: 0.6455894\ttotal: 1.59ms\tremaining: 127ms\n",
      "0:\tlearn: 0.6456795\ttotal: 2.29ms\tremaining: 183ms\n",
      "80:\tlearn: 0.4089840\ttotal: 247ms\tremaining: 0us\n",
      "0:\tlearn: 0.6451988\ttotal: 1.53ms\tremaining: 122ms\n",
      "80:\tlearn: 0.4104630\ttotal: 250ms\tremaining: 0us\n",
      "0:\tlearn: 0.6455455\ttotal: 1.46ms\tremaining: 117ms\n",
      "0:\tlearn: 0.6456366\ttotal: 2.6ms\tremaining: 208ms\n",
      "0:\tlearn: 0.6456756\ttotal: 1.18ms\tremaining: 94.7ms\n",
      "80:\tlearn: 0.4103571\ttotal: 242ms\tremaining: 0us\n",
      "80:\tlearn: 0.4092168\ttotal: 255ms\tremaining: 0us\n",
      "80:\tlearn: 0.4070810\ttotal: 246ms\tremaining: 0us\n",
      "0:\tlearn: 0.6456771\ttotal: 1.85ms\tremaining: 148ms\n",
      "80:\tlearn: 0.4094914\ttotal: 257ms\tremaining: 0us\n",
      "0:\tlearn: 0.6455617\ttotal: 1.35ms\tremaining: 108ms\n",
      "80:\tlearn: 0.4094078\ttotal: 244ms\tremaining: 0us\n",
      "80:\tlearn: 0.4095769\ttotal: 345ms\tremaining: 0us\n",
      "0:\tlearn: 0.6451409\ttotal: 2.35ms\tremaining: 188ms\n",
      "80:\tlearn: 0.4104533\ttotal: 247ms\tremaining: 0us\n",
      "0:\tlearn: 0.6455602\ttotal: 2.7ms\tremaining: 216ms\n",
      "0:\tlearn: 0.6456227\ttotal: 2.1ms\tremaining: 168ms\n",
      "0:\tlearn: 0.6454363\ttotal: 2.62ms\tremaining: 210ms\n",
      "0:\tlearn: 0.6456768\ttotal: 1.51ms\tremaining: 121ms\n",
      "80:\tlearn: 0.4102188\ttotal: 249ms\tremaining: 0us\n",
      "80:\tlearn: 0.4088394\ttotal: 242ms\tremaining: 0us\n",
      "80:\tlearn: 0.4099907\ttotal: 231ms\tremaining: 0us\n",
      "80:\tlearn: 0.4071057\ttotal: 249ms\tremaining: 0us\n",
      "80:\tlearn: 0.4092287\ttotal: 240ms\tremaining: 0us\n",
      "80:\tlearn: 0.4107835\ttotal: 233ms\tremaining: 0us\n",
      "80:\tlearn: 0.4097559\ttotal: 289ms\tremaining: 0us\n",
      "0:\tlearn: 0.6454417\ttotal: 1.55ms\tremaining: 124ms\n",
      "80:\tlearn: 0.4098643\ttotal: 170ms\tremaining: 0us\n",
      "0:\tlearn: 0.6455394\ttotal: 2.03ms\tremaining: 162ms\n",
      "0:\tlearn: 0.6451656\ttotal: 2.14ms\tremaining: 171ms\n",
      "0:\tlearn: 0.6454751\ttotal: 2.23ms\tremaining: 179ms\n",
      "0:\tlearn: 0.6457395\ttotal: 5.8ms\tremaining: 464ms\n",
      "0:\tlearn: 0.6456993\ttotal: 4.75ms\tremaining: 380ms\n",
      "0:\tlearn: 0.6455668\ttotal: 4.77ms\tremaining: 382ms\n",
      "80:\tlearn: 0.4089747\ttotal: 337ms\tremaining: 0us\n",
      "80:\tlearn: 0.4058658\ttotal: 335ms\tremaining: 0us\n",
      "80:\tlearn: 0.4088416\ttotal: 343ms\tremaining: 0us\n",
      "80:\tlearn: 0.4094938\ttotal: 336ms\tremaining: 0us\n",
      "80:\tlearn: 0.4078407\ttotal: 351ms\tremaining: 0us\n",
      "80:\tlearn: 0.4077907\ttotal: 356ms\tremaining: 0us\n",
      "0:\tlearn: 0.6455218\ttotal: 3.03ms\tremaining: 243ms\n",
      "0:\tlearn: 0.6451895\ttotal: 2.67ms\tremaining: 214ms\n",
      "0:\tlearn: 0.6454112\ttotal: 3.81ms\tremaining: 305ms\n",
      "0:\tlearn: 0.6455459\ttotal: 2.96ms\tremaining: 237ms\n",
      "0:\tlearn: 0.6457072\ttotal: 5.68ms\tremaining: 455ms\n",
      "0:\tlearn: 0.6456815\ttotal: 5.89ms\tremaining: 472ms\n",
      "80:\tlearn: 0.4058049\ttotal: 337ms\tremaining: 0us\n",
      "80:\tlearn: 0.4086545\ttotal: 342ms\tremaining: 0us\n",
      "80:\tlearn: 0.4093994\ttotal: 335ms\tremaining: 0us\n",
      "80:\tlearn: 0.4077838\ttotal: 338ms\tremaining: 0us\n",
      "80:\tlearn: 0.4082573\ttotal: 351ms\tremaining: 0us\n",
      "80:\tlearn: 0.4075196\ttotal: 331ms\tremaining: 0us\n",
      "0:\tlearn: 0.6451654\ttotal: 2.65ms\tremaining: 212ms\n",
      "0:\tlearn: 0.6455312\ttotal: 3.01ms\tremaining: 241ms\n",
      "0:\tlearn: 0.6455470\ttotal: 2.52ms\tremaining: 201ms\n",
      "0:\tlearn: 0.6456732\ttotal: 4.41ms\tremaining: 353ms\n",
      "0:\tlearn: 0.6454516\ttotal: 3.38ms\tremaining: 271ms\n",
      "0:\tlearn: 0.6456675\ttotal: 5.12ms\tremaining: 410ms\n",
      "80:\tlearn: 0.4089322\ttotal: 394ms\tremaining: 0us\n",
      "80:\tlearn: 0.4073746\ttotal: 402ms\tremaining: 0us\n",
      "80:\tlearn: 0.4051648\ttotal: 425ms\tremaining: 0us\n",
      "0:\tlearn: 0.6455169\ttotal: 1.36ms\tremaining: 109ms\n",
      "0:\tlearn: 0.6457065\ttotal: 3.72ms\tremaining: 298ms\n",
      "80:\tlearn: 0.4088148\ttotal: 498ms\tremaining: 0us\n",
      "80:\tlearn: 0.4076043\ttotal: 485ms\tremaining: 0us\n",
      "80:\tlearn: 0.4081332\ttotal: 507ms\tremaining: 0us\n",
      "0:\tlearn: 0.6451448\ttotal: 2.14ms\tremaining: 171ms\n",
      "0:\tlearn: 0.6455124\ttotal: 2ms\tremaining: 160ms\n",
      "0:\tlearn: 0.6456634\ttotal: 4.23ms\tremaining: 338ms\n",
      "0:\tlearn: 0.6453974\ttotal: 2.72ms\tremaining: 217ms\n",
      "80:\tlearn: 0.4091177\ttotal: 292ms\tremaining: 0us\n",
      "80:\tlearn: 0.4073379\ttotal: 320ms\tremaining: 0us\n",
      "0:\tlearn: 0.6455326\ttotal: 2.75ms\tremaining: 220ms\n",
      "0:\tlearn: 0.6456727\ttotal: 5.85ms\tremaining: 468ms\n",
      "80:\tlearn: 0.4055722\ttotal: 302ms\tremaining: 0us\n",
      "80:\tlearn: 0.4089334\ttotal: 314ms\tremaining: 0us\n",
      "80:\tlearn: 0.4083025\ttotal: 305ms\tremaining: 0us\n",
      "0:\tlearn: 0.6451530\ttotal: 2.78ms\tremaining: 222ms\n",
      "80:\tlearn: 0.4077066\ttotal: 341ms\tremaining: 0us\n",
      "0:\tlearn: 0.6455136\ttotal: 1.76ms\tremaining: 141ms\n",
      "0:\tlearn: 0.6454322\ttotal: 2.43ms\tremaining: 195ms\n",
      "0:\tlearn: 0.6456611\ttotal: 4.09ms\tremaining: 328ms\n",
      "80:\tlearn: 0.4095068\ttotal: 327ms\tremaining: 0us\n",
      "80:\tlearn: 0.4071581\ttotal: 331ms\tremaining: 0us\n",
      "80:\tlearn: 0.4055460\ttotal: 304ms\tremaining: 0us\n",
      "80:\tlearn: 0.4086319\ttotal: 310ms\tremaining: 0us\n",
      "80:\tlearn: 0.4083361\ttotal: 293ms\tremaining: 0us\n",
      "80:\tlearn: 0.4074350\ttotal: 298ms\tremaining: 0us\n",
      "0:\tlearn: 0.6455151\ttotal: 3.83ms\tremaining: 307ms\n",
      "0:\tlearn: 0.6455335\ttotal: 3.1ms\tremaining: 248ms\n",
      "0:\tlearn: 0.6453740\ttotal: 6.59ms\tremaining: 527ms\n",
      "0:\tlearn: 0.6454506\ttotal: 7.27ms\tremaining: 582ms\n",
      "0:\tlearn: 0.6457538\ttotal: 4.67ms\tremaining: 374ms\n",
      "80:\tlearn: 0.4033701\ttotal: 313ms\tremaining: 0us\n",
      "80:\tlearn: 0.4057522\ttotal: 314ms\tremaining: 0us\n",
      "80:\tlearn: 0.4058097\ttotal: 328ms\tremaining: 0us\n",
      "80:\tlearn: 0.4068184\ttotal: 335ms\tremaining: 0us\n",
      "80:\tlearn: 0.4061548\ttotal: 339ms\tremaining: 0us\n",
      "0:\tlearn: 0.6454371\ttotal: 3.66ms\tremaining: 293ms\n",
      "0:\tlearn: 0.6454346\ttotal: 2.31ms\tremaining: 185ms\n",
      "0:\tlearn: 0.6454707\ttotal: 2.69ms\tremaining: 215ms\n",
      "0:\tlearn: 0.6452800\ttotal: 5.52ms\tremaining: 442ms\n",
      "0:\tlearn: 0.6457077\ttotal: 3.94ms\tremaining: 316ms\n",
      "80:\tlearn: 0.4036244\ttotal: 295ms\tremaining: 0us\n",
      "80:\tlearn: 0.4056470\ttotal: 304ms\tremaining: 0us\n",
      "80:\tlearn: 0.4056842\ttotal: 304ms\tremaining: 0us\n",
      "80:\tlearn: 0.4059937\ttotal: 295ms\tremaining: 0us\n",
      "0:\tlearn: 0.6456585\ttotal: 4.24ms\tremaining: 339ms\n",
      "0:\tlearn: 0.6454279\ttotal: 2.79ms\tremaining: 223ms\n",
      "80:\tlearn: 0.4061256\ttotal: 349ms\tremaining: 0us\n",
      "0:\tlearn: 0.6454851\ttotal: 4.24ms\tremaining: 339ms\n",
      "0:\tlearn: 0.6454365\ttotal: 3.16ms\tremaining: 253ms\n",
      "0:\tlearn: 0.6454923\ttotal: 6.95ms\tremaining: 556ms\n",
      "80:\tlearn: 0.4057443\ttotal: 310ms\tremaining: 0us\n",
      "80:\tlearn: 0.4034694\ttotal: 329ms\tremaining: 0us\n",
      "80:\tlearn: 0.4062881\ttotal: 310ms\tremaining: 0us\n",
      "80:\tlearn: 0.4060417\ttotal: 330ms\tremaining: 0us\n",
      "0:\tlearn: 0.6454814\ttotal: 3.11ms\tremaining: 249ms\n",
      "0:\tlearn: 0.6454273\ttotal: 3.94ms\tremaining: 315ms\n",
      "0:\tlearn: 0.6455327\ttotal: 3.66ms\tremaining: 293ms\n",
      "80:\tlearn: 0.4061851\ttotal: 334ms\tremaining: 0us\n",
      "0:\tlearn: 0.6457107\ttotal: 6.14ms\tremaining: 491ms\n",
      "0:\tlearn: 0.6452736\ttotal: 4.66ms\tremaining: 373ms\n",
      "80:\tlearn: 0.4063157\ttotal: 308ms\tremaining: 0us\n",
      "80:\tlearn: 0.4064249\ttotal: 323ms\tremaining: 0us\n",
      "80:\tlearn: 0.4034459\ttotal: 334ms\tremaining: 0us\n",
      "0:\tlearn: 0.6454290\ttotal: 2.64ms\tremaining: 211ms\n",
      "80:\tlearn: 0.4060971\ttotal: 337ms\tremaining: 0us\n",
      "0:\tlearn: 0.6454961\ttotal: 3.73ms\tremaining: 298ms\n",
      "0:\tlearn: 0.6454160\ttotal: 3.99ms\tremaining: 319ms\n",
      "80:\tlearn: 0.4057268\ttotal: 328ms\tremaining: 0us\n",
      "0:\tlearn: 0.6454527\ttotal: 3.43ms\tremaining: 275ms\n",
      "0:\tlearn: 0.6453037\ttotal: 5.39ms\tremaining: 431ms\n",
      "80:\tlearn: 0.4060973\ttotal: 299ms\tremaining: 0us\n",
      "80:\tlearn: 0.4054183\ttotal: 335ms\tremaining: 0us\n",
      "80:\tlearn: 0.4034066\ttotal: 324ms\tremaining: 0us\n",
      "80:\tlearn: 0.4064208\ttotal: 336ms\tremaining: 0us\n",
      "80:\tlearn: 0.4062375\ttotal: 320ms\tremaining: 0us\n",
      "0:\tlearn: 0.6455374\ttotal: 3.34ms\tremaining: 267ms\n",
      "0:\tlearn: 0.6456196\ttotal: 3.79ms\tremaining: 303ms\n",
      "0:\tlearn: 0.6455374\ttotal: 4.23ms\tremaining: 339ms\n",
      "0:\tlearn: 0.6456196\ttotal: 4.91ms\tremaining: 393ms\n",
      "80:\tlearn: 0.4042444\ttotal: 244ms\tremaining: 0us\n",
      "80:\tlearn: 0.4030942\ttotal: 266ms\tremaining: 0us\n",
      "0:\tlearn: 0.6454419\ttotal: 3.55ms\tremaining: 284ms\n",
      "80:\tlearn: 0.4012619\ttotal: 307ms\tremaining: 0us\n",
      "80:\tlearn: 0.4040582\ttotal: 306ms\tremaining: 0us\n",
      "0:\tlearn: 0.6455120\ttotal: 4.34ms\tremaining: 348ms\n",
      "0:\tlearn: 0.6454419\ttotal: 5.03ms\tremaining: 403ms\n",
      "0:\tlearn: 0.6455120\ttotal: 4.07ms\tremaining: 325ms\n",
      "80:\tlearn: 0.4033073\ttotal: 239ms\tremaining: 0us\n",
      "80:\tlearn: 0.4032933\ttotal: 241ms\tremaining: 0us\n",
      "0:\tlearn: 0.6454492\ttotal: 3.38ms\tremaining: 271ms\n",
      "0:\tlearn: 0.6455794\ttotal: 3.69ms\tremaining: 295ms\n",
      "80:\tlearn: 0.4006725\ttotal: 306ms\tremaining: 0us\n",
      "80:\tlearn: 0.4028208\ttotal: 307ms\tremaining: 0us\n",
      "0:\tlearn: 0.6454492\ttotal: 4.31ms\tremaining: 345ms\n",
      "0:\tlearn: 0.6455794\ttotal: 5.08ms\tremaining: 406ms\n",
      "80:\tlearn: 0.4036091\ttotal: 235ms\tremaining: 0us\n",
      "80:\tlearn: 0.4033561\ttotal: 266ms\tremaining: 0us\n",
      "0:\tlearn: 0.6454925\ttotal: 3.69ms\tremaining: 295ms\n",
      "0:\tlearn: 0.6453977\ttotal: 4.48ms\tremaining: 359ms\n",
      "80:\tlearn: 0.4035629\ttotal: 299ms\tremaining: 0us\n",
      "80:\tlearn: 0.4005660\ttotal: 309ms\tremaining: 0us\n",
      "0:\tlearn: 0.6454925\ttotal: 5.26ms\tremaining: 421ms\n",
      "0:\tlearn: 0.6453977\ttotal: 4.48ms\tremaining: 359ms\n",
      "80:\tlearn: 0.4026031\ttotal: 268ms\tremaining: 0us\n",
      "80:\tlearn: 0.4029200\ttotal: 271ms\tremaining: 0us\n",
      "0:\tlearn: 0.6455480\ttotal: 4.58ms\tremaining: 366ms\n",
      "0:\tlearn: 0.6456525\ttotal: 3.83ms\tremaining: 307ms\n",
      "80:\tlearn: 0.4034800\ttotal: 328ms\tremaining: 0us\n",
      "80:\tlearn: 0.4005169\ttotal: 337ms\tremaining: 0us\n",
      "0:\tlearn: 0.6455480\ttotal: 4.37ms\tremaining: 350ms\n",
      "80:\tlearn: 0.4027505\ttotal: 256ms\tremaining: 0us\n",
      "0:\tlearn: 0.6456525\ttotal: 4.22ms\tremaining: 338ms\n",
      "80:\tlearn: 0.4040731\ttotal: 262ms\tremaining: 0us\n",
      "80:\tlearn: 0.4033075\ttotal: 237ms\tremaining: 0us\n",
      "80:\tlearn: 0.4004641\ttotal: 244ms\tremaining: 0us\n",
      "0:\tlearn: 0.6454875\ttotal: 2.04ms\tremaining: 164ms\n",
      "0:\tlearn: 0.6456349\ttotal: 1.87ms\tremaining: 150ms\n",
      "0:\tlearn: 0.6456771\ttotal: 2.85ms\tremaining: 228ms\n",
      "80:\tlearn: 0.3991615\ttotal: 246ms\tremaining: 0us\n",
      "80:\tlearn: 0.3979632\ttotal: 251ms\tremaining: 0us\n",
      "80:\tlearn: 0.3977661\ttotal: 254ms\tremaining: 0us\n",
      "0:\tlearn: 0.6454156\ttotal: 1.82ms\tremaining: 146ms\n",
      "0:\tlearn: 0.6456406\ttotal: 2.36ms\tremaining: 189ms\n",
      "0:\tlearn: 0.6455868\ttotal: 1.75ms\tremaining: 140ms\n",
      "80:\tlearn: 0.3982406\ttotal: 240ms\tremaining: 0us\n",
      "80:\tlearn: 0.3974922\ttotal: 240ms\tremaining: 0us\n",
      "80:\tlearn: 0.3980792\ttotal: 243ms\tremaining: 0us\n",
      "0:\tlearn: 0.6454480\ttotal: 2.21ms\tremaining: 177ms\n",
      "0:\tlearn: 0.6455671\ttotal: 1.98ms\tremaining: 158ms\n",
      "0:\tlearn: 0.6456372\ttotal: 2ms\tremaining: 160ms\n",
      "80:\tlearn: 0.3976644\ttotal: 232ms\tremaining: 0us\n",
      "80:\tlearn: 0.3979526\ttotal: 254ms\tremaining: 0us\n",
      "80:\tlearn: 0.3977162\ttotal: 249ms\tremaining: 0us\n",
      "0:\tlearn: 0.6456247\ttotal: 1.76ms\tremaining: 141ms\n",
      "0:\tlearn: 0.6454330\ttotal: 2.26ms\tremaining: 181ms\n",
      "0:\tlearn: 0.6456872\ttotal: 1.71ms\tremaining: 137ms\n",
      "80:\tlearn: 0.3969722\ttotal: 235ms\tremaining: 0us\n",
      "80:\tlearn: 0.3976817\ttotal: 245ms\tremaining: 0us\n",
      "80:\tlearn: 0.3977029\ttotal: 243ms\tremaining: 0us\n",
      "0:\tlearn: 0.6455664\ttotal: 1.62ms\tremaining: 130ms\n",
      "0:\tlearn: 0.6454458\ttotal: 1.98ms\tremaining: 159ms\n",
      "0:\tlearn: 0.6456538\ttotal: 2.6ms\tremaining: 208ms\n",
      "80:\tlearn: 0.3969113\ttotal: 247ms\tremaining: 0us\n",
      "80:\tlearn: 0.3983352\ttotal: 265ms\tremaining: 0us\n",
      "80:\tlearn: 0.3982350\ttotal: 248ms\tremaining: 0us\n",
      "0:\tlearn: 0.6451687\ttotal: 1.55ms\tremaining: 124ms\n",
      "0:\tlearn: 0.6451312\ttotal: 2.23ms\tremaining: 178ms\n",
      "80:\tlearn: 0.3946633\ttotal: 238ms\tremaining: 0us\n",
      "80:\tlearn: 0.3955141\ttotal: 241ms\tremaining: 0us\n",
      "0:\tlearn: 0.6450545\ttotal: 2.75ms\tremaining: 220ms\n",
      "0:\tlearn: 0.6451742\ttotal: 1.83ms\tremaining: 147ms\n",
      "80:\tlearn: 0.3936328\ttotal: 249ms\tremaining: 0us\n",
      "80:\tlearn: 0.3941659\ttotal: 259ms\tremaining: 0us\n",
      "0:\tlearn: 0.6451687\ttotal: 1.15ms\tremaining: 92.1ms\n",
      "0:\tlearn: 0.6451321\ttotal: 1.66ms\tremaining: 132ms\n",
      "80:\tlearn: 0.3942572\ttotal: 239ms\tremaining: 0us\n",
      "80:\tlearn: 0.3947425\ttotal: 255ms\tremaining: 0us\n",
      "0:\tlearn: 0.6450544\ttotal: 2.54ms\tremaining: 203ms\n",
      "0:\tlearn: 0.6451362\ttotal: 1.41ms\tremaining: 113ms\n",
      "80:\tlearn: 0.3935199\ttotal: 257ms\tremaining: 0us\n",
      "80:\tlearn: 0.3937904\ttotal: 255ms\tremaining: 0us\n",
      "0:\tlearn: 0.6450250\ttotal: 2.42ms\tremaining: 193ms\n",
      "0:\tlearn: 0.6451380\ttotal: 1.86ms\tremaining: 149ms\n",
      "80:\tlearn: 0.3930520\ttotal: 305ms\tremaining: 0us\n",
      "80:\tlearn: 0.3944771\ttotal: 297ms\tremaining: 0us\n",
      "0:\tlearn: 0.6452110\ttotal: 3.12ms\tremaining: 250ms\n",
      "80:\tlearn: 0.3910139\ttotal: 214ms\tremaining: 0us\n",
      "0:\tlearn: 0.6452062\ttotal: 3ms\tremaining: 240ms\n",
      "80:\tlearn: 0.3903285\ttotal: 219ms\tremaining: 0us\n",
      "0:\tlearn: 0.6452161\ttotal: 2.91ms\tremaining: 233ms\n",
      "80:\tlearn: 0.3900168\ttotal: 221ms\tremaining: 0us\n",
      "0:\tlearn: 0.6451992\ttotal: 2.97ms\tremaining: 238ms\n",
      "80:\tlearn: 0.3905489\ttotal: 217ms\tremaining: 0us\n",
      "0:\tlearn: 0.6452031\ttotal: 3.17ms\tremaining: 254ms\n",
      "80:\tlearn: 0.3898285\ttotal: 218ms\tremaining: 0us\n",
      "Forward selected features:\n",
      "['0', '1', '2', '3', '4', '5', '6', '7', '8']\n"
     ]
    }
   ],
   "source": [
    "from mlxtend.feature_selection import SequentialFeatureSelector as SFS\n",
    "\n",
    "sfs = SFS(catboost_model,\n",
    "          k_features=X.shape[1],\n",
    "          forward=True,\n",
    "          floating=False,\n",
    "          scoring='r2',\n",
    "          cv=5,\n",
    "          verbose=0,\n",
    "          n_jobs=-1)\n",
    "\n",
    "sfs = sfs.fit(X_train.values, y_train)\n",
    "\n",
    "print(\"Forward selected features:\")\n",
    "selected_forward = list(sfs.k_feature_names_)\n",
    "print(selected_forward)"
   ]
  },
  {
   "cell_type": "code",
   "execution_count": 369,
   "metadata": {},
   "outputs": [],
   "source": [
    "selected_indices = list(map(int, selected_forward))\n",
    "# Получаем имена признаков по индексам\n",
    "selected_columns = X_train.columns[selected_indices]\n",
    "# Фильтруем датасет\n",
    "X_train_forward_selected = X_train[selected_columns]\n",
    "X_test_forward_selected = X_test[selected_columns]"
   ]
  },
  {
   "cell_type": "code",
   "execution_count": 370,
   "metadata": {},
   "outputs": [
    {
     "name": "stdout",
     "output_type": "stream",
     "text": [
      "0:\tlearn: 0.6451495\ttotal: 4.39ms\tremaining: 351ms\n",
      "80:\tlearn: 0.3921488\ttotal: 242ms\tremaining: 0us\n",
      "qini_auc: 0.0523\n",
      "uplift_auc: 0.0236\n",
      "uplift_at_30%: 0.0504\n"
     ]
    }
   ],
   "source": [
    "catboost_model.fit(X_train_forward_selected, y_train)\n",
    "\n",
    "X_test_uplift = calculate_uplift(catboost_model, X_test_forward_selected, treatment_col='treatment')\n",
    "\n",
    "metrics = evaluate_uplift_metrics(\n",
    "    y_true=y_test.values,\n",
    "    uplift_vals=X_test_uplift['predicted_uplift'].values,\n",
    "    treatment=X_test_uplift['treatment'].values,\n",
    "    k=0.3\n",
    ")\n",
    "\n",
    "for name, value in metrics.items():\n",
    "    print(f\"{name}: {value:.4f}\")"
   ]
  },
  {
   "cell_type": "markdown",
   "metadata": {},
   "source": [
    "#### 📊 CatBoost: гиперпараметры vs отбор фичей\n",
    "\n",
    "| Метрика        | После гиперпараметров | После отбора фичей | Δ (Отбор − Гипер) |\n",
    "|:--------------:|:---------------------:|:------------------:|:-----------------:|\n",
    "| **Qini AUC**   | 0.0523                | 0.0523             | 0.0000            |\n",
    "| **Uplift AUC** | 0.0236                | 0.0236             | 0.0000            |\n",
    "| **Uplift@30%** | 0.0504                | 0.0504             | 0.0000            |\n",
    "\n",
    "📌 **Вывод:** отбор признаков не изменил метрики по сравнению с моделью после подбора гиперпараметров."
   ]
  },
  {
   "cell_type": "markdown",
   "metadata": {},
   "source": [
    "## Этап 2"
   ]
  },
  {
   "cell_type": "markdown",
   "metadata": {},
   "source": [
    "Итого имеем следующую лучшую модель по метрике Uplift@30"
   ]
  },
  {
   "cell_type": "code",
   "execution_count": 8,
   "metadata": {},
   "outputs": [
    {
     "name": "stdout",
     "output_type": "stream",
     "text": [
      "0:\tlearn: 0.6451495\ttotal: 58.9ms\tremaining: 4.71s\n",
      "80:\tlearn: 0.3921488\ttotal: 302ms\tremaining: 0us\n",
      "qini_auc: 0.0523\n",
      "uplift_auc: 0.0236\n",
      "uplift_at_30: 0.0504\n"
     ]
    }
   ],
   "source": [
    "from catboost import CatBoostClassifier\n",
    "\n",
    "catboost_model = CatBoostClassifier(\n",
    "    iterations=81,\n",
    "    depth=9,\n",
    "    learning_rate=0.1,\n",
    "    random_seed=RANDOM_STATE,\n",
    "    verbose=100,\n",
    "    allow_writing_files=False\n",
    ")\n",
    "\n",
    "catboost_model.fit(X_train, y_train)\n",
    "\n",
    "X_test_uplift = calculate_uplift(catboost_model, X_test, treatment_col='treatment')\n",
    "\n",
    "metrics = evaluate_uplift_metrics(\n",
    "    y_true=y_test.values,\n",
    "    uplift_vals=X_test_uplift['predicted_uplift'].values,\n",
    "    treatment=X_test['treatment'].values,\n",
    "    k=0.3\n",
    ")\n",
    "\n",
    "for name, value in metrics.items():\n",
    "    print(f\"{name}: {value:.4f}\")"
   ]
  },
  {
   "cell_type": "markdown",
   "metadata": {},
   "source": [
    "### Визуализация результатов"
   ]
  },
  {
   "cell_type": "code",
   "execution_count": 9,
   "metadata": {},
   "outputs": [
    {
     "data": {
      "image/png": "[encoded data removed]",
      "text/plain": [
       "<Figure size 1000x600 with 1 Axes>"
      ]
     },
     "metadata": {},
     "output_type": "display_data"
    }
   ],
   "source": [
    "from utils import custom_uplift_by_percentile\n",
    "\n",
    "fig = custom_uplift_by_percentile( \n",
    "    y_true=y_test.values,\n",
    "    uplift=X_test_uplift['predicted_uplift'].values,\n",
    "    treatment=X_test['treatment'].values,\n",
    "    kind=\"bar\"\n",
    ")\n",
    "fig.savefig(\"uplift_by_percentile.png\", dpi=300, bbox_inches=\"tight\")"
   ]
  },
  {
   "cell_type": "code",
   "execution_count": 12,
   "metadata": {},
   "outputs": [
    {
     "data": {
      "image/png": "[encoded data removed]",
      "text/plain": [
       "<Figure size 640x480 with 1 Axes>"
      ]
     },
     "metadata": {},
     "output_type": "display_data"
    }
   ],
   "source": [
    "from sklift.viz import plot_qini_curve\n",
    "\n",
    "display = plot_qini_curve(\n",
    "    y_true=y_test.values,\n",
    "    uplift=X_test_uplift['predicted_uplift'].values,\n",
    "    treatment=X_test['treatment'].values,\n",
    "    perfect=True,\n",
    "    random=True\n",
    ")\n",
    "\n",
    "fig = display.ax_.figure  # access the underlying figure\n",
    "fig.savefig(\"qini_curve.png\", dpi=300, bbox_inches=\"tight\")\n"
   ]
  },
  {
   "cell_type": "code",
   "execution_count": 13,
   "metadata": {},
   "outputs": [
    {
     "data": {
      "image/png": "[encoded data removed]",
      "text/plain": [
       "<Figure size 1000x600 with 1 Axes>"
      ]
     },
     "metadata": {},
     "output_type": "display_data"
    }
   ],
   "source": [
    "from sklift.viz import plot_uplift_curve\n",
    "import matplotlib.pyplot as plt\n",
    "\n",
    "fig, axs = plt.subplots(figsize=(10, 6))\n",
    "display = plot_uplift_curve(\n",
    "    y_true=y_test.values,\n",
    "    uplift=X_test_uplift['predicted_uplift'].values,\n",
    "    treatment=X_test['treatment'].values,\n",
    "    perfect=True,\n",
    "    ax=axs,\n",
    "    name='Uplift Curve'\n",
    ")\n",
    "fig.savefig(\"uplift_curve.png\", dpi=300, bbox_inches=\"tight\")\n"
   ]
  },
  {
   "cell_type": "markdown",
   "metadata": {},
   "source": [
    "#### 📌 Вывод по модели\n",
    "\n",
    "**Что получилось хорошо**\n",
    "- Модель совпадает по цели с бизнес-задачей: оптимизация **Uplift@30** позволяет найти верхние 20–30% аудитории с **положительным** приростом.\n",
    "- На графике *uplift by percentile* первые перцентили дают явный плюс — есть сегменты, где контакт **стоит усиливать**.\n",
    "- Выявлены и «красные зоны» (нижние перцентили) с отрицательным эффектом — их можно **смело исключать**, экономя бюджет.\n",
    "- Построен полный контур измерения (Qini, Uplift Curve, uplift-by-percentile) — есть **надёжная базовая линия** для дальнейшего роста.\n",
    "\n",
    "**Как улучшить дальше**\n",
    "- Расширить и обогатить признаки (поведение, частота/давность, сезонность, канал контакта, взаимодействия признаков).\n",
    "- Баланс цели: комбинировать **Uplift@30 + AUC(Qini)**, чтобы улучшать как топ‑30%, так и форму всей кривой.\n",
    "- Регуляризация и калибровка uplift, контроль переобучения по сегментам; в проде — A/B с отсечением нижних.\n",
    "\n",
    "**Итог**\n",
    "- Модель уже даёт **практическую ценность**: помогает приоритизировать верхние сегменты и избегать вредных контактов.\n",
    "- С текущей базой метрик и понятными следующими шагами ожидаем **быстрый прирост эффективности** при следующей итерации."
   ]
  },
  {
   "cell_type": "markdown",
   "metadata": {},
   "source": [
    "#### Логируем в Mlflow"
   ]
  },
  {
   "cell_type": "code",
   "execution_count": null,
   "metadata": {},
   "outputs": [
    {
     "name": "stderr",
     "output_type": "stream",
     "text": [
      "/Users/a.hrameev/miniconda3/envs/ya/lib/python3.11/site-packages/mlflow/types/utils.py:452: UserWarning: Hint: Inferred schema contains integer column(s). Integer columns in Python cannot represent missing values. If your input data contains missing values at inference time, it will be encoded as floats and will cause a schema enforcement error. The best way to avoid this problem is to infer the model schema based on a realistic data sample (training dataset) that includes missing values. Alternatively, you can declare integer columns as doubles (float64) whenever these columns may have missing values. See `Handling Integers With Missing Values <https://www.mlflow.org/docs/latest/models.html#handling-integers-with-missing-values>`_ for more details.\n",
      "  warnings.warn(\n",
      "Successfully registered model 'uplift_best_model'.\n",
      "2025/08/08 15:18:04 INFO mlflow.store.model_registry.abstract_store: Waiting up to 300 seconds for model version to finish creation. Model name: uplift_best_model, version 1\n",
      "Created version '1' of model 'uplift_best_model'.\n"
     ]
    },
    {
     "name": "stdout",
     "output_type": "stream",
     "text": [
      "🏃 View run uplift_best_model at: http://127.0.0.1:5000/#/experiments/34/runs/9487f39389a24591bc21f31aaa7c7013\n",
      "🧪 View experiment at: http://127.0.0.1:5000/#/experiments/34\n"
     ]
    }
   ],
   "source": [
    "import mlflow.catboost\n",
    "from mlflow.models.signature import infer_signature\n",
    "\n",
    "RUN_NAME_CATBOOST = \"uplift_best_model\"\n",
    "REGISTRY_MODEL_NAME = \"uplift_best_model\"\n",
    "\n",
    "mlflow.set_experiment(EXPERIMENT_NAME)\n",
    "\n",
    "\n",
    "with mlflow.start_run(run_name=RUN_NAME_CATBOOST):\n",
    "    # Логируем параметры модели\n",
    "    mlflow.log_params(catboost_model.get_params())\n",
    "\n",
    "    # Логируем uplift-метрики\n",
    "    mlflow.log_metric(\"qini_auc\", metrics[\"qini_auc\"])\n",
    "    mlflow.log_metric(\"uplift_auc\", metrics[\"uplift_auc\"])\n",
    "    mlflow.log_metric(\"uplift_at_30\", metrics[\"uplift_at_30\"])\n",
    "\n",
    "    mlflow.log_artifact(\"uplift_curve.png\")\n",
    "    mlflow.log_artifact(\"uplift_by_percentile.png\")\n",
    "    mlflow.log_artifact(\"qini_curve.png\")\n",
    "\n",
    "\n",
    "    # сигнатура для модели\n",
    "    signature = infer_signature(X_test, catboost_model.predict(X_test))\n",
    "\n",
    "    # Логируем модель в MLflow\n",
    "    mlflow.catboost.log_model(\n",
    "        cb_model=catboost_model,\n",
    "        name=\"uplift_model\",\n",
    "        registered_model_name=REGISTRY_MODEL_NAME, \n",
    "        pip_requirements=\"./requirements.txt\",\n",
    "        signature=signature\n",
    "    )"
   ]
  },
  {
   "cell_type": "markdown",
   "metadata": {},
   "source": [
    "# Этап 3"
   ]
  },
  {
   "cell_type": "code",
   "execution_count": 23,
   "metadata": {},
   "outputs": [],
   "source": [
    "# Класс для инференса модели\n",
    "class UpliftModelInference:\n",
    "    \"\"\"\n",
    "    Класс для инференса uplift модели.\n",
    "    \"\"\"\n",
    "    \n",
    "    def __init__(self, model, feature_names, logger=None):\n",
    "        \"\"\"\n",
    "        Инициализация класса.\n",
    "        \n",
    "        Аргументы:\n",
    "            model: Обученная модель uplift\n",
    "            feature_names: Список признаков для предсказания \n",
    "            logger: Объект для логирования (по умолчанию None)\n",
    "        \"\"\"\n",
    "        self.model = model\n",
    "        # Используем переданный список признаков, а не хардкодим\n",
    "        self.feature_names = feature_names\n",
    "        self.logger = logger\n",
    "        \n",
    "        if self.logger:\n",
    "            self.logger.info(\"Модель UpliftModel инициализирована с признаками: %s\", feature_names)\n",
    "\n",
    "    def _transform_data(self, X):\n",
    "        \"\"\"\n",
    "        Преобразование данных для модели.\n",
    "        \n",
    "        Аргументы:\n",
    "            X: pandas.DataFrame с признаками\n",
    "        \"\"\"\n",
    "        if self.logger:\n",
    "            self.logger.debug(\"Преобразование входных данных размерности %s\", X.shape)\n",
    "\n",
    "        # Здесь можно добавить преобразования, если они нужны для финальной модели\n",
    "        # Например, если были категориальные признаки, one-hot-encoding и т.д.\n",
    "        # Пока просто возвращаем X как есть\n",
    "\n",
    "        return X\n",
    "    \n",
    "    def predict(self, X):\n",
    "        \"\"\"\n",
    "        Получение предсказаний uplift.\n",
    "        \n",
    "        Аргументы:\n",
    "            X: pandas.DataFrame с признаками\n",
    "            \n",
    "        Возвращает:\n",
    "            numpy.array с предсказанными значениями uplift\n",
    "        \"\"\"\n",
    "        # Проверяем, что датафрейм не пустой\n",
    "        if X.empty:\n",
    "            if self.logger:\n",
    "                self.logger.error(\"Предоставлен пустой датафрейм\")\n",
    "            return None\n",
    "            \n",
    "        # Проверяем наличие пропущенных значений\n",
    "        if X.isnull().any().any():\n",
    "            if self.logger:\n",
    "                self.logger.error(\"Входные данные содержат пропущенные значения\")\n",
    "            return [None]*len(X)\n",
    "        \n",
    "        if self.logger:\n",
    "            self.logger.info(\"Выполняем предсказания для данных размерности %s\", X.shape)\n",
    "\n",
    "        # Проверяем наличие всех необходимых признаков\n",
    "        missing_features = set(self.feature_names) - set(X.columns)\n",
    "        if missing_features:\n",
    "            error_msg = f\"Отсутствуют признаки: {missing_features}\"\n",
    "            if self.logger:\n",
    "                self.logger.error(error_msg)\n",
    "\n",
    "            return [None]*len(X)\n",
    "        \n",
    "        # Преобразуем данные для модели\n",
    "        if self.logger:\n",
    "            self.logger.debug(\"Начинаем преобразование данных\")\n",
    "        X = self._transform_data(X)\n",
    "        \n",
    "        # Вычисляем uplift\n",
    "        if self.logger:\n",
    "            self.logger.debug(\"Выполняем предсказания модели\")\n",
    "        \n",
    "        # Дополните код для получения предсказаний аплифта\n",
    "        # Для CatBoostClassifier, обученного как uplift-модель, обычно делается так:\n",
    "        # Предсказываем вероятность для treatment=1 и для treatment=0, разница - uplift\n",
    "\n",
    "        # Создаем копии X с treatment=1 и treatment=0\n",
    "        X_treat = X.copy()\n",
    "        X_treat['treatment'] = 1\n",
    "        X_control = X.copy()\n",
    "        X_control['treatment'] = 0\n",
    "\n",
    "        # Оставляем только нужные признаки + treatment\n",
    "        features_for_model = self.feature_names + ['treatment']\n",
    "\n",
    "        # Получаем вероятности для treatment=1 и treatment=0\n",
    "        proba_treat = self.model.predict_proba(X_treat[features_for_model])[:, 1]\n",
    "        proba_control = self.model.predict_proba(X_control[features_for_model])[:, 1]\n",
    "\n",
    "        uplift = proba_treat - proba_control\n",
    "        \n",
    "        if self.logger:\n",
    "            self.logger.info(\"Предсказания успешно завершены\")\n",
    "            \n",
    "        return uplift\n"
   ]
  },
  {
   "cell_type": "code",
   "execution_count": 24,
   "metadata": {},
   "outputs": [],
   "source": [
    "feature_names = [col for col in uplift_fp_data.columns if col not in [\"target\", \"treatment\"]]\n",
    "\n",
    "model = UpliftModelInference(\n",
    "    model=catboost_model,  \n",
    "    feature_names=feature_names\n",
    ")"
   ]
  },
  {
   "cell_type": "code",
   "execution_count": 25,
   "metadata": {},
   "outputs": [],
   "source": [
    "test_data = pd.DataFrame({\n",
    "            'recency': [1, 2, 3],\n",
    "            'history_segment': [1, 2, 3], \n",
    "            'history': [100, 200, 300],\n",
    "            'mens': [1, 0, 1],\n",
    "            'womens': [0, 1, 0],\n",
    "            'zip_code': [1, 0, 1],\n",
    "            'newbie': [0, 1, 0],\n",
    "            'channel': [1, 2, 0]\n",
    "        })"
   ]
  },
  {
   "cell_type": "code",
   "execution_count": 26,
   "metadata": {},
   "outputs": [
    {
     "data": {
      "text/plain": [
       "array([-0.01447763, -0.00897689, -0.04328404])"
      ]
     },
     "execution_count": 26,
     "metadata": {},
     "output_type": "execute_result"
    }
   ],
   "source": [
    "# проверка работы класса\n",
    "model.predict(test_data)"
   ]
  }
 ],
 "metadata": {
  "kernelspec": {
   "display_name": "ya",
   "language": "python",
   "name": "python3"
  },
  "language_info": {
   "codemirror_mode": {
    "name": "ipython",
    "version": 3
   },
   "file_extension": ".py",
   "mimetype": "text/x-python",
   "name": "python",
   "nbconvert_exporter": "python",
   "pygments_lexer": "ipython3",
   "version": "3.11.13"
  }
 },
 "nbformat": 4,
 "nbformat_minor": 2
}
