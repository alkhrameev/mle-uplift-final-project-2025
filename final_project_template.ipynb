{
 "cells": [
  {
   "cell_type": "code",
   "execution_count": 58,
   "metadata": {},
   "outputs": [],
   "source": [
    "import os\n",
    "import matplotlib.pyplot as plt\n",
    "import seaborn as sns\n",
    "import numpy as np\n",
    "import pandas as pd\n",
    "from dotenv import load_dotenv, find_dotenv\n",
    "import mlflow"
   ]
  },
  {
   "cell_type": "code",
   "execution_count": 4,
   "metadata": {},
   "outputs": [],
   "source": [
    "load_dotenv(find_dotenv())\n",
    "\n",
    "os.environ[\"AWS_ACCESS_KEY_ID\"] = os.environ.get(\"AWS_ACCESS_KEY_ID\")\n",
    "os.environ[\"AWS_SECRET_ACCESS_KEY\"] = os.environ.get(\"AWS_SECRET_ACCESS_KEY\")\n",
    "os.environ[\"S3_BUCKET_NAME\"] = os.environ.get(\"S3_BUCKET_NAME\")\n",
    "os.environ[\"S3_ENDPOINT_URL\"] = \"https://storage.yandexcloud.net\"\n",
    "\n",
    "RANDOM_STATE = 42"
   ]
  },
  {
   "cell_type": "code",
   "execution_count": 5,
   "metadata": {},
   "outputs": [],
   "source": [
    "TRACKING_SERVER_HOST = \"127.0.0.1\"\n",
    "TRACKING_SERVER_PORT = 5000\n",
    "EXPERIMENT_NAME = \"sprint5\"\n",
    "\n",
    "mlflow.set_tracking_uri(f\"http://{TRACKING_SERVER_HOST}:{TRACKING_SERVER_PORT}\")\n",
    "mlflow.set_registry_uri(f\"http://{TRACKING_SERVER_HOST}:{TRACKING_SERVER_PORT}\")\n",
    "\n",
    "os.environ[\"MLFLOW_HTTP_REQUEST_TIMEOUT\"] = \"10\""
   ]
  },
  {
   "cell_type": "markdown",
   "metadata": {},
   "source": [
    "# Часть 1"
   ]
  },
  {
   "cell_type": "markdown",
   "metadata": {},
   "source": [
    "## Этап 1"
   ]
  },
  {
   "cell_type": "code",
   "execution_count": 6,
   "metadata": {},
   "outputs": [
    {
     "data": {
      "text/html": [
       "<div>\n",
       "<style scoped>\n",
       "    .dataframe tbody tr th:only-of-type {\n",
       "        vertical-align: middle;\n",
       "    }\n",
       "\n",
       "    .dataframe tbody tr th {\n",
       "        vertical-align: top;\n",
       "    }\n",
       "\n",
       "    .dataframe thead th {\n",
       "        text-align: right;\n",
       "    }\n",
       "</style>\n",
       "<table border=\"1\" class=\"dataframe\">\n",
       "  <thead>\n",
       "    <tr style=\"text-align: right;\">\n",
       "      <th></th>\n",
       "      <th>recency</th>\n",
       "      <th>history_segment</th>\n",
       "      <th>history</th>\n",
       "      <th>mens</th>\n",
       "      <th>womens</th>\n",
       "      <th>zip_code</th>\n",
       "      <th>newbie</th>\n",
       "      <th>channel</th>\n",
       "      <th>treatment</th>\n",
       "      <th>target</th>\n",
       "    </tr>\n",
       "  </thead>\n",
       "  <tbody>\n",
       "    <tr>\n",
       "      <th>0</th>\n",
       "      <td>10</td>\n",
       "      <td>1</td>\n",
       "      <td>142.44</td>\n",
       "      <td>1</td>\n",
       "      <td>0</td>\n",
       "      <td>1</td>\n",
       "      <td>0</td>\n",
       "      <td>1</td>\n",
       "      <td>1</td>\n",
       "      <td>0</td>\n",
       "    </tr>\n",
       "    <tr>\n",
       "      <th>1</th>\n",
       "      <td>6</td>\n",
       "      <td>2</td>\n",
       "      <td>329.08</td>\n",
       "      <td>1</td>\n",
       "      <td>1</td>\n",
       "      <td>2</td>\n",
       "      <td>1</td>\n",
       "      <td>2</td>\n",
       "      <td>0</td>\n",
       "      <td>0</td>\n",
       "    </tr>\n",
       "    <tr>\n",
       "      <th>2</th>\n",
       "      <td>7</td>\n",
       "      <td>1</td>\n",
       "      <td>180.65</td>\n",
       "      <td>0</td>\n",
       "      <td>1</td>\n",
       "      <td>1</td>\n",
       "      <td>1</td>\n",
       "      <td>2</td>\n",
       "      <td>1</td>\n",
       "      <td>0</td>\n",
       "    </tr>\n",
       "    <tr>\n",
       "      <th>3</th>\n",
       "      <td>9</td>\n",
       "      <td>4</td>\n",
       "      <td>675.83</td>\n",
       "      <td>1</td>\n",
       "      <td>0</td>\n",
       "      <td>2</td>\n",
       "      <td>1</td>\n",
       "      <td>2</td>\n",
       "      <td>0</td>\n",
       "      <td>0</td>\n",
       "    </tr>\n",
       "    <tr>\n",
       "      <th>4</th>\n",
       "      <td>2</td>\n",
       "      <td>0</td>\n",
       "      <td>45.34</td>\n",
       "      <td>1</td>\n",
       "      <td>0</td>\n",
       "      <td>0</td>\n",
       "      <td>0</td>\n",
       "      <td>2</td>\n",
       "      <td>1</td>\n",
       "      <td>0</td>\n",
       "    </tr>\n",
       "  </tbody>\n",
       "</table>\n",
       "</div>"
      ],
      "text/plain": [
       "   recency  history_segment  history  mens  womens  zip_code  newbie  channel  \\\n",
       "0       10                1   142.44     1       0         1       0        1   \n",
       "1        6                2   329.08     1       1         2       1        2   \n",
       "2        7                1   180.65     0       1         1       1        2   \n",
       "3        9                4   675.83     1       0         2       1        2   \n",
       "4        2                0    45.34     1       0         0       0        2   \n",
       "\n",
       "   treatment  target  \n",
       "0          1       0  \n",
       "1          0       0  \n",
       "2          1       0  \n",
       "3          0       0  \n",
       "4          1       0  "
      ]
     },
     "execution_count": 6,
     "metadata": {},
     "output_type": "execute_result"
    }
   ],
   "source": [
    "uplift_fp_data = pd.read_csv('uplift_fp_data.csv') \n",
    "uplift_fp_data.head()"
   ]
  },
  {
   "cell_type": "markdown",
   "metadata": {},
   "source": [
    "Категоиральных колонок нет, а значит перекодирвать не нужно"
   ]
  },
  {
   "cell_type": "code",
   "execution_count": 6,
   "metadata": {},
   "outputs": [
    {
     "data": {
      "text/plain": [
       "recency            0\n",
       "history_segment    0\n",
       "history            0\n",
       "mens               0\n",
       "womens             0\n",
       "zip_code           0\n",
       "newbie             0\n",
       "channel            0\n",
       "treatment          0\n",
       "target             0\n",
       "dtype: int64"
      ]
     },
     "execution_count": 6,
     "metadata": {},
     "output_type": "execute_result"
    }
   ],
   "source": [
    "uplift_fp_data.isnull().sum()\n"
   ]
  },
  {
   "cell_type": "markdown",
   "metadata": {},
   "source": [
    "Пропусков нет и это великлепно"
   ]
  },
  {
   "cell_type": "markdown",
   "metadata": {},
   "source": [
    "## Этап 2"
   ]
  },
  {
   "cell_type": "markdown",
   "metadata": {},
   "source": [
    "### EDA\n"
   ]
  },
  {
   "cell_type": "code",
   "execution_count": 7,
   "metadata": {},
   "outputs": [
    {
     "data": {
      "image/png": "[encoded data removed]",
      "text/plain": [
       "<Figure size 800x500 with 1 Axes>"
      ]
     },
     "metadata": {},
     "output_type": "display_data"
    },
    {
     "name": "stdout",
     "output_type": "stream",
     "text": [
      "Распределение по treatment и target:\n"
     ]
    },
    {
     "data": {
      "text/html": [
       "<div>\n",
       "<style scoped>\n",
       "    .dataframe tbody tr th:only-of-type {\n",
       "        vertical-align: middle;\n",
       "    }\n",
       "\n",
       "    .dataframe tbody tr th {\n",
       "        vertical-align: top;\n",
       "    }\n",
       "\n",
       "    .dataframe thead th {\n",
       "        text-align: right;\n",
       "    }\n",
       "</style>\n",
       "<table border=\"1\" class=\"dataframe\">\n",
       "  <thead>\n",
       "    <tr style=\"text-align: right;\">\n",
       "      <th>target</th>\n",
       "      <th>0</th>\n",
       "      <th>1</th>\n",
       "    </tr>\n",
       "    <tr>\n",
       "      <th>treatment</th>\n",
       "      <th></th>\n",
       "      <th></th>\n",
       "    </tr>\n",
       "  </thead>\n",
       "  <tbody>\n",
       "    <tr>\n",
       "      <th>0</th>\n",
       "      <td>36457</td>\n",
       "      <td>6156</td>\n",
       "    </tr>\n",
       "    <tr>\n",
       "      <th>1</th>\n",
       "      <td>18149</td>\n",
       "      <td>3238</td>\n",
       "    </tr>\n",
       "  </tbody>\n",
       "</table>\n",
       "</div>"
      ],
      "text/plain": [
       "target         0     1\n",
       "treatment             \n",
       "0          36457  6156\n",
       "1          18149  3238"
      ]
     },
     "metadata": {},
     "output_type": "display_data"
    },
    {
     "name": "stdout",
     "output_type": "stream",
     "text": [
      "\n",
      "Доли целевого события в каждой группе:\n"
     ]
    },
    {
     "data": {
      "text/html": [
       "<div>\n",
       "<style scoped>\n",
       "    .dataframe tbody tr th:only-of-type {\n",
       "        vertical-align: middle;\n",
       "    }\n",
       "\n",
       "    .dataframe tbody tr th {\n",
       "        vertical-align: top;\n",
       "    }\n",
       "\n",
       "    .dataframe thead th {\n",
       "        text-align: right;\n",
       "    }\n",
       "</style>\n",
       "<table border=\"1\" class=\"dataframe\">\n",
       "  <thead>\n",
       "    <tr style=\"text-align: right;\">\n",
       "      <th>target</th>\n",
       "      <th>0</th>\n",
       "      <th>1</th>\n",
       "    </tr>\n",
       "    <tr>\n",
       "      <th>treatment</th>\n",
       "      <th></th>\n",
       "      <th></th>\n",
       "    </tr>\n",
       "  </thead>\n",
       "  <tbody>\n",
       "    <tr>\n",
       "      <th>0</th>\n",
       "      <td>0.856</td>\n",
       "      <td>0.144</td>\n",
       "    </tr>\n",
       "    <tr>\n",
       "      <th>1</th>\n",
       "      <td>0.849</td>\n",
       "      <td>0.151</td>\n",
       "    </tr>\n",
       "  </tbody>\n",
       "</table>\n",
       "</div>"
      ],
      "text/plain": [
       "target         0      1\n",
       "treatment              \n",
       "0          0.856  0.144\n",
       "1          0.849  0.151"
      ]
     },
     "metadata": {},
     "output_type": "display_data"
    }
   ],
   "source": [
    "# Проверим распределение целевой переменной между контрольной и тестовой группами\n",
    "grouped = uplift_fp_data.groupby(['treatment', 'target']).size().reset_index(name='count')\n",
    "\n",
    "# Построим barplot\n",
    "plt.figure(figsize=(8, 5))\n",
    "sns.barplot(\n",
    "    data=grouped,\n",
    "    x='treatment',\n",
    "    y='count',\n",
    "    hue='target',\n",
    "    palette='Set2'\n",
    ")\n",
    "plt.title('Распределение целевой переменной по группам (контроль/тест)')\n",
    "plt.xlabel('Группа (0 - контроль, 1 - тест)')\n",
    "plt.ylabel('Количество наблюдений')\n",
    "plt.legend(title='Target')\n",
    "plt.show()\n",
    "\n",
    "# Также выведем абсолютные и относительные значения для контроля\n",
    "print(\"Распределение по treatment и target:\")\n",
    "display(\n",
    "    uplift_fp_data.groupby(['treatment', 'target']).size().unstack(fill_value=0)\n",
    ")\n",
    "print(\"\\nДоли целевого события в каждой группе:\")\n",
    "display(\n",
    "    uplift_fp_data.groupby('treatment')['target'].value_counts(normalize=True).unstack().round(3)\n",
    ")\n"
   ]
  },
  {
   "cell_type": "markdown",
   "metadata": {},
   "source": [
    "Проверим баланс классов"
   ]
  },
  {
   "cell_type": "code",
   "execution_count": 16,
   "metadata": {},
   "outputs": [
    {
     "data": {
      "text/plain": [
       "target\n",
       "0    0.853219\n",
       "1    0.146781\n",
       "Name: proportion, dtype: float64"
      ]
     },
     "execution_count": 16,
     "metadata": {},
     "output_type": "execute_result"
    }
   ],
   "source": [
    "uplift_fp_data['target'].value_counts(normalize=True)"
   ]
  },
  {
   "cell_type": "code",
   "execution_count": 15,
   "metadata": {},
   "outputs": [
    {
     "data": {
      "text/plain": [
       "treatment\n",
       "0    0.665828\n",
       "1    0.334172\n",
       "Name: proportion, dtype: float64"
      ]
     },
     "execution_count": 15,
     "metadata": {},
     "output_type": "execute_result"
    }
   ],
   "source": [
    "uplift_fp_data['treatment'].value_counts(normalize=True)"
   ]
  },
  {
   "cell_type": "markdown",
   "metadata": {},
   "source": [
    "### **Вывод по EDA:**\n",
    "\n",
    "- **Распределение целевой переменной (`target`) между контрольной (`treatment=0`) и тестовой (`treatment=1`) группами очень схожи.**\n",
    "- **Доля целевого события составляет примерно 14–15% в обеих группах.**\n",
    "- Это говорит о корректной рандомизации и отсутствии явных перекосов между группами.\n",
    "- Абсолютное количество наблюдений в контрольной группе примерно в два раза больше, чем в тестовой. Это важно учитывать при дальнейшем анализе.\n"
   ]
  },
  {
   "cell_type": "markdown",
   "metadata": {},
   "source": [
    "# Этап 2"
   ]
  },
  {
   "cell_type": "markdown",
   "metadata": {},
   "source": [
    "### Проверка на статистическую значимость"
   ]
  },
  {
   "cell_type": "markdown",
   "metadata": {},
   "source": [
    "Шаг 1: Разделите данные на контрольную и тестовую группы"
   ]
  },
  {
   "cell_type": "code",
   "execution_count": 7,
   "metadata": {},
   "outputs": [],
   "source": [
    "control = uplift_fp_data[uplift_fp_data['treatment'] == 0]['target']\n",
    "treatment = uplift_fp_data[uplift_fp_data['treatment'] == 1]['target']"
   ]
  },
  {
   "cell_type": "markdown",
   "metadata": {},
   "source": [
    "Шаг 2: Анализ средних значений и стандартных отклонений"
   ]
  },
  {
   "cell_type": "code",
   "execution_count": 8,
   "metadata": {},
   "outputs": [
    {
     "name": "stdout",
     "output_type": "stream",
     "text": [
      "📊 Статистики по группам:\n",
      "\n",
      "Контрольная группа:\n",
      "  Среднее значение:           0.1445\n",
      "  Стандартное отклонение:     0.3516\n",
      "\n",
      "Тестовая группа:\n",
      "  Среднее значение:           0.1514\n",
      "  Стандартное отклонение:     0.3584\n"
     ]
    }
   ],
   "source": [
    "mean_control = np.mean(control)\n",
    "std_control = np.std(control, ddof=1)\n",
    "\n",
    "mean_treatment = np.mean(treatment)\n",
    "std_treatment = np.std(treatment, ddof=1)\n",
    "\n",
    "# Вывод\n",
    "print(\"📊 Статистики по группам:\\n\")\n",
    "print(f\"Контрольная группа:\")\n",
    "print(f\"  Среднее значение:           {mean_control:.4f}\")\n",
    "print(f\"  Стандартное отклонение:     {std_control:.4f}\\n\")\n",
    "\n",
    "print(f\"Тестовая группа:\")\n",
    "print(f\"  Среднее значение:           {mean_treatment:.4f}\")\n",
    "print(f\"  Стандартное отклонение:     {std_treatment:.4f}\")"
   ]
  },
  {
   "cell_type": "markdown",
   "metadata": {},
   "source": [
    "#### Вывод по результатам сравнения групп\n",
    "\n",
    "- **Среднее значение** в тестовой группе (0.1514) чуть выше, чем в контрольной (0.1445).  \n",
    "- **Стандартное отклонение** также немного выше в тестовой группе (0.3584 против 0.3516), что говорит о немного большей разбросанности данных.  \n",
    "- Разница в средних значениях **незначительная** — предварительно можно предположить, что эффекта почти нет, однако для окончательного вывода стоит провести статистический тест (например, t-тест для независимых выборок), чтобы проверить, является ли эта разница статистически значимой.\n",
    "\n",
    "**Предварительный вывод:** изменений между контрольной и тестовой группой практически не наблюдается."
   ]
  },
  {
   "cell_type": "markdown",
   "metadata": {},
   "source": [
    "##### 📄 Шаг 3: Обоснование выбора статистического теста\n",
    "\n",
    "Целевая переменная `target` является бинарной (0 или 1), поэтому сравнение между контрольной и тестовой группами фактически означает сравнение **долей откликнувшихся пользователей**.\n",
    "\n",
    "##### Возможные тесты:\n",
    "- **t-тест для независимых выборок (Welch’s t-test)** — сравнивает средние (в нашем случае — доли), допускает разные дисперсии.\n",
    "- **Манна–Уитни (непараметрический тест)** — сравнивает распределения, используется если данные не нормальны.\n",
    "- **Z-тест для пропорций** — также подходит, но t-тест используется чаще, так как он встроен в большинство библиотек и адаптирован под реальную дисперсию.\n",
    "\n",
    "##### Наш подход:\n",
    "1. Проверяем нормальность распределений в каждой группе с помощью **теста Шапиро–Уилка**.\n",
    "2. Если обе группы нормальны (p > 0.05), используем **t-тест с поправкой на неравные дисперсии (Welch’s)**.\n",
    "3. Если хотя бы одно распределение не нормальное — используем **тест Манна–Уитни**.\n",
    "\n",
    "Таким образом, тест выбирается адаптивно и надёжно."
   ]
  },
  {
   "cell_type": "markdown",
   "metadata": {},
   "source": [
    "Шаг 4: Применяем выбранный статистический тест"
   ]
  },
  {
   "cell_type": "code",
   "execution_count": 9,
   "metadata": {},
   "outputs": [
    {
     "name": "stdout",
     "output_type": "stream",
     "text": [
      "\n",
      "📈 Проверка нормальности (тест Шапиро–Уилка):\n",
      "  Контрольная группа: p = 0.0000\n",
      "  Тестовая группа:    p = 0.0000\n",
      "\n",
      "🧪 Применённый тест: тест Манна–Уитни\n",
      "  Статистика: 458843376.5000\n",
      "  p-value:    0.0193\n"
     ]
    },
    {
     "name": "stderr",
     "output_type": "stream",
     "text": [
      "/Users/a.hrameev/miniconda3/envs/ya/lib/python3.11/site-packages/scipy/stats/_axis_nan_policy.py:586: UserWarning: scipy.stats.shapiro: For N > 5000, computed p-value may not be accurate. Current N is 42613.\n",
      "  res = hypotest_fun_out(*samples, **kwds)\n",
      "/Users/a.hrameev/miniconda3/envs/ya/lib/python3.11/site-packages/scipy/stats/_axis_nan_policy.py:586: UserWarning: scipy.stats.shapiro: For N > 5000, computed p-value may not be accurate. Current N is 21387.\n",
      "  res = hypotest_fun_out(*samples, **kwds)\n"
     ]
    }
   ],
   "source": [
    "from scipy.stats import shapiro, ttest_ind, mannwhitneyu\n",
    "\n",
    "# Проверка нормальности\n",
    "p_shapiro_control = shapiro(control).pvalue\n",
    "p_shapiro_treatment = shapiro(treatment).pvalue\n",
    "\n",
    "print(\"\\n📈 Проверка нормальности (тест Шапиро–Уилка):\")\n",
    "print(f\"  Контрольная группа: p = {p_shapiro_control:.4f}\")\n",
    "print(f\"  Тестовая группа:    p = {p_shapiro_treatment:.4f}\")\n",
    "\n",
    "# Выбор и применение теста\n",
    "if p_shapiro_control > 0.05 and p_shapiro_treatment > 0.05:\n",
    "    test_name = \"t-тест (Welch’s)\"\n",
    "    stat, p_value = ttest_ind(treatment, control, equal_var=False)\n",
    "else:\n",
    "    test_name = \"тест Манна–Уитни\"\n",
    "    stat, p_value = mannwhitneyu(treatment, control, alternative='two-sided')\n",
    "\n",
    "# Вывод результата\n",
    "print(f\"\\n🧪 Применённый тест: {test_name}\")\n",
    "print(f\"  Статистика: {stat:.4f}\")\n",
    "print(f\"  p-value:    {p_value:.4f}\")"
   ]
  },
  {
   "cell_type": "markdown",
   "metadata": {},
   "source": [
    "Шаг 5: Интерпретация результата"
   ]
  },
  {
   "cell_type": "code",
   "execution_count": 10,
   "metadata": {},
   "outputs": [
    {
     "name": "stdout",
     "output_type": "stream",
     "text": [
      "\n",
      "✅ Различия между группами статистически значимы (p < 0.05).\n"
     ]
    }
   ],
   "source": [
    "if p_value < 0.05:\n",
    "    print(\"\\n✅ Различия между группами статистически значимы (p < 0.05).\")\n",
    "else:\n",
    "    print(\"\\n❌ Различия между группами не являются статистически значимыми (p ≥ 0.05).\")"
   ]
  },
  {
   "cell_type": "markdown",
   "metadata": {},
   "source": [
    "#### **Вывод:**  \n",
    "Хотя среднее значение в тестовой группе лишь немного выше, чем в контрольной, а разброс данных схож, статистический анализ показал, что эта разница является статистически значимой (p < 0.05), что указывает на наличие реального эффекта, а не случайного колебания.\n"
   ]
  },
  {
   "cell_type": "markdown",
   "metadata": {},
   "source": [
    "## Построение корреляций"
   ]
  },
  {
   "cell_type": "code",
   "execution_count": 12,
   "metadata": {},
   "outputs": [
    {
     "data": {
      "image/png": "[encoded data removed]",
      "text/plain": [
       "<Figure size 1000x800 with 2 Axes>"
      ]
     },
     "metadata": {},
     "output_type": "display_data"
    },
    {
     "name": "stdout",
     "output_type": "stream",
     "text": [
      "Корреляция признаков с целевой переменной (target):\n",
      "history_segment    0.069734\n",
      "history            0.065153\n",
      "womens             0.051999\n",
      "zip_code           0.037570\n",
      "channel            0.010584\n",
      "treatment          0.009247\n",
      "mens               0.006712\n",
      "newbie            -0.073924\n",
      "recency           -0.074765\n",
      "Name: target, dtype: float64\n",
      "\n",
      "Корреляция признаков с переменной treatment:\n",
      "target             0.009247\n",
      "history_segment    0.001869\n",
      "newbie             0.001416\n",
      "history            0.001247\n",
      "recency            0.000831\n",
      "womens             0.000544\n",
      "zip_code           0.000214\n",
      "channel           -0.002954\n",
      "mens              -0.002991\n",
      "Name: treatment, dtype: float64\n"
     ]
    }
   ],
   "source": [
    "# Рассчитаем корреляционную матрицу по всем числовым признакам, включая target и treatment\n",
    "corr_matrix = uplift_fp_data.corr(numeric_only=True)\n",
    "\n",
    "# Визуализируем корреляционную матрицу с помощью тепловой карты\n",
    "plt.figure(figsize=(10, 8))\n",
    "sns.heatmap(corr_matrix, annot=True, fmt=\".2f\", cmap=\"coolwarm\", vmin=-1, vmax=1)\n",
    "plt.title(\"Корреляционная матрица признаков\")\n",
    "plt.show()\n",
    "\n",
    "# Посмотрим на корреляцию признаков с целевой переменной, исключая саму переменную\n",
    "corr_with_target = corr_matrix['target'].drop('target').sort_values(ascending=False)\n",
    "print(\"Корреляция признаков с целевой переменной (target):\")\n",
    "print(corr_with_target)\n",
    "\n",
    "# Посмотрим на корреляцию признаков с treatment, исключая саму переменную\n",
    "corr_with_treatment = corr_matrix['treatment'].drop('treatment').sort_values(ascending=False)\n",
    "print(\"\\nКорреляция признаков с переменной treatment:\")\n",
    "print(corr_with_treatment)\n"
   ]
  },
  {
   "cell_type": "markdown",
   "metadata": {},
   "source": [
    "#### **Вывод по корреляционному анализу:**\n",
    "\n",
    "- Анализ корреляции показал, что связь признаков с целевой переменной **слабая** (коэффициенты не превышают ±0.08), что указывает на отсутствие выраженной линейной зависимости. Наибольшую положительную корреляцию с целевой переменной имеют `history_segment` (0.0697) и `history` (0.0652), а наибольшую отрицательную — `recency` (-0.0748) и `newbie` (-0.0739).  \n",
    "\n",
    "- Связь признаков с переменной `treatment` практически отсутствует (значения коэффициентов близки к нулю), что говорит об отсутствии мультиколлинеарности между фактором назначения в тест и другими признаками.  \n",
    "\n",
    "- **Для стратификации** при формировании тестовой и контрольной групп можно использовать признаки, наиболее связанные с целевой переменной: `history_segment`, `history`, `recency`, `newbie`. Это позволит сбалансировать группы по значимым характеристикам.  \n",
    "\n",
    "- **Признаки с минимальной информативностью** по отношению к целевой переменной и `treatment` (`channel`, `mens`, `zip_code`) можно рассматривать как кандидатов для исключения из модели или анализа, так как их вклад в прогноз и сегментацию минимален."
   ]
  },
  {
   "cell_type": "markdown",
   "metadata": {},
   "source": [
    "## Этап 3"
   ]
  },
  {
   "cell_type": "markdown",
   "metadata": {},
   "source": [
    "#### **Обоснование выбора uplift-модели**\n",
    "В качестве бейзлайна для uplift-моделирования используется просто CatBoostClassifier.\n",
    " \n",
    "CatBoost хорошо работает с категориальными и числовыми признаками, устойчив к мультиколлинеарности и не требует сложной предобработки данных. \n",
    "Для задачи с бинарным treatment и целевой переменной CatBoostClassifier позволяет быстро получить сильную базовую модель для оценки uplift-эффекта."
   ]
  },
  {
   "cell_type": "markdown",
   "metadata": {},
   "source": [
    "### Разбиение выборки на тренировочную и тестовую"
   ]
  },
  {
   "cell_type": "code",
   "execution_count": 93,
   "metadata": {},
   "outputs": [],
   "source": [
    "from sklearn.model_selection import train_test_split\n",
    "\n",
    "# Разделим данные на признаки и целевую переменную\n",
    "X = uplift_fp_data.drop('target', axis=1)\n",
    "y = uplift_fp_data['target']\n",
    "\n",
    "X_train, X_test, y_train, y_test = train_test_split(\n",
    "    X, y, test_size=0.3, random_state=RANDOM_STATE, stratify=uplift_fp_data[['target', 'treatment']]\n",
    ")\n",
    "\n"
   ]
  },
  {
   "cell_type": "markdown",
   "metadata": {},
   "source": [
    "### Обучение выбранного бейзлайна"
   ]
  },
  {
   "cell_type": "code",
   "execution_count": 33,
   "metadata": {},
   "outputs": [
    {
     "name": "stdout",
     "output_type": "stream",
     "text": [
      "0:\tlearn: 0.6451566\ttotal: 58.9ms\tremaining: 5.83s\n",
      "99:\tlearn: 0.3975504\ttotal: 231ms\tremaining: 0us\n"
     ]
    },
    {
     "data": {
      "text/plain": [
       "<catboost.core.CatBoostClassifier at 0x3104f6990>"
      ]
     },
     "execution_count": 33,
     "metadata": {},
     "output_type": "execute_result"
    }
   ],
   "source": [
    "from catboost import CatBoostClassifier\n",
    "\n",
    "# CatBoostClassifier для бейзлайна\n",
    "catboost_model = CatBoostClassifier(\n",
    "    iterations=100,\n",
    "    depth=6,\n",
    "    learning_rate=0.1,\n",
    "    random_seed=42,\n",
    "    verbose=100,\n",
    "    allow_writing_files=False\n",
    ")\n",
    "\n",
    "# Обучаем CatBoost на тренировочных данных\n",
    "catboost_model.fit(X_train, y_train)\n"
   ]
  },
  {
   "cell_type": "code",
   "execution_count": 34,
   "metadata": {},
   "outputs": [
    {
     "data": {
      "text/html": [
       "<div>\n",
       "<style scoped>\n",
       "    .dataframe tbody tr th:only-of-type {\n",
       "        vertical-align: middle;\n",
       "    }\n",
       "\n",
       "    .dataframe tbody tr th {\n",
       "        vertical-align: top;\n",
       "    }\n",
       "\n",
       "    .dataframe thead th {\n",
       "        text-align: right;\n",
       "    }\n",
       "</style>\n",
       "<table border=\"1\" class=\"dataframe\">\n",
       "  <thead>\n",
       "    <tr style=\"text-align: right;\">\n",
       "      <th></th>\n",
       "      <th>recency</th>\n",
       "      <th>history_segment</th>\n",
       "      <th>history</th>\n",
       "      <th>mens</th>\n",
       "      <th>womens</th>\n",
       "      <th>zip_code</th>\n",
       "      <th>newbie</th>\n",
       "      <th>channel</th>\n",
       "      <th>treatment</th>\n",
       "      <th>predicted_uplift</th>\n",
       "    </tr>\n",
       "  </thead>\n",
       "  <tbody>\n",
       "    <tr>\n",
       "      <th>8020</th>\n",
       "      <td>2</td>\n",
       "      <td>0</td>\n",
       "      <td>36.89</td>\n",
       "      <td>1</td>\n",
       "      <td>0</td>\n",
       "      <td>1</td>\n",
       "      <td>0</td>\n",
       "      <td>1</td>\n",
       "      <td>0</td>\n",
       "      <td>-0.015254</td>\n",
       "    </tr>\n",
       "    <tr>\n",
       "      <th>63345</th>\n",
       "      <td>11</td>\n",
       "      <td>1</td>\n",
       "      <td>156.72</td>\n",
       "      <td>1</td>\n",
       "      <td>0</td>\n",
       "      <td>1</td>\n",
       "      <td>0</td>\n",
       "      <td>2</td>\n",
       "      <td>1</td>\n",
       "      <td>-0.027180</td>\n",
       "    </tr>\n",
       "    <tr>\n",
       "      <th>7493</th>\n",
       "      <td>5</td>\n",
       "      <td>0</td>\n",
       "      <td>38.93</td>\n",
       "      <td>0</td>\n",
       "      <td>1</td>\n",
       "      <td>1</td>\n",
       "      <td>1</td>\n",
       "      <td>1</td>\n",
       "      <td>0</td>\n",
       "      <td>0.034023</td>\n",
       "    </tr>\n",
       "    <tr>\n",
       "      <th>4673</th>\n",
       "      <td>1</td>\n",
       "      <td>4</td>\n",
       "      <td>558.84</td>\n",
       "      <td>1</td>\n",
       "      <td>0</td>\n",
       "      <td>0</td>\n",
       "      <td>1</td>\n",
       "      <td>0</td>\n",
       "      <td>0</td>\n",
       "      <td>-0.019766</td>\n",
       "    </tr>\n",
       "    <tr>\n",
       "      <th>7910</th>\n",
       "      <td>3</td>\n",
       "      <td>1</td>\n",
       "      <td>167.13</td>\n",
       "      <td>0</td>\n",
       "      <td>1</td>\n",
       "      <td>1</td>\n",
       "      <td>0</td>\n",
       "      <td>1</td>\n",
       "      <td>0</td>\n",
       "      <td>0.047216</td>\n",
       "    </tr>\n",
       "    <tr>\n",
       "      <th>...</th>\n",
       "      <td>...</td>\n",
       "      <td>...</td>\n",
       "      <td>...</td>\n",
       "      <td>...</td>\n",
       "      <td>...</td>\n",
       "      <td>...</td>\n",
       "      <td>...</td>\n",
       "      <td>...</td>\n",
       "      <td>...</td>\n",
       "      <td>...</td>\n",
       "    </tr>\n",
       "    <tr>\n",
       "      <th>14552</th>\n",
       "      <td>9</td>\n",
       "      <td>1</td>\n",
       "      <td>102.42</td>\n",
       "      <td>1</td>\n",
       "      <td>0</td>\n",
       "      <td>1</td>\n",
       "      <td>1</td>\n",
       "      <td>1</td>\n",
       "      <td>0</td>\n",
       "      <td>-0.002421</td>\n",
       "    </tr>\n",
       "    <tr>\n",
       "      <th>50779</th>\n",
       "      <td>3</td>\n",
       "      <td>2</td>\n",
       "      <td>323.02</td>\n",
       "      <td>1</td>\n",
       "      <td>0</td>\n",
       "      <td>1</td>\n",
       "      <td>0</td>\n",
       "      <td>1</td>\n",
       "      <td>0</td>\n",
       "      <td>-0.029605</td>\n",
       "    </tr>\n",
       "    <tr>\n",
       "      <th>40568</th>\n",
       "      <td>2</td>\n",
       "      <td>3</td>\n",
       "      <td>389.30</td>\n",
       "      <td>0</td>\n",
       "      <td>1</td>\n",
       "      <td>0</td>\n",
       "      <td>0</td>\n",
       "      <td>1</td>\n",
       "      <td>0</td>\n",
       "      <td>0.035755</td>\n",
       "    </tr>\n",
       "    <tr>\n",
       "      <th>46954</th>\n",
       "      <td>7</td>\n",
       "      <td>1</td>\n",
       "      <td>106.54</td>\n",
       "      <td>0</td>\n",
       "      <td>1</td>\n",
       "      <td>1</td>\n",
       "      <td>0</td>\n",
       "      <td>2</td>\n",
       "      <td>1</td>\n",
       "      <td>0.041937</td>\n",
       "    </tr>\n",
       "    <tr>\n",
       "      <th>14456</th>\n",
       "      <td>4</td>\n",
       "      <td>4</td>\n",
       "      <td>519.79</td>\n",
       "      <td>1</td>\n",
       "      <td>0</td>\n",
       "      <td>0</td>\n",
       "      <td>1</td>\n",
       "      <td>0</td>\n",
       "      <td>0</td>\n",
       "      <td>-0.011584</td>\n",
       "    </tr>\n",
       "  </tbody>\n",
       "</table>\n",
       "<p>19200 rows × 10 columns</p>\n",
       "</div>"
      ],
      "text/plain": [
       "       recency  history_segment  history  mens  womens  zip_code  newbie  \\\n",
       "8020         2                0    36.89     1       0         1       0   \n",
       "63345       11                1   156.72     1       0         1       0   \n",
       "7493         5                0    38.93     0       1         1       1   \n",
       "4673         1                4   558.84     1       0         0       1   \n",
       "7910         3                1   167.13     0       1         1       0   \n",
       "...        ...              ...      ...   ...     ...       ...     ...   \n",
       "14552        9                1   102.42     1       0         1       1   \n",
       "50779        3                2   323.02     1       0         1       0   \n",
       "40568        2                3   389.30     0       1         0       0   \n",
       "46954        7                1   106.54     0       1         1       0   \n",
       "14456        4                4   519.79     1       0         0       1   \n",
       "\n",
       "       channel  treatment  predicted_uplift  \n",
       "8020         1          0         -0.015254  \n",
       "63345        2          1         -0.027180  \n",
       "7493         1          0          0.034023  \n",
       "4673         0          0         -0.019766  \n",
       "7910         1          0          0.047216  \n",
       "...        ...        ...               ...  \n",
       "14552        1          0         -0.002421  \n",
       "50779        1          0         -0.029605  \n",
       "40568        1          0          0.035755  \n",
       "46954        2          1          0.041937  \n",
       "14456        0          0         -0.011584  \n",
       "\n",
       "[19200 rows x 10 columns]"
      ]
     },
     "execution_count": 34,
     "metadata": {},
     "output_type": "execute_result"
    }
   ],
   "source": [
    "# чтобы оценить uplift-эффекта для каждого пользователя:\n",
    "# 1. Создаём копию тестовых данных\n",
    "X_test_uplift = X_test.copy()\n",
    "X_test_treated = X_test.copy()\n",
    "X_test_control = X_test.copy()\n",
    "\n",
    "# 2. Устанавливаем значение признака treatment\n",
    "X_test_treated['treatment'] = 1  # С воздействием\n",
    "X_test_control['treatment'] = 0  # Без воздействия\n",
    "\n",
    "# 3. Предсказываем результаты для обоих случаев\n",
    "y_pred_treated = catboost_model.predict_proba(X_test_treated)[:,1]\n",
    "y_pred_control = catboost_model.predict_proba(X_test_control)[:,1]\n",
    "\n",
    "# 4. Вычисляем uplift как разницу между предсказаниями\n",
    "uplift_vals = y_pred_treated - y_pred_control\n",
    "\n",
    "# Добавляем предсказанный uplift к тестовым данным для анализа\n",
    "X_test_uplift['predicted_uplift'] = uplift_vals\n",
    "\n",
    "X_test_uplift"
   ]
  },
  {
   "cell_type": "markdown",
   "metadata": {},
   "source": [
    "### Важность признаков представить в виде графика"
   ]
  },
  {
   "cell_type": "code",
   "execution_count": 35,
   "metadata": {},
   "outputs": [
    {
     "data": {
      "image/png": "[encoded data removed]",
      "text/plain": [
       "<Figure size 1000x600 with 1 Axes>"
      ]
     },
     "metadata": {},
     "output_type": "display_data"
    },
    {
     "name": "stdout",
     "output_type": "stream",
     "text": [
      "Важности признаков:\n",
      "newbie: 18.6697\n",
      "recency: 15.9126\n",
      "womens: 12.8539\n",
      "channel: 10.4479\n",
      "zip_code: 10.2540\n",
      "mens: 9.5058\n",
      "history: 9.2048\n",
      "treatment: 7.1851\n",
      "history_segment: 5.9661\n"
     ]
    }
   ],
   "source": [
    "import matplotlib.pyplot as plt\n",
    "import numpy as np\n",
    "\n",
    "# Получим важности признаков из модели CatBoost\n",
    "feature_importances = catboost_model.get_feature_importance()\n",
    "feature_names = X_train.columns\n",
    "\n",
    "# Отсортируем признаки по важности\n",
    "indices = np.argsort(feature_importances)[::-1]\n",
    "sorted_features = feature_names[indices]\n",
    "sorted_importances = feature_importances[indices]\n",
    "\n",
    "plt.figure(figsize=(10, 6))\n",
    "plt.title(\"Важность признаков\")\n",
    "plt.barh(range(len(sorted_features)), sorted_importances[::-1], align='center')\n",
    "plt.yticks(range(len(sorted_features)), sorted_features[::-1])\n",
    "plt.xlabel(\"Важность\")\n",
    "plt.tight_layout()\n",
    "plt.savefig(\"feature_importance.png\", format=\"png\")  # Сохраняем как PNG\n",
    "plt.show()\n",
    "\n",
    "# Выведем важности признаков списком\n",
    "print(\"Важности признаков:\")\n",
    "for name, importance in zip(sorted_features, sorted_importances):\n",
    "    print(f\"{name}: {importance:.4f}\")\n"
   ]
  },
  {
   "cell_type": "markdown",
   "metadata": {},
   "source": [
    "На графике выше видно, что наибольшую важность для модели имеют следующие признаки (значения важности указаны в скобках):\n",
    " - newbie (новый клиент): 18.67\n",
    " - recency (давность последней покупки): 15.91\n",
    " - womens (пол — женский): 12.85\n",
    " - channel (канал коммуникации): 10.45\n",
    " - zip_code (почтовый индекс): 10.25\n",
    " - mens (пол — мужской): 9.51\n",
    " - history (история покупок): 9.20\n",
    " - treatment (факт воздействия): 7.19\n",
    " - history_segment (сегмент по истории): 5.97\n",
    "\n",
    " Наибольший вклад в предсказания модели вносит признак \"newbie\" (новый клиент), а также признаки, связанные с давностью последней покупки (recency) и полом клиента (womens, mens).\n",
    " Признаки \"channel\", \"zip_code\", \"history\" и \"treatment\" также оказывают заметное влияние на предсказания модели.\n",
    " Сегмент по истории (\"history_segment\") имеет наименьшую, но не нулевую важность.\n",
    "\n",
    " Это говорит о том, что статус клиента (новый или нет), его недавняя активность, а также пол и канал коммуникации — ключевые факторы для uplift-моделирования в данной задаче.\n",
    "Для дальнейшего улучшения модели стоит сфокусироваться на анализе поведения новых клиентов, а также на генерации новых признаков, связанных с каналом коммуникации и историей покупок.\n"
   ]
  },
  {
   "cell_type": "markdown",
   "metadata": {},
   "source": [
    "### Расчет метрик для выбранного бейзлайна на тестовой выборке"
   ]
  },
  {
   "cell_type": "code",
   "execution_count": 75,
   "metadata": {},
   "outputs": [
    {
     "name": "stdout",
     "output_type": "stream",
     "text": [
      "Qini AUC: 0.0574\n",
      "Uplift AUC: 0.0256\n",
      "Uplift@30%: 0.0362\n"
     ]
    }
   ],
   "source": [
    "from sklift.metrics import uplift_at_k, qini_auc_score, uplift_auc_score\n",
    "\n",
    "# Qini AUC\n",
    "qini_auc = qini_auc_score(y_true=y_test.values, uplift=uplift_vals, treatment=X_test_uplift['treatment'].values)\n",
    "\n",
    "# Uplift AUC\n",
    "uplift_auc = uplift_auc_score(y_true=y_test.values, uplift=uplift_vals, treatment=X_test_uplift['treatment'].values)\n",
    "\n",
    "# Uplift@30%\n",
    "uplift_at_30 = uplift_at_k(y_true=y_test.values, uplift=uplift_vals, treatment=X_test_uplift['treatment'].values, strategy='by_group', k=0.3)\n",
    "\n",
    "print(f\"Qini AUC: {qini_auc:.4f}\")\n",
    "print(f\"Uplift AUC: {uplift_auc:.4f}\")\n",
    "print(f\"Uplift@30%: {uplift_at_30:.4f}\")\n"
   ]
  },
  {
   "cell_type": "markdown",
   "metadata": {},
   "source": [
    "#### 📊 Выводы по метрикам\n",
    "\n",
    "| Метрика        | Значение  |\n",
    "|:--------------:|:---------:|\n",
    "| **Qini AUC**   | 0.0574    |\n",
    "| **Uplift AUC** | 0.0256    |\n",
    "| **Uplift@30%** | 0.0362    |\n",
    "\n",
    "Значения метрик невысокие.\n",
    "\n",
    "Модель неплохо различает пользователей, на которых воздействие `treatment` оказывает положительный эффект, однако потенциал для улучшения остается значительным.\n",
    "\n",
    "**Рекомендации:**\n",
    "- Продолжить работу над feature engineering\n",
    "- Рассмотреть альтернативные модели (`Т-Learner`, `X-Learner` и др.)"
   ]
  },
  {
   "cell_type": "markdown",
   "metadata": {},
   "source": [
    "#### Логируем в mlflow"
   ]
  },
  {
   "cell_type": "code",
   "execution_count": 47,
   "metadata": {},
   "outputs": [
    {
     "name": "stderr",
     "output_type": "stream",
     "text": [
      "2025/08/07 15:53:53 WARNING mlflow.utils.environment: Encountered an unexpected error while inferring pip requirements (model URI: /var/folders/md/wzk6m8kj39v1mnc59nyt9z5m0000gn/T/tmp4yxr5uwu/model, flavor: catboost). Fall back to return ['catboost==1.2.8']. Set logging level to DEBUG to see the full traceback. \n",
      "Successfully registered model 'uplift_baseline_catboost'.\n",
      "2025/08/07 15:53:54 INFO mlflow.store.model_registry.abstract_store: Waiting up to 300 seconds for model version to finish creation. Model name: uplift_baseline_catboost, version 1\n",
      "Created version '1' of model 'uplift_baseline_catboost'.\n"
     ]
    },
    {
     "name": "stdout",
     "output_type": "stream",
     "text": [
      "🏃 View run uplift_baseline_catboost at: http://127.0.0.1:5000/#/experiments/34/runs/13460957fab343d4bccf9431bb64f7a6\n",
      "🧪 View experiment at: http://127.0.0.1:5000/#/experiments/34\n"
     ]
    }
   ],
   "source": [
    "import mlflow.catboost\n",
    "from mlflow.models.signature import infer_signature\n",
    "\n",
    "RUN_NAME_CATBOOST = \"uplift_baseline_catboost\"\n",
    "REGISTRY_MODEL_NAME = \"uplift_baseline_catboost\"\n",
    "\n",
    "mlflow.set_experiment(EXPERIMENT_NAME)\n",
    "\n",
    "\n",
    "with mlflow.start_run(run_name=RUN_NAME_CATBOOST):\n",
    "    # Логируем параметры модели\n",
    "    mlflow.log_params(catboost_model.get_params())\n",
    "\n",
    "    # Логируем uplift-метрики\n",
    "    mlflow.log_metric(\"qini_auc\", qini_auc)\n",
    "    mlflow.log_metric(\"uplift_auc\", uplift_auc)\n",
    "    mlflow.log_metric(\"uplift_at_30\", uplift_at_30)\n",
    "\n",
    "    # Логируем важность признаков как артефакт\n",
    "    mlflow.log_artifact(\"feature_importance.png\")\n",
    "\n",
    "    # сигнатура для модели\n",
    "    signature = infer_signature(X_test, catboost_model.predict(X_test))\n",
    "\n",
    "    # Логируем модель в MLflow\n",
    "    mlflow.catboost.log_model(\n",
    "        cb_model=catboost_model,\n",
    "        name=\"uplift_model\",\n",
    "        registered_model_name=REGISTRY_MODEL_NAME, \n",
    "        pip_requirements=\"./requirements.txt\",\n",
    "        signature=signature\n",
    "    )"
   ]
  },
  {
   "cell_type": "markdown",
   "metadata": {},
   "source": [
    "# Обучение 2 моделей "
   ]
  },
  {
   "cell_type": "markdown",
   "metadata": {},
   "source": [
    "Некоторые uplift модели из библиотеки `causalml` будут требовать категориальные значения воздействия. Для этого используйте маппинг"
   ]
  },
  {
   "cell_type": "code",
   "execution_count": 105,
   "metadata": {},
   "outputs": [],
   "source": [
    "from sklearn.model_selection import train_test_split\n",
    "\n",
    "# Разделим данные на признаки и целевую переменную\n",
    "X = uplift_fp_data.drop('target', axis=1)\n",
    "y = uplift_fp_data['target']\n",
    "\n",
    "\n",
    "X_train, X_test, y_train, y_test = train_test_split(\n",
    "    X, y, test_size=0.3, random_state=RANDOM_STATE, stratify=uplift_fp_data[['target', 'treatment']] \n",
    ")"
   ]
  },
  {
   "cell_type": "markdown",
   "metadata": {},
   "source": [
    "### Обучение модели 1"
   ]
  },
  {
   "cell_type": "code",
   "execution_count": 91,
   "metadata": {},
   "outputs": [],
   "source": [
    "from causalml.inference.meta import BaseTClassifier\n",
    "from sklearn.ensemble import RandomForestClassifier\n",
    "from sklift.metrics import uplift_auc_score, qini_auc_score\n",
    "\n",
    "# создаём базовые модели для тестовой и контрольной групп \n",
    "treatment_model = RandomForestClassifier(\n",
    "    n_estimators=100,\n",
    "    max_depth=6,\n",
    "    random_state=RANDOM_STATE,\n",
    "    class_weight='balanced',\n",
    ")\n",
    "\n",
    "control_model = RandomForestClassifier(\n",
    "    n_estimators=100,\n",
    "    max_depth=6,\n",
    "    random_state=RANDOM_STATE,\n",
    "    class_weight='balanced',\n",
    ")\n",
    "\n",
    "# инициализируем T-learner\n",
    "t_learner = BaseTClassifier(\n",
    "    treatment_learner=treatment_model,\n",
    "    control_learner=control_model,\n",
    "    control_name=0,  # название контрольной группы в столбце treatment\n",
    ")\n",
    "\n",
    "# обучаем T-learner\n",
    "t_learner.fit(\n",
    "    X=X_train.values,  # Признаки без столбца treatment\n",
    "    treatment=X_train['treatment'].values,       # Столбец с признаком воздействия\n",
    "    y=y_train.values                            # Целевая переменная\n",
    ")"
   ]
  },
  {
   "cell_type": "code",
   "execution_count": 26,
   "metadata": {},
   "outputs": [],
   "source": [
    "uplift_pred = t_learner.predict(X_test.values)"
   ]
  },
  {
   "cell_type": "markdown",
   "metadata": {},
   "source": [
    "### Получение метрик по модели 1"
   ]
  },
  {
   "cell_type": "code",
   "execution_count": 92,
   "metadata": {},
   "outputs": [
    {
     "name": "stdout",
     "output_type": "stream",
     "text": [
      "Qini AUC: 0.0607\n",
      "Uplift AUC: 0.0269\n",
      "Uplift@30%: 0.0328\n"
     ]
    }
   ],
   "source": [
    "from sklift.metrics import uplift_at_k, qini_auc_score, uplift_auc_score\n",
    "\n",
    "# Qini AUC\n",
    "qini_auc = qini_auc_score(y_true=y_test.values, uplift=uplift_pred.squeeze(), treatment=X_test['treatment'].values)\n",
    "\n",
    "# Uplift AUC\n",
    "uplift_auc = uplift_auc_score(y_true=y_test.values, uplift=uplift_pred.squeeze(), treatment=X_test['treatment'].values)\n",
    "\n",
    "# Uplift@30%\n",
    "uplift_at_30 = uplift_at_k(y_true=y_test.values, uplift=uplift_pred.squeeze(), treatment=X_test['treatment'].values, strategy='by_group', k=0.3)\n",
    "\n",
    "print(f\"Qini AUC: {qini_auc:.4f}\")\n",
    "print(f\"Uplift AUC: {uplift_auc:.4f}\")\n",
    "print(f\"Uplift@30%: {uplift_at_30:.4f}\")"
   ]
  },
  {
   "cell_type": "markdown",
   "metadata": {},
   "source": [
    "#### 📊 Метрики T-Learner\n",
    "\n",
    "| Метрика        | Значение |\n",
    "|:--------------:|:--------:|\n",
    "| **Qini AUC**   | 0.0607   |\n",
    "| **Uplift AUC** | 0.0269   |\n",
    "| **Uplift@30%** | 0.0328   |\n",
    "\n",
    "Качество модели низкое — способность выявлять пользователей с положительным эффектом воздействия близка к случайной.\n",
    "\n",
    "#### 📌 Рекомендации\n",
    "- Улучшить признаки (**feature engineering**).\n",
    "- Проверить фичи отдельно в treatment и control.\n",
    "- Протестировать другие методы: `UpliftRandomForestClassifier`, X-Learner, R-Learner."
   ]
  },
  {
   "cell_type": "markdown",
   "metadata": {},
   "source": [
    "### Обучение модели 2"
   ]
  },
  {
   "cell_type": "code",
   "execution_count": 125,
   "metadata": {},
   "outputs": [],
   "source": [
    "from sklearn.model_selection import train_test_split\n",
    "\n",
    "# Разделим данные на признаки и целевую переменную\n",
    "X = uplift_fp_data.drop('target', axis=1)\n",
    "y = uplift_fp_data['target']\n",
    "\n",
    "\n",
    "X_train, X_test, y_train, y_test = train_test_split(\n",
    "    X, y, test_size=0.3, random_state=RANDOM_STATE, stratify=uplift_fp_data[['target', 'treatment']] \n",
    ")"
   ]
  },
  {
   "cell_type": "code",
   "execution_count": 127,
   "metadata": {},
   "outputs": [],
   "source": [
    "import numpy as np\n",
    "import pandas as pd\n",
    "from causalml.inference.meta import BaseRClassifier\n",
    "from xgboost import XGBClassifier, XGBRegressor\n",
    "\n",
    "features = uplift_fp_data.drop(columns=['target','treatment']).columns\n",
    "T = X_train.treatment.values  # 1 - treatment, 0 - control\n",
    "X_train = X_train[features]\n",
    "y_train = y_train.values  # целевая переменная\n",
    "T_test = X_test.treatment.values\n",
    "\n",
    "\n",
    "# инициализируем R-learner с моделями XGBoost\n",
    "# outcome_learner — модель для предсказания исхода без учёта воздействия\n",
    "# effect_learner — модель для оценки эффекта воздействия\n",
    "# propensity_learner — модель для оценки вероятности получения воздействия\n",
    "r_learner = BaseRClassifier(\n",
    "    outcome_learner=XGBClassifier(\n",
    "        n_estimators=200,\n",
    "        learning_rate=0.02,\n",
    "        max_depth=6,\n",
    "        random_state=42,\n",
    "        verbosity=0\n",
    "    ),\n",
    "    effect_learner=XGBRegressor(\n",
    "        n_estimators=200,\n",
    "        learning_rate=0.01,\n",
    "        max_depth=6,\n",
    "        random_state=42,\n",
    "        verbosity=0\n",
    "    ),\n",
    "    propensity_learner=XGBClassifier(\n",
    "        n_estimators=200,\n",
    "        learning_rate=0.02,\n",
    "        max_depth=6,\n",
    "        random_state=42,\n",
    "        verbosity=0\n",
    "    )\n",
    ")\n",
    "\n",
    "# инициализируем массив для propensity score\n",
    "e_x = np.zeros(len(X_train))\n",
    "T_test = X_test.treatment.values\n",
    "\n",
    "# обучаем модель для оценки propensity score\n",
    "model_e = XGBClassifier(n_estimators=200, \n",
    "                        learning_rate=0.02, \n",
    "                        max_depth=6, \n",
    "                        random_state=42, \n",
    "                        verbosity=0)\n",
    "model_e.fit(X_train, T)\n",
    "e_x = model_e.predict_proba(X_train)[:, 1]\n",
    "\n",
    "# обучаем модель R-learner\n",
    "r_learner.fit(\n",
    "    X=X_train,\n",
    "    treatment=T,\n",
    "    y=y_train,\n",
    "    p=e_x,\n",
    "    verbose=True\n",
    ")\n"
   ]
  },
  {
   "cell_type": "code",
   "execution_count": 128,
   "metadata": {},
   "outputs": [],
   "source": [
    "uplift_pred = r_learner.predict(X_test.drop(columns=['treatment']).values)"
   ]
  },
  {
   "cell_type": "markdown",
   "metadata": {},
   "source": [
    "### Получение метрик по модели 2"
   ]
  },
  {
   "cell_type": "code",
   "execution_count": 129,
   "metadata": {},
   "outputs": [
    {
     "name": "stdout",
     "output_type": "stream",
     "text": [
      "Qini AUC: 0.0581\n",
      "Uplift AUC: 0.0259\n",
      "Uplift@30%: 0.0302\n"
     ]
    }
   ],
   "source": [
    "from sklift.metrics import uplift_at_k, qini_auc_score, uplift_auc_score\n",
    "\n",
    "# Qini AUC\n",
    "qini_auc = qini_auc_score(y_true=y_test.values, uplift=uplift_pred.squeeze(), treatment=X_test['treatment'].values)\n",
    "\n",
    "# Uplift AUC\n",
    "uplift_auc = uplift_auc_score(y_true=y_test.values, uplift=uplift_pred.squeeze(), treatment=X_test['treatment'].values)\n",
    "\n",
    "# Uplift@30%\n",
    "uplift_at_30 = uplift_at_k(y_true=y_test.values, uplift=uplift_pred.squeeze(), treatment=X_test['treatment'].values, strategy='by_group', k=0.3)\n",
    "\n",
    "print(f\"Qini AUC: {qini_auc:.4f}\")\n",
    "print(f\"Uplift AUC: {uplift_auc:.4f}\")\n",
    "print(f\"Uplift@30%: {uplift_at_30:.4f}\")"
   ]
  },
  {
   "cell_type": "markdown",
   "metadata": {},
   "source": [
    "#### 📊 Метрики X-Learner\n",
    "\n",
    "| Метрика        | Значение |\n",
    "|:--------------:|:--------:|\n",
    "| **Qini AUC**   | 0.0581   |\n",
    "| **Uplift AUC** | 0.0259   |\n",
    "| **Uplift@30%** | 0.0302   |\n",
    "\n",
    "Качество модели остаётся низким — способность X-Learner выявлять пользователей с положительным эффектом воздействия по-прежнему близка к случайному выбору.\n",
    "\n",
    "#### 📌 Рекомендации\n",
    "- Улучшить признаки (**feature engineering**).\n",
    "- Проанализировать распределения и значимость фич отдельно в treatment и control.\n",
    "- Рассмотреть альтернативные подходы: `UpliftRandomForestClassifier`, T-Learner, R-Learner.  \n",
    "- Проверить корректность предобработки данных и балансировки групп."
   ]
  },
  {
   "cell_type": "markdown",
   "metadata": {},
   "source": [
    "Проинтерпретируйте полученные результаты и обоснуйте выбор 1 модели в этой ячейке"
   ]
  },
  {
   "cell_type": "markdown",
   "metadata": {},
   "source": [
    "# Часть 2"
   ]
  },
  {
   "cell_type": "markdown",
   "metadata": {},
   "source": [
    "## Этап 1\n",
    "Улучшите бейзлайн выбранной модели"
   ]
  },
  {
   "cell_type": "code",
   "execution_count": null,
   "metadata": {},
   "outputs": [],
   "source": []
  },
  {
   "cell_type": "markdown",
   "metadata": {},
   "source": [
    "#### Генерация признаков (опционально)"
   ]
  },
  {
   "cell_type": "code",
   "execution_count": null,
   "metadata": {},
   "outputs": [],
   "source": []
  },
  {
   "cell_type": "markdown",
   "metadata": {},
   "source": [
    "### Подбор гиперпараметров"
   ]
  },
  {
   "cell_type": "code",
   "execution_count": null,
   "metadata": {},
   "outputs": [],
   "source": [
    "from optuna import create_study\n",
    "from sklift.metrics import uplift_at_k\n",
    "\n",
    "def objective(trial):\n",
    "    # Дополните код для подбора гиперпараметров\n",
    "\n",
    "    uplift_at_30 = uplift_at_k(y_test, uplift_pred, treatment_test, k=0.3, strategy='overall')\n",
    "    return uplift_at_30\n",
    "\n",
    "# Создаем и запускаем исследование\n",
    "study = create_study(direction='maximize')\n",
    "study.optimize(objective, n_trials=100)\n",
    "\n",
    "# Выводим лучшие гиперпараметры\n",
    "print(\"Best hyperparameters: \", study.best_params)\n",
    "print(\"Best score: \", study.best_value)\n"
   ]
  },
  {
   "cell_type": "markdown",
   "metadata": {},
   "source": [
    "## Этап 2"
   ]
  },
  {
   "cell_type": "markdown",
   "metadata": {},
   "source": [
    "### Визуализация результатов"
   ]
  },
  {
   "cell_type": "code",
   "execution_count": null,
   "metadata": {},
   "outputs": [],
   "source": [
    "from utils import custom_uplift_by_percentile"
   ]
  },
  {
   "cell_type": "code",
   "execution_count": null,
   "metadata": {},
   "outputs": [],
   "source": []
  },
  {
   "cell_type": "code",
   "execution_count": null,
   "metadata": {},
   "outputs": [],
   "source": []
  },
  {
   "cell_type": "markdown",
   "metadata": {},
   "source": [
    "В данной ячейке сделайте вывод о качестве работы модели и проинтерпретируйте график `uplift by percentile` "
   ]
  },
  {
   "cell_type": "markdown",
   "metadata": {},
   "source": [
    "# Этап 3"
   ]
  },
  {
   "cell_type": "code",
   "execution_count": null,
   "metadata": {},
   "outputs": [],
   "source": [
    "# Класс для инференса модели\n",
    "class UpliftModelInference:\n",
    "    \"\"\"\n",
    "    Класс для инференса uplift модели.\n",
    "    \"\"\"\n",
    "    \n",
    "    def __init__(self, model, feature_names, logger=None):\n",
    "        \"\"\"\n",
    "        Инициализация класса.\n",
    "        \n",
    "        Аргументы:\n",
    "            model: Обученная модель uplift\n",
    "            feature_names: Список признаков для предсказания \n",
    "            logger: Объект для логирования (по умолчанию None)\n",
    "        \"\"\"\n",
    "        self.model = model\n",
    "        self.feature_names = ['recency', 'history_segment', 'history', 'mens', 'womens', 'zip_code', 'newbie', 'channel']\n",
    "        self.logger = logger\n",
    "        \n",
    "        if self.logger:\n",
    "            self.logger.info(\"Модель UpliftModel инициализирована с признаками: %s\", feature_names)\n",
    "\n",
    "    def _transform_data(self, X):\n",
    "        \"\"\"\n",
    "        Преобразование данных для модели.\n",
    "        \n",
    "        Аргументы:\n",
    "            X: pandas.DataFrame с признаками\n",
    "        \"\"\"\n",
    "        if self.logger:\n",
    "            self.logger.debug(\"Преобразование входных данных размерности %s\", X.shape)\n",
    "\n",
    "        # реализуйте преобразование данных для модели,\n",
    "        # если в финальной модели используются новые признаки\n",
    "       \n",
    "\n",
    "        return X\n",
    "    \n",
    "    def predict(self, X):\n",
    "        \"\"\"\n",
    "        Получение предсказаний uplift.\n",
    "        \n",
    "        Аргументы:\n",
    "            X: pandas.DataFrame с признаками\n",
    "            \n",
    "        Возвращает:\n",
    "            numpy.array с предсказанными значениями uplift\n",
    "        \"\"\"\n",
    "        # Проверяем, что датафрейм не пустой\n",
    "        if X.empty:\n",
    "            if self.logger:\n",
    "                self.logger.error(\"Предоставлен пустой датафрейм\")\n",
    "            return None\n",
    "            \n",
    "        # Проверяем наличие пропущенных значений\n",
    "        if X.isnull().any().any():\n",
    "            if self.logger:\n",
    "                self.logger.error(\"Входные данные содержат пропущенные значения\")\n",
    "            return [None]*len(X)\n",
    "        \n",
    "        if self.logger:\n",
    "            self.logger.info(\"Выполняем предсказания для данных размерности %s\", X.shape)\n",
    "\n",
    "        # Проверяем наличие всех необходимых признаков\n",
    "        missing_features = set(self.feature_names) - set(X.columns)\n",
    "        if missing_features:\n",
    "            error_msg = f\"Отсутствуют признаки: {missing_features}\"\n",
    "            if self.logger:\n",
    "                self.logger.error(error_msg)\n",
    "\n",
    "            return [None]*len(X)\n",
    "        \n",
    "        # Преобразуем данные для модели\n",
    "        if self.logger:\n",
    "            self.logger.debug(\"Начинаем преобразование данных\")\n",
    "        X = self._transform_data(X)\n",
    "        \n",
    "        # Вычисляем uplift\n",
    "        if self.logger:\n",
    "            self.logger.debug(\"Выполняем предсказания модели\")\n",
    "        \n",
    "\n",
    "        # Дополните код для получения предсказаний аплифта\n",
    "\n",
    "        \n",
    "        if self.logger:\n",
    "            self.logger.info(\"Предсказания успешно завершены\")\n",
    "            \n",
    "        return uplift\n"
   ]
  },
  {
   "cell_type": "code",
   "execution_count": null,
   "metadata": {},
   "outputs": [],
   "source": [
    "model = UpliftModelInference(model= # ваш код,\n",
    "                             feature_names= # ваш код)"
   ]
  },
  {
   "cell_type": "code",
   "execution_count": null,
   "metadata": {},
   "outputs": [],
   "source": [
    "test_data = pd.DataFrame({\n",
    "            'recency': [1, 2, 3],\n",
    "            'history_segment': [1, 2, 3], \n",
    "            'history': [100, 200, 300],\n",
    "            'mens': [1, 0, 1],\n",
    "            'womens': [0, 1, 0],\n",
    "            'zip_code': [1, 0, 1],\n",
    "            'newbie': [0, 1, 0],\n",
    "            'channel': [1, 2, 0]\n",
    "        })"
   ]
  },
  {
   "cell_type": "code",
   "execution_count": null,
   "metadata": {},
   "outputs": [],
   "source": [
    "# проверка работы класса\n",
    "model.predict(test_data)"
   ]
  }
 ],
 "metadata": {
  "kernelspec": {
   "display_name": "ya",
   "language": "python",
   "name": "python3"
  },
  "language_info": {
   "codemirror_mode": {
    "name": "ipython",
    "version": 3
   },
   "file_extension": ".py",
   "mimetype": "text/x-python",
   "name": "python",
   "nbconvert_exporter": "python",
   "pygments_lexer": "ipython3",
   "version": "3.11.13"
  }
 },
 "nbformat": 4,
 "nbformat_minor": 2
}
